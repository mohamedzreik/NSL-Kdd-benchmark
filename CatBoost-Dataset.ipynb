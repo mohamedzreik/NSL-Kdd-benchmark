{
 "cells": [
  {
   "cell_type": "code",
   "id": "initial_id",
   "metadata": {
    "collapsed": true,
    "ExecuteTime": {
     "end_time": "2025-06-26T05:50:13.262048Z",
     "start_time": "2025-06-26T05:50:10.930092Z"
    }
   },
   "source": [
    "import matplotlib.pyplot as plt\n",
    "import pandas as pd\n",
    "import numpy as np\n",
    "from catboost import CatBoostClassifier\n",
    "from sklearn.metrics import classification_report, confusion_matrix, accuracy_score, precision_recall_fscore_support\n",
    "import time\n",
    "import seaborn as sn"
   ],
   "outputs": [],
   "execution_count": 1
  },
  {
   "metadata": {
    "ExecuteTime": {
     "end_time": "2025-06-26T05:50:14.736730Z",
     "start_time": "2025-06-26T05:50:13.461843Z"
    }
   },
   "cell_type": "code",
   "source": [
    "X_test = pd.read_csv('Dataset/X_test.csv')\n",
    "y_test = pd.read_csv('Dataset/y_test.csv').iloc[:, 0]\n",
    "\n",
    "X_train_30 = pd.read_csv('Dataset/X_train_30.csv')\n",
    "y_train_30 = pd.read_csv('Dataset/y_train_30.csv').iloc[:, 0]\n",
    "\n",
    "X_train_60 = pd.read_csv('Dataset/X_train_60.csv')\n",
    "y_train_60 = pd.read_csv('Dataset/y_train_60.csv').iloc[:, 0]\n",
    "\n",
    "X_train_100 = pd.read_csv('Dataset/X_train_100.csv')\n",
    "y_train_100 = pd.read_csv('Dataset/y_train_100.csv').iloc[:, 0]"
   ],
   "id": "dbb0a898cbde3025",
   "outputs": [],
   "execution_count": 2
  },
  {
   "metadata": {
    "ExecuteTime": {
     "end_time": "2025-06-26T05:50:14.792726Z",
     "start_time": "2025-06-26T05:50:14.788182Z"
    }
   },
   "cell_type": "code",
   "source": "catboost_results = {}",
   "id": "38a922e92245d822",
   "outputs": [],
   "execution_count": 3
  },
  {
   "metadata": {
    "ExecuteTime": {
     "end_time": "2025-06-26T05:50:14.864340Z",
     "start_time": "2025-06-26T05:50:14.858605Z"
    }
   },
   "cell_type": "code",
   "source": "start_time = time.time()",
   "id": "4ae2b977660c3c4f",
   "outputs": [],
   "execution_count": 4
  },
  {
   "metadata": {
    "ExecuteTime": {
     "end_time": "2025-06-26T05:50:14.956220Z",
     "start_time": "2025-06-26T05:50:14.949441Z"
    }
   },
   "cell_type": "code",
   "source": "catboost_30 = CatBoostClassifier(random_state=42, verbose=False)",
   "id": "e924d53e21bab1d4",
   "outputs": [],
   "execution_count": 5
  },
  {
   "metadata": {
    "ExecuteTime": {
     "end_time": "2025-06-26T05:50:52.442194Z",
     "start_time": "2025-06-26T05:50:15.048076Z"
    }
   },
   "cell_type": "code",
   "source": "catboost_30.fit(X_train_30, y_train_30)",
   "id": "6b84e08611ad9731",
   "outputs": [
    {
     "data": {
      "text/plain": [
       "<catboost.core.CatBoostClassifier at 0x236f8852ba0>"
      ]
     },
     "execution_count": 6,
     "metadata": {},
     "output_type": "execute_result"
    }
   ],
   "execution_count": 6
  },
  {
   "metadata": {
    "ExecuteTime": {
     "end_time": "2025-06-26T05:50:52.491840Z",
     "start_time": "2025-06-26T05:50:52.486591Z"
    }
   },
   "cell_type": "code",
   "source": "train_time_30 = time.time() - start_time",
   "id": "758c6d1f05ab7595",
   "outputs": [],
   "execution_count": 7
  },
  {
   "metadata": {
    "ExecuteTime": {
     "end_time": "2025-06-26T05:50:52.572203Z",
     "start_time": "2025-06-26T05:50:52.567160Z"
    }
   },
   "cell_type": "code",
   "source": "start_time = time.time()",
   "id": "96af04238447265d",
   "outputs": [],
   "execution_count": 8
  },
  {
   "metadata": {
    "ExecuteTime": {
     "end_time": "2025-06-26T05:50:52.687997Z",
     "start_time": "2025-06-26T05:50:52.610764Z"
    }
   },
   "cell_type": "code",
   "source": "y_pred_30 = catboost_30.predict(X_test)",
   "id": "7c82700f0c1f8cc5",
   "outputs": [],
   "execution_count": 9
  },
  {
   "metadata": {
    "ExecuteTime": {
     "end_time": "2025-06-26T05:50:52.786964Z",
     "start_time": "2025-06-26T05:50:52.781024Z"
    }
   },
   "cell_type": "code",
   "source": "test_time_30 = time.time() - start_time",
   "id": "25a61efb2aef1b7f",
   "outputs": [],
   "execution_count": 10
  },
  {
   "metadata": {
    "ExecuteTime": {
     "end_time": "2025-06-26T05:50:52.868383Z",
     "start_time": "2025-06-26T05:50:52.852452Z"
    }
   },
   "cell_type": "code",
   "source": [
    "accuracy_30 = accuracy_score(y_test, y_pred_30)\n",
    "precision, recall, f1, _ = precision_recall_fscore_support(y_test, y_pred_30, average='weighted')"
   ],
   "id": "6b1bfbeb010917fa",
   "outputs": [],
   "execution_count": 11
  },
  {
   "metadata": {
    "ExecuteTime": {
     "end_time": "2025-06-26T05:50:52.932699Z",
     "start_time": "2025-06-26T05:50:52.926565Z"
    }
   },
   "cell_type": "code",
   "source": [
    "catboost_results['30%'] = {\n",
    "    'accuracy': accuracy_30,\n",
    "    'precision': precision,\n",
    "    'recall': recall,\n",
    "    'f1': f1,\n",
    "    'train_time': train_time_30,\n",
    "    'test_time': test_time_30,\n",
    "    'train_samples': len(X_train_30)\n",
    "}"
   ],
   "id": "89ae9d7b61862598",
   "outputs": [],
   "execution_count": 12
  },
  {
   "metadata": {
    "ExecuteTime": {
     "end_time": "2025-06-26T05:50:53.036527Z",
     "start_time": "2025-06-26T05:50:53.006071Z"
    }
   },
   "cell_type": "code",
   "source": [
    "print(f\"Accuracy: {accuracy_30:.4f}\")\n",
    "print(f\"Precision: {precision:.4f}\")\n",
    "print(f\"Recall: {recall:.4f}\")\n",
    "print(f\"F1-Score: {f1:.4f}\")\n",
    "print(f\"Training time: {train_time_30:.4f} seconds\")\n",
    "print(f\"Testing time: {test_time_30:.4f} seconds\")\n",
    "print(f\"Number of iterations: {catboost_30.get_param('iterations')}\")\n",
    "print(f\"Depth: {catboost_30.get_param('depth')}\")\n",
    "print(\"\\nClassification Report:\")\n",
    "print(classification_report(y_test, y_pred_30))"
   ],
   "id": "40b53ca006be3a8",
   "outputs": [
    {
     "name": "stdout",
     "output_type": "stream",
     "text": [
      "Accuracy: 0.9965\n",
      "Precision: 0.9974\n",
      "Recall: 0.9965\n",
      "F1-Score: 0.9969\n",
      "Training time: 37.6269 seconds\n",
      "Testing time: 0.2144 seconds\n",
      "Number of iterations: None\n",
      "Depth: None\n",
      "\n",
      "Classification Report:\n",
      "              precision    recall  f1-score   support\n",
      "\n",
      "           0       1.00      1.00      1.00     13778\n",
      "           1       0.99      1.00      0.99      3497\n",
      "           2       0.89      0.98      0.93       298\n",
      "           3       0.25      0.88      0.38        16\n",
      "           4       1.00      1.00      1.00     20203\n",
      "\n",
      "    accuracy                           1.00     37792\n",
      "   macro avg       0.83      0.97      0.86     37792\n",
      "weighted avg       1.00      1.00      1.00     37792\n",
      "\n"
     ]
    }
   ],
   "execution_count": 13
  },
  {
   "metadata": {},
   "cell_type": "markdown",
   "source": "### Train on 60%",
   "id": "e9f0a186f6d61a71"
  },
  {
   "metadata": {
    "ExecuteTime": {
     "end_time": "2025-06-26T05:50:53.104079Z",
     "start_time": "2025-06-26T05:50:53.098712Z"
    }
   },
   "cell_type": "code",
   "source": "start_time = time.time()",
   "id": "c2334602c28cabc4",
   "outputs": [],
   "execution_count": 14
  },
  {
   "metadata": {
    "ExecuteTime": {
     "end_time": "2025-06-26T05:50:53.176705Z",
     "start_time": "2025-06-26T05:50:53.172626Z"
    }
   },
   "cell_type": "code",
   "source": "catboost_60 = CatBoostClassifier(random_state=42, verbose=False)",
   "id": "7081d0a978b690d1",
   "outputs": [],
   "execution_count": 15
  },
  {
   "metadata": {
    "ExecuteTime": {
     "end_time": "2025-06-26T05:52:03.386277Z",
     "start_time": "2025-06-26T05:50:53.249190Z"
    }
   },
   "cell_type": "code",
   "source": "catboost_60.fit(X_train_60, y_train_60)",
   "id": "547ffcc2fc335d1a",
   "outputs": [
    {
     "data": {
      "text/plain": [
       "<catboost.core.CatBoostClassifier at 0x236f8934a50>"
      ]
     },
     "execution_count": 16,
     "metadata": {},
     "output_type": "execute_result"
    }
   ],
   "execution_count": 16
  },
  {
   "metadata": {
    "ExecuteTime": {
     "end_time": "2025-06-26T05:52:03.461026Z",
     "start_time": "2025-06-26T05:52:03.456312Z"
    }
   },
   "cell_type": "code",
   "source": "train_time_60 = time.time() - start_time",
   "id": "218640be3a6d757c",
   "outputs": [],
   "execution_count": 17
  },
  {
   "metadata": {
    "ExecuteTime": {
     "end_time": "2025-06-26T05:52:03.531434Z",
     "start_time": "2025-06-26T05:52:03.526141Z"
    }
   },
   "cell_type": "code",
   "source": "start_time = time.time()",
   "id": "d5987862a113e78",
   "outputs": [],
   "execution_count": 18
  },
  {
   "metadata": {
    "ExecuteTime": {
     "end_time": "2025-06-26T05:52:03.711964Z",
     "start_time": "2025-06-26T05:52:03.607581Z"
    }
   },
   "cell_type": "code",
   "source": "y_pred_60 = catboost_60.predict(X_test)",
   "id": "7b81cecb7750d157",
   "outputs": [],
   "execution_count": 19
  },
  {
   "metadata": {
    "ExecuteTime": {
     "end_time": "2025-06-26T05:52:03.765966Z",
     "start_time": "2025-06-26T05:52:03.758901Z"
    }
   },
   "cell_type": "code",
   "source": "test_time_60 = time.time() - start_time",
   "id": "349dbe1001707dd3",
   "outputs": [],
   "execution_count": 20
  },
  {
   "metadata": {
    "ExecuteTime": {
     "end_time": "2025-06-26T05:52:03.855323Z",
     "start_time": "2025-06-26T05:52:03.840898Z"
    }
   },
   "cell_type": "code",
   "source": [
    "accuracy_60 = accuracy_score(y_test, y_pred_60)\n",
    "precision, recall, f1, _ = precision_recall_fscore_support(y_test, y_pred_60, average='weighted')"
   ],
   "id": "747d6d793c3509ff",
   "outputs": [],
   "execution_count": 21
  },
  {
   "metadata": {
    "ExecuteTime": {
     "end_time": "2025-06-26T05:52:03.953593Z",
     "start_time": "2025-06-26T05:52:03.948131Z"
    }
   },
   "cell_type": "code",
   "source": [
    "catboost_results['60%'] = {\n",
    "    'accuracy': accuracy_60,\n",
    "    'precision': precision,\n",
    "    'recall': recall,\n",
    "    'f1': f1,\n",
    "    'train_time': train_time_60,\n",
    "    'test_time': test_time_60,\n",
    "    'train_samples': len(X_train_60)\n",
    "}"
   ],
   "id": "df229f6dc349252c",
   "outputs": [],
   "execution_count": 22
  },
  {
   "metadata": {
    "ExecuteTime": {
     "end_time": "2025-06-26T05:52:04.065668Z",
     "start_time": "2025-06-26T05:52:04.029092Z"
    }
   },
   "cell_type": "code",
   "source": [
    "print(f\"Accuracy: {accuracy_60:.4f}\")\n",
    "print(f\"Precision: {precision:.4f}\")\n",
    "print(f\"Recall: {recall:.4f}\")\n",
    "print(f\"F1-Score: {f1:.4f}\")\n",
    "print(f\"Training time: {train_time_60:.4f} seconds\")\n",
    "print(f\"Testing time: {test_time_60:.4f} seconds\")\n",
    "print(f\"Number of iterations: {catboost_60.get_param('iterations')}\")\n",
    "print(f\"Depth: {catboost_60.get_param('depth')}\")\n",
    "print(\"\\nClassification Report:\")\n",
    "print(classification_report(y_test, y_pred_60))"
   ],
   "id": "3391b6bc3f7f11a4",
   "outputs": [
    {
     "name": "stdout",
     "output_type": "stream",
     "text": [
      "Accuracy: 0.9975\n",
      "Precision: 0.9981\n",
      "Recall: 0.9975\n",
      "F1-Score: 0.9977\n",
      "Training time: 70.3573 seconds\n",
      "Testing time: 0.2326 seconds\n",
      "Number of iterations: None\n",
      "Depth: None\n",
      "\n",
      "Classification Report:\n",
      "              precision    recall  f1-score   support\n",
      "\n",
      "           0       1.00      1.00      1.00     13778\n",
      "           1       0.99      1.00      1.00      3497\n",
      "           2       0.94      0.98      0.96       298\n",
      "           3       0.29      0.81      0.43        16\n",
      "           4       1.00      1.00      1.00     20203\n",
      "\n",
      "    accuracy                           1.00     37792\n",
      "   macro avg       0.84      0.96      0.88     37792\n",
      "weighted avg       1.00      1.00      1.00     37792\n",
      "\n"
     ]
    }
   ],
   "execution_count": 23
  },
  {
   "metadata": {},
   "cell_type": "markdown",
   "source": "### Train on 100%",
   "id": "27b0601dbcf635ca"
  },
  {
   "metadata": {
    "ExecuteTime": {
     "end_time": "2025-06-26T05:52:04.123116Z",
     "start_time": "2025-06-26T05:52:04.118845Z"
    }
   },
   "cell_type": "code",
   "source": "start_time = time.time()",
   "id": "59b616eb455c00c5",
   "outputs": [],
   "execution_count": 24
  },
  {
   "metadata": {
    "ExecuteTime": {
     "end_time": "2025-06-26T05:52:04.201423Z",
     "start_time": "2025-06-26T05:52:04.196934Z"
    }
   },
   "cell_type": "code",
   "source": "catboost_100 = CatBoostClassifier(random_state=42, verbose=False)",
   "id": "12863afcb881030d",
   "outputs": [],
   "execution_count": 25
  },
  {
   "metadata": {
    "ExecuteTime": {
     "end_time": "2025-06-26T05:54:42.748297Z",
     "start_time": "2025-06-26T05:52:04.293551Z"
    }
   },
   "cell_type": "code",
   "source": "catboost_100.fit(X_train_100, y_train_100)",
   "id": "55ff1756d0ae0d5",
   "outputs": [
    {
     "data": {
      "text/plain": [
       "<catboost.core.CatBoostClassifier at 0x236f8934b90>"
      ]
     },
     "execution_count": 26,
     "metadata": {},
     "output_type": "execute_result"
    }
   ],
   "execution_count": 26
  },
  {
   "metadata": {
    "ExecuteTime": {
     "end_time": "2025-06-26T05:54:42.892174Z",
     "start_time": "2025-06-26T05:54:42.872506Z"
    }
   },
   "cell_type": "code",
   "source": "train_time_100 = time.time() - start_time",
   "id": "225fac3e61e8d81e",
   "outputs": [],
   "execution_count": 27
  },
  {
   "metadata": {
    "ExecuteTime": {
     "end_time": "2025-06-26T05:54:44.684401Z",
     "start_time": "2025-06-26T05:54:43.179459Z"
    }
   },
   "cell_type": "code",
   "source": [
    "y_train_pred_100 = catboost_100.predict(X_train_100)\n",
    "train_accuracy_100 = accuracy_score(y_train_100, y_train_pred_100)\n",
    "train_precision_100, train_recall_100, train_f1_100, _ = precision_recall_fscore_support(y_train_100, y_train_pred_100, average='weighted')"
   ],
   "id": "7e0bd45aea6b316b",
   "outputs": [],
   "execution_count": 28
  },
  {
   "metadata": {
    "ExecuteTime": {
     "end_time": "2025-06-26T05:54:44.825818Z",
     "start_time": "2025-06-26T05:54:44.818204Z"
    }
   },
   "cell_type": "code",
   "source": "start_time = time.time()",
   "id": "8316074d3b00055f",
   "outputs": [],
   "execution_count": 29
  },
  {
   "metadata": {
    "ExecuteTime": {
     "end_time": "2025-06-26T05:54:45.342679Z",
     "start_time": "2025-06-26T05:54:45.021841Z"
    }
   },
   "cell_type": "code",
   "source": "y_pred_100 = catboost_100.predict(X_test)",
   "id": "37db6953a1fc29ef",
   "outputs": [],
   "execution_count": 30
  },
  {
   "metadata": {
    "ExecuteTime": {
     "end_time": "2025-06-26T05:54:45.492045Z",
     "start_time": "2025-06-26T05:54:45.485945Z"
    }
   },
   "cell_type": "code",
   "source": "test_time_100 = time.time() - start_time",
   "id": "97df4dc5c4be7fc",
   "outputs": [],
   "execution_count": 31
  },
  {
   "metadata": {
    "ExecuteTime": {
     "end_time": "2025-06-26T05:54:45.692212Z",
     "start_time": "2025-06-26T05:54:45.666365Z"
    }
   },
   "cell_type": "code",
   "source": [
    "accuracy_100 = accuracy_score(y_test, y_pred_100)\n",
    "precision, recall, f1, _ = precision_recall_fscore_support(y_test, y_pred_100, average='weighted')"
   ],
   "id": "36d108e73c82a680",
   "outputs": [],
   "execution_count": 32
  },
  {
   "metadata": {
    "ExecuteTime": {
     "end_time": "2025-06-26T05:54:45.958749Z",
     "start_time": "2025-06-26T05:54:45.948034Z"
    }
   },
   "cell_type": "code",
   "source": [
    "catboost_results['100%'] = {\n",
    "    'train_accuracy': train_accuracy_100,\n",
    "    'train_precision': train_precision_100,\n",
    "    'train_recall': train_recall_100,\n",
    "    'train_f1': train_f1_100,\n",
    "    'test_accuracy': accuracy_100,\n",
    "    'test_precision': precision,\n",
    "    'test_recall': recall,\n",
    "    'test_f1': f1,\n",
    "    'train_time': train_time_100,\n",
    "    'test_time': test_time_100,\n",
    "    'train_samples': len(X_train_100)\n",
    "}"
   ],
   "id": "97dc723c389f97ac",
   "outputs": [],
   "execution_count": 33
  },
  {
   "metadata": {
    "ExecuteTime": {
     "end_time": "2025-06-26T05:54:46.255391Z",
     "start_time": "2025-06-26T05:54:46.181751Z"
    }
   },
   "cell_type": "code",
   "source": [
    "print(f\"Training Accuracy: {train_accuracy_100:.4f}\")\n",
    "print(f\"Test Accuracy: {accuracy_100:.4f}\")\n",
    "print(f\"Accuracy Gap: {(train_accuracy_100 - accuracy_100)*100:.3f}%\")\n",
    "print(f\"Training F1-Score: {train_f1_100:.4f}\")\n",
    "print(f\"Test F1-Score: {f1:.4f}\")\n",
    "print(f\"F1 Gap: {(train_f1_100 - f1)*100:.3f}%\")\n",
    "print(f\"Training time: {train_time_100:.4f} seconds\")\n",
    "print(f\"Testing time: {test_time_100:.4f} seconds\")\n",
    "print(f\"Number of iterations: {catboost_100.get_param('iterations')}\")\n",
    "print(f\"Depth: {catboost_100.get_param('depth')}\")\n",
    "print(\"\\nTest Set Classification Report:\")\n",
    "print(classification_report(y_test, y_pred_100))"
   ],
   "id": "9b5ff9d705fddfbe",
   "outputs": [
    {
     "name": "stdout",
     "output_type": "stream",
     "text": [
      "Training Accuracy: 0.9997\n",
      "Test Accuracy: 0.9977\n",
      "Accuracy Gap: 0.204%\n",
      "Training F1-Score: 0.9997\n",
      "Test F1-Score: 0.9979\n",
      "F1 Gap: 0.182%\n",
      "Training time: 158.7677 seconds\n",
      "Testing time: 0.6671 seconds\n",
      "Number of iterations: None\n",
      "Depth: None\n",
      "\n",
      "Test Set Classification Report:\n",
      "              precision    recall  f1-score   support\n",
      "\n",
      "           0       1.00      1.00      1.00     13778\n",
      "           1       1.00      1.00      1.00      3497\n",
      "           2       0.95      0.98      0.97       298\n",
      "           3       0.29      0.81      0.43        16\n",
      "           4       1.00      1.00      1.00     20203\n",
      "\n",
      "    accuracy                           1.00     37792\n",
      "   macro avg       0.85      0.96      0.88     37792\n",
      "weighted avg       1.00      1.00      1.00     37792\n",
      "\n"
     ]
    }
   ],
   "execution_count": 34
  },
  {
   "metadata": {
    "ExecuteTime": {
     "end_time": "2025-06-26T06:16:23.007425Z",
     "start_time": "2025-06-26T06:16:21.808887Z"
    }
   },
   "cell_type": "code",
   "source": [
    "catboost_30 = confusion_matrix(y_test, y_pred_30)\n",
    "catboost_60 = confusion_matrix(y_test, y_pred_60)\n",
    "catboost_100 = confusion_matrix(y_test, y_pred_100)\n",
    "fig, axes = plt.subplots(1, 3, figsize=(15, 4))\n",
    "\n",
    "# 30% training data\n",
    "sn.heatmap(catboost_30, annot=True, fmt='d', cmap='Blues', ax=axes[0])\n",
    "axes[0].set_title('C4.5 - 30% Training Data')\n",
    "axes[0].set_xlabel('Predicted')\n",
    "axes[0].set_ylabel('Actual')\n",
    "\n",
    "# 60% training data\n",
    "sn.heatmap(catboost_60, annot=True, fmt='d', cmap='Blues', ax=axes[1])\n",
    "axes[1].set_title('Catboost - 60% Training Data')\n",
    "axes[1].set_xlabel('Predicted')\n",
    "axes[1].set_ylabel('Actual')\n",
    "\n",
    "# 100% training data\n",
    "sn.heatmap(catboost_100, annot=True, fmt='d', cmap='Blues', ax=axes[2])\n",
    "axes[2].set_title('Catboost - 100% Training Data')\n",
    "axes[2].set_xlabel('Predicted')\n",
    "axes[2].set_ylabel('Actual')\n",
    "\n",
    "plt.tight_layout()\n",
    "plt.show()\n",
    "\n",
    "# Print confusion matrices\n",
    "print(\"Confusion Matrix - 30% Training Data:\")\n",
    "print(catboost_30)\n",
    "print(\"\\nConfusion Matrix - 60% Training Data:\")\n",
    "print(catboost_60)\n",
    "print(\"\\nConfusion Matrix - 100% Training Data:\")\n",
    "print(catboost_100)"
   ],
   "id": "b7a68529043c11fb",
   "outputs": [
    {
     "data": {
      "text/plain": [
       "<Figure size 1500x400 with 6 Axes>"
      ],
      "image/png": "[encoded data removed]"
     },
     "metadata": {},
     "output_type": "display_data"
    },
    {
     "name": "stdout",
     "output_type": "stream",
     "text": [
      "Confusion Matrix - 30% Training Data:\n",
      "[[13770     4     0     0     4]\n",
      " [    1  3483     0     0    13]\n",
      " [    0     0   291     4     3]\n",
      " [    0     0     1    14     1]\n",
      " [    8    19    34    39 20103]]\n",
      "\n",
      "Confusion Matrix - 60% Training Data:\n",
      "[[13772     3     0     0     3]\n",
      " [    1  3487     0     0     9]\n",
      " [    0     0   292     1     5]\n",
      " [    0     0     1    13     2]\n",
      " [    4    16    19    31 20133]]\n",
      "\n",
      "Confusion Matrix - 100% Training Data:\n",
      "[[13774     2     0     0     2]\n",
      " [    1  3485     0     0    11]\n",
      " [    0     0   291     1     6]\n",
      " [    0     0     1    13     2]\n",
      " [    6    11    13    31 20142]]\n"
     ]
    }
   ],
   "execution_count": 37
  },
  {
   "metadata": {
    "ExecuteTime": {
     "end_time": "2025-06-26T12:50:59.442082Z",
     "start_time": "2025-06-26T12:36:41.603761Z"
    }
   },
   "cell_type": "code",
   "source": [
    "from sklearn.metrics import roc_auc_score, roc_curve\n",
    "import matplotlib.pyplot as plt\n",
    "import numpy as np\n",
    "\n",
    "# First, we need to recreate the models since the variable names were overwritten by confusion matrices\n",
    "# Recreate the CatBoost models\n",
    "catboost_30 = CatBoostClassifier(random_state=42, verbose=False)\n",
    "catboost_30.fit(X_train_30, y_train_30)\n",
    "\n",
    "catboost_60 = CatBoostClassifier(random_state=42, verbose=False)\n",
    "catboost_60.fit(X_train_60, y_train_60)\n",
    "\n",
    "catboost_100 = CatBoostClassifier(random_state=42, verbose=False)\n",
    "catboost_100.fit(X_train_100, y_train_100)\n",
    "\n",
    "# Get prediction probabilities for all models (CatBoost has predict_proba)\n",
    "y_pred_proba_30 = catboost_30.predict_proba(X_test)\n",
    "y_pred_proba_60 = catboost_60.predict_proba(X_test)\n",
    "y_pred_proba_100 = catboost_100.predict_proba(X_test)\n",
    "\n",
    "# Check number of classes\n",
    "n_classes = len(np.unique(y_test))\n",
    "print(f\"Number of classes: {n_classes}\")\n",
    "print(f\"Classes: {np.unique(y_test)}\")\n",
    "\n",
    "# Calculate ROC AUC for multiclass classification\n",
    "roc_auc_30 = roc_auc_score(y_test, y_pred_proba_30, multi_class='ovr', average='macro')\n",
    "roc_auc_60 = roc_auc_score(y_test, y_pred_proba_60, multi_class='ovr', average='macro')\n",
    "roc_auc_100 = roc_auc_score(y_test, y_pred_proba_100, multi_class='ovr', average='macro')\n",
    "\n",
    "print(\"\\n=== ROC AUC Scores (Macro Average) ===\")\n",
    "print(f\"ROC AUC for 30% training data:  {roc_auc_30:.4f}\")\n",
    "print(f\"ROC AUC for 60% training data:  {roc_auc_60:.4f}\")\n",
    "print(f\"ROC AUC for 100% training data: {roc_auc_100:.4f}\")\n",
    "\n",
    "# Also calculate weighted average ROC AUC\n",
    "roc_auc_30_weighted = roc_auc_score(y_test, y_pred_proba_30, multi_class='ovr', average='weighted')\n",
    "roc_auc_60_weighted = roc_auc_score(y_test, y_pred_proba_60, multi_class='ovr', average='weighted')\n",
    "roc_auc_100_weighted = roc_auc_score(y_test, y_pred_proba_100, multi_class='ovr', average='weighted')\n",
    "\n",
    "print(\"\\n=== ROC AUC Scores (Weighted Average) ===\")\n",
    "print(f\"ROC AUC for 30% training data:  {roc_auc_30_weighted:.4f}\")\n",
    "print(f\"ROC AUC for 60% training data:  {roc_auc_60_weighted:.4f}\")\n",
    "print(f\"ROC AUC for 100% training data: {roc_auc_100_weighted:.4f}\")\n",
    "\n",
    "# Fix the results dictionary structure for consistency\n",
    "# Assuming you have catboost_results dictionary similar to other models\n",
    "catboost_results['30%']['roc_auc_macro'] = roc_auc_30\n",
    "catboost_results['30%']['roc_auc_weighted'] = roc_auc_30_weighted\n",
    "\n",
    "catboost_results['60%']['roc_auc_macro'] = roc_auc_60\n",
    "catboost_results['60%']['roc_auc_weighted'] = roc_auc_60_weighted\n",
    "\n",
    "# Fix the 100% results structure if needed (adjust based on your actual structure)\n",
    "if 'test_accuracy' in catboost_results['100%']:\n",
    "    catboost_results['100%']['accuracy'] = catboost_results['100%']['test_accuracy']\n",
    "    catboost_results['100%']['precision'] = catboost_results['100%']['test_precision']\n",
    "    catboost_results['100%']['recall'] = catboost_results['100%']['test_recall']\n",
    "    catboost_results['100%']['f1'] = catboost_results['100%']['test_f1']\n",
    "\n",
    "catboost_results['100%']['roc_auc_macro'] = roc_auc_100\n",
    "catboost_results['100%']['roc_auc_weighted'] = roc_auc_100_weighted\n",
    "\n",
    "# Now create the comprehensive visualization\n",
    "sizes = ['30%', '60%', '100%']\n",
    "accuracies = [catboost_results[size]['accuracy'] for size in sizes]\n",
    "f1_scores = [catboost_results[size]['f1'] for size in sizes]\n",
    "train_times = [catboost_results[size]['train_time'] for size in sizes]\n",
    "roc_macro = [catboost_results[size]['roc_auc_macro'] for size in sizes]\n",
    "roc_weighted = [catboost_results[size]['roc_auc_weighted'] for size in sizes]\n",
    "\n",
    "fig, ((ax1, ax2), (ax3, ax4)) = plt.subplots(2, 2, figsize=(15, 10))\n",
    "\n",
    "# 1. Performance metrics comparison\n",
    "x_pos = np.arange(len(sizes))\n",
    "width = 0.35\n",
    "\n",
    "ax1.bar(x_pos - width/2, accuracies, width, label='Accuracy', alpha=0.8, color='skyblue')\n",
    "ax1.bar(x_pos + width/2, f1_scores, width, label='F1-Score', alpha=0.8, color='lightcoral')\n",
    "ax1.set_title('CatBoost: Accuracy vs F1-Score', fontsize=14, fontweight='bold')\n",
    "ax1.set_ylabel('Score')\n",
    "ax1.set_xticks(x_pos)\n",
    "ax1.set_xticklabels(sizes)\n",
    "ax1.legend()\n",
    "ax1.grid(True, alpha=0.3)\n",
    "# Adjust y-limits based on your actual performance range\n",
    "y_min = min(min(accuracies), min(f1_scores)) - 0.01\n",
    "y_max = max(max(accuracies), max(f1_scores)) + 0.01\n",
    "ax1.set_ylim(y_min, y_max)\n",
    "\n",
    "# Add value labels on bars\n",
    "for i, (acc, f1) in enumerate(zip(accuracies, f1_scores)):\n",
    "    ax1.text(i - width/2, acc + 0.0001, f'{acc:.4f}', ha='center', fontweight='bold')\n",
    "    ax1.text(i + width/2, f1 + 0.0001, f'{f1:.4f}', ha='center', fontweight='bold')\n",
    "\n",
    "# 2. ROC AUC comparison\n",
    "ax2.bar(x_pos - width/2, roc_macro, width, label='ROC AUC (Macro)', alpha=0.8, color='lightgreen')\n",
    "ax2.bar(x_pos + width/2, roc_weighted, width, label='ROC AUC (Weighted)', alpha=0.8, color='gold')\n",
    "ax2.set_title('CatBoost: ROC AUC Scores', fontsize=14, fontweight='bold')\n",
    "ax2.set_ylabel('ROC AUC Score')\n",
    "ax2.set_xticks(x_pos)\n",
    "ax2.set_xticklabels(sizes)\n",
    "ax2.legend()\n",
    "ax2.grid(True, alpha=0.3)\n",
    "# Adjust y-limits based on ROC AUC range\n",
    "roc_min = min(min(roc_macro), min(roc_weighted)) - 0.005\n",
    "roc_max = max(max(roc_macro), max(roc_weighted)) + 0.005\n",
    "ax2.set_ylim(roc_min, roc_max)\n",
    "\n",
    "# Add value labels\n",
    "for i, (macro, weighted) in enumerate(zip(roc_macro, roc_weighted)):\n",
    "    ax2.text(i - width/2, macro + 0.0001, f'{macro:.4f}', ha='center', fontweight='bold')\n",
    "    ax2.text(i + width/2, weighted + 0.0001, f'{weighted:.4f}', ha='center', fontweight='bold')\n",
    "\n",
    "# 3. Training time\n",
    "bars = ax3.bar(sizes, train_times, color='purple', alpha=0.7)\n",
    "ax3.set_title('CatBoost: Training Time', fontsize=14, fontweight='bold')\n",
    "ax3.set_ylabel('Time (seconds)')\n",
    "ax3.grid(True, alpha=0.3)\n",
    "\n",
    "for i, v in enumerate(train_times):\n",
    "    ax3.text(i, v + max(train_times)*0.01, f'{v:.1f}s', ha='center', fontweight='bold')\n",
    "\n",
    "# 4. Performance improvement trend\n",
    "improvements_acc = [(acc - accuracies[0])*100 for acc in accuracies]\n",
    "improvements_f1 = [(f1 - f1_scores[0])*100 for f1 in f1_scores]\n",
    "\n",
    "ax4.plot(sizes, improvements_acc, 'o-', linewidth=3, markersize=8, label='Accuracy Improvement', color='blue')\n",
    "ax4.plot(sizes, improvements_f1, 's-', linewidth=3, markersize=8, label='F1-Score Improvement', color='red')\n",
    "ax4.set_title('Performance Improvement vs 30%', fontsize=14, fontweight='bold')\n",
    "ax4.set_ylabel('Improvement (%)')\n",
    "ax4.legend()\n",
    "ax4.grid(True, alpha=0.3)\n",
    "ax4.axhline(y=0, color='black', linestyle='--', alpha=0.5)\n",
    "\n",
    "for i, (acc_imp, f1_imp) in enumerate(zip(improvements_acc, improvements_f1)):\n",
    "    ax4.text(i, acc_imp + 0.001, f'+{acc_imp:.3f}%', ha='center', fontweight='bold', color='blue')\n",
    "    ax4.text(i, f1_imp - 0.001, f'+{f1_imp:.3f}%', ha='center', fontweight='bold', color='red')\n",
    "\n",
    "plt.tight_layout()\n",
    "plt.show()\n",
    "\n",
    "# Print comprehensive summary\n",
    "print(f\"\\n=== CatBoost Performance Summary ===\")\n",
    "for size in sizes:\n",
    "    print(f\"\\nCatBoost {size}:\")\n",
    "    print(f\"  Accuracy: {catboost_results[size]['accuracy']:.4f}\")\n",
    "    print(f\"  F1-Score: {catboost_results[size]['f1']:.4f}\")\n",
    "    print(f\"  ROC AUC (Macro): {catboost_results[size]['roc_auc_macro']:.4f}\")\n",
    "    print(f\"  ROC AUC (Weighted): {catboost_results[size]['roc_auc_weighted']:.4f}\")\n",
    "    print(f\"  Training Time: {catboost_results[size]['train_time']:.3f}s\")\n",
    "    print(f\"  Training Samples: {catboost_results[size]['train_samples']:,}\")\n",
    "\n",
    "# Key insights\n",
    "print(f\"\\n=== Key Insights ===\")\n",
    "print(f\"• Best Accuracy: {max(accuracies):.4f} with {sizes[np.argmax(accuracies)]} training data\")\n",
    "print(f\"• Best F1-Score: {max(f1_scores):.4f} with {sizes[np.argmax(f1_scores)]} training data\")\n",
    "print(f\"• Best ROC AUC (Macro): {max(roc_macro):.4f} with {sizes[np.argmax(roc_macro)]} training data\")\n",
    "print(f\"• Training time scales with data size and tree complexity\")\n",
    "print(f\"• Performance improvement from 30% to 100%:\")\n",
    "print(f\"  - Accuracy: +{(accuracies[-1] - accuracies[0])*100:.3f}%\")\n",
    "print(f\"  - F1-Score: +{(f1_scores[-1] - f1_scores[0])*100:.3f}%\")\n",
    "print(f\"  - ROC AUC: +{(roc_macro[-1] - roc_macro[0])*100:.3f}%\")\n",
    "\n",
    "# Performance per training sample efficiency\n",
    "print(f\"\\n=== Efficiency Analysis ===\")\n",
    "for i, size in enumerate(sizes):\n",
    "    samples = catboost_results[size]['train_samples']\n",
    "    acc_per_1k = accuracies[i] / (samples / 1000)\n",
    "    time_per_1k = train_times[i] / (samples / 1000)\n",
    "    print(f\"{size}: {acc_per_1k:.6f} accuracy per 1K samples, {time_per_1k:.3f}s per 1K samples\")\n",
    "\n",
    "# Additional CatBoost specific insights\n",
    "print(f\"\\n=== CatBoost Specific Insights ===\")\n",
    "print(f\"• Number of iterations (trees): {catboost_100.get_param('iterations')}\")\n",
    "print(f\"• Learning rate: {catboost_100.get_param('learning_rate')}\")\n",
    "print(f\"• Depth: {catboost_100.get_param('depth')}\")\n",
    "print(f\"• L2 regularization: {catboost_100.get_param('l2_leaf_reg')}\")\n",
    "print(f\"• Border count: {catboost_100.get_param('border_count')}\")\n",
    "print(f\"• Loss function: {catboost_100.get_param('loss_function')}\")\n",
    "print(f\"• Eval metric: {catboost_100.get_param('eval_metric')}\")\n",
    "print(f\"• Bootstrap type: {catboost_100.get_param('bootstrap_type')}\")\n",
    "print(f\"• Bagging temperature: {catboost_100.get_param('bagging_temperature')}\")\n",
    "print(f\"• Random strength: {catboost_100.get_param('random_strength')}\")\n",
    "print(f\"• One hot max size: {catboost_100.get_param('one_hot_max_size')}\")\n",
    "print(f\"• Leaf estimation method: {catboost_100.get_param('leaf_estimation_method')}\")\n",
    "print(f\"• Grow policy: {catboost_100.get_param('grow_policy')}\")\n",
    "\n",
    "print(f\"\\n=== CatBoost Unique Features ===\")\n",
    "print(f\"• Built-in categorical feature handling: Yes\")\n",
    "print(f\"• Automatic feature scaling: Yes\")\n",
    "print(f\"• Ordered boosting: Yes (reduces overfitting)\")\n",
    "print(f\"• GPU acceleration: Available\")\n",
    "print(f\"• Built-in cross-validation: Yes\")\n",
    "print(f\"• Feature importance: Yes\")\n",
    "print(f\"• SHAP values support: Yes\")\n",
    "print(f\"• Text features support: Yes\")\n",
    "print(f\"• Embedding features support: Yes\")\n",
    "print(f\"• Monotonic constraints: Yes\")\n",
    "print(f\"• Missing value handling: Automatic\")\n",
    "print(f\"• Model analysis tools: Extensive\")\n",
    "\n",
    "# Feature importance analysis (if available)\n",
    "if hasattr(catboost_100, 'get_feature_importance'):\n",
    "    print(f\"\\n=== Feature Importance Analysis ===\")\n",
    "    try:\n",
    "        feature_importance = catboost_100.get_feature_importance()\n",
    "        if len(feature_importance) > 0:\n",
    "            top_features = np.argsort(feature_importance)[-10:][::-1]  # Top 10 features\n",
    "            print(\"Top 10 most important features:\")\n",
    "            for i, feat_idx in enumerate(top_features):\n",
    "                print(f\"  {i+1}. Feature {feat_idx}: {feature_importance[feat_idx]:.4f}\")\n",
    "            print(f\"• Total features used: {len(feature_importance)}\")\n",
    "            print(f\"• Features with zero importance: {np.sum(feature_importance == 0)}\")\n",
    "        else:\n",
    "            print(\"Feature importance not available or empty\")\n",
    "    except Exception as e:\n",
    "        print(f\"Feature importance extraction failed: {e}\")\n",
    "\n",
    "# Model complexity analysis\n",
    "print(f\"\\n=== Model Complexity Analysis ===\")\n",
    "print(f\"• Tree count: {catboost_100.tree_count_}\")\n",
    "print(f\"• Feature count: {catboost_100.feature_count_}\")\n",
    "print(f\"• Classes count: {catboost_100.classes_count_}\")\n",
    "if hasattr(catboost_100, 'evals_result_'):\n",
    "    print(f\"• Training evaluation available: Yes\")\n",
    "else:\n",
    "    print(f\"• Training evaluation available: No (use eval_set for training metrics)\")"
   ],
   "id": "8f7cf7a709a279cc",
   "outputs": [
    {
     "ename": "KeyboardInterrupt",
     "evalue": "",
     "output_type": "error",
     "traceback": [
      "\u001B[31m---------------------------------------------------------------------------\u001B[39m",
      "\u001B[31mKeyboardInterrupt\u001B[39m                         Traceback (most recent call last)",
      "\u001B[36mCell\u001B[39m\u001B[36m \u001B[39m\u001B[32mIn[38]\u001B[39m\u001B[32m, line 14\u001B[39m\n\u001B[32m     11\u001B[39m catboost_60.fit(X_train_60, y_train_60)\n\u001B[32m     13\u001B[39m catboost_100 = CatBoostClassifier(random_state=\u001B[32m42\u001B[39m, verbose=\u001B[38;5;28;01mFalse\u001B[39;00m)\n\u001B[32m---> \u001B[39m\u001B[32m14\u001B[39m \u001B[43mcatboost_100\u001B[49m\u001B[43m.\u001B[49m\u001B[43mfit\u001B[49m\u001B[43m(\u001B[49m\u001B[43mX_train_100\u001B[49m\u001B[43m,\u001B[49m\u001B[43m \u001B[49m\u001B[43my_train_100\u001B[49m\u001B[43m)\u001B[49m\n\u001B[32m     16\u001B[39m \u001B[38;5;66;03m# Get prediction probabilities for all models (CatBoost has predict_proba)\u001B[39;00m\n\u001B[32m     17\u001B[39m y_pred_proba_30 = catboost_30.predict_proba(X_test)\n",
      "\u001B[36mFile \u001B[39m\u001B[32m~\\AppData\\Local\\Programs\\Python\\Python313\\Lib\\site-packages\\catboost\\core.py:5245\u001B[39m, in \u001B[36mCatBoostClassifier.fit\u001B[39m\u001B[34m(self, X, y, cat_features, text_features, embedding_features, graph, sample_weight, baseline, use_best_model, eval_set, verbose, logging_level, plot, plot_file, column_description, verbose_eval, metric_period, silent, early_stopping_rounds, save_snapshot, snapshot_file, snapshot_interval, init_model, callbacks, log_cout, log_cerr)\u001B[39m\n\u001B[32m   5242\u001B[39m \u001B[38;5;28;01mif\u001B[39;00m \u001B[33m'\u001B[39m\u001B[33mloss_function\u001B[39m\u001B[33m'\u001B[39m \u001B[38;5;129;01min\u001B[39;00m params:\n\u001B[32m   5243\u001B[39m     CatBoostClassifier._check_is_compatible_loss(params[\u001B[33m'\u001B[39m\u001B[33mloss_function\u001B[39m\u001B[33m'\u001B[39m])\n\u001B[32m-> \u001B[39m\u001B[32m5245\u001B[39m \u001B[38;5;28;43mself\u001B[39;49m\u001B[43m.\u001B[49m\u001B[43m_fit\u001B[49m\u001B[43m(\u001B[49m\u001B[43mX\u001B[49m\u001B[43m,\u001B[49m\u001B[43m \u001B[49m\u001B[43my\u001B[49m\u001B[43m,\u001B[49m\u001B[43m \u001B[49m\u001B[43mcat_features\u001B[49m\u001B[43m,\u001B[49m\u001B[43m \u001B[49m\u001B[43mtext_features\u001B[49m\u001B[43m,\u001B[49m\u001B[43m \u001B[49m\u001B[43membedding_features\u001B[49m\u001B[43m,\u001B[49m\u001B[43m \u001B[49m\u001B[38;5;28;43;01mNone\u001B[39;49;00m\u001B[43m,\u001B[49m\u001B[43m \u001B[49m\u001B[43mgraph\u001B[49m\u001B[43m,\u001B[49m\u001B[43m \u001B[49m\u001B[43msample_weight\u001B[49m\u001B[43m,\u001B[49m\u001B[43m \u001B[49m\u001B[38;5;28;43;01mNone\u001B[39;49;00m\u001B[43m,\u001B[49m\u001B[43m \u001B[49m\u001B[38;5;28;43;01mNone\u001B[39;49;00m\u001B[43m,\u001B[49m\u001B[43m \u001B[49m\u001B[38;5;28;43;01mNone\u001B[39;49;00m\u001B[43m,\u001B[49m\u001B[43m \u001B[49m\u001B[38;5;28;43;01mNone\u001B[39;49;00m\u001B[43m,\u001B[49m\u001B[43m \u001B[49m\u001B[43mbaseline\u001B[49m\u001B[43m,\u001B[49m\u001B[43m \u001B[49m\u001B[43muse_best_model\u001B[49m\u001B[43m,\u001B[49m\n\u001B[32m   5246\u001B[39m \u001B[43m          \u001B[49m\u001B[43meval_set\u001B[49m\u001B[43m,\u001B[49m\u001B[43m \u001B[49m\u001B[43mverbose\u001B[49m\u001B[43m,\u001B[49m\u001B[43m \u001B[49m\u001B[43mlogging_level\u001B[49m\u001B[43m,\u001B[49m\u001B[43m \u001B[49m\u001B[43mplot\u001B[49m\u001B[43m,\u001B[49m\u001B[43m \u001B[49m\u001B[43mplot_file\u001B[49m\u001B[43m,\u001B[49m\u001B[43m \u001B[49m\u001B[43mcolumn_description\u001B[49m\u001B[43m,\u001B[49m\u001B[43m \u001B[49m\u001B[43mverbose_eval\u001B[49m\u001B[43m,\u001B[49m\u001B[43m \u001B[49m\u001B[43mmetric_period\u001B[49m\u001B[43m,\u001B[49m\n\u001B[32m   5247\u001B[39m \u001B[43m          \u001B[49m\u001B[43msilent\u001B[49m\u001B[43m,\u001B[49m\u001B[43m \u001B[49m\u001B[43mearly_stopping_rounds\u001B[49m\u001B[43m,\u001B[49m\u001B[43m \u001B[49m\u001B[43msave_snapshot\u001B[49m\u001B[43m,\u001B[49m\u001B[43m \u001B[49m\u001B[43msnapshot_file\u001B[49m\u001B[43m,\u001B[49m\u001B[43m \u001B[49m\u001B[43msnapshot_interval\u001B[49m\u001B[43m,\u001B[49m\u001B[43m \u001B[49m\u001B[43minit_model\u001B[49m\u001B[43m,\u001B[49m\u001B[43m \u001B[49m\u001B[43mcallbacks\u001B[49m\u001B[43m,\u001B[49m\u001B[43m \u001B[49m\u001B[43mlog_cout\u001B[49m\u001B[43m,\u001B[49m\u001B[43m \u001B[49m\u001B[43mlog_cerr\u001B[49m\u001B[43m)\u001B[49m\n\u001B[32m   5248\u001B[39m \u001B[38;5;28;01mreturn\u001B[39;00m \u001B[38;5;28mself\u001B[39m\n",
      "\u001B[36mFile \u001B[39m\u001B[32m~\\AppData\\Local\\Programs\\Python\\Python313\\Lib\\site-packages\\catboost\\core.py:2410\u001B[39m, in \u001B[36mCatBoost._fit\u001B[39m\u001B[34m(self, X, y, cat_features, text_features, embedding_features, pairs, graph, sample_weight, group_id, group_weight, subgroup_id, pairs_weight, baseline, use_best_model, eval_set, verbose, logging_level, plot, plot_file, column_description, verbose_eval, metric_period, silent, early_stopping_rounds, save_snapshot, snapshot_file, snapshot_interval, init_model, callbacks, log_cout, log_cerr)\u001B[39m\n\u001B[32m   2407\u001B[39m allow_clear_pool = train_params[\u001B[33m\"\u001B[39m\u001B[33mallow_clear_pool\u001B[39m\u001B[33m\"\u001B[39m]\n\u001B[32m   2409\u001B[39m \u001B[38;5;28;01mwith\u001B[39;00m plot_wrapper(plot, plot_file, \u001B[33m'\u001B[39m\u001B[33mTraining plots\u001B[39m\u001B[33m'\u001B[39m, [_get_train_dir(\u001B[38;5;28mself\u001B[39m.get_params())]):\n\u001B[32m-> \u001B[39m\u001B[32m2410\u001B[39m     \u001B[38;5;28;43mself\u001B[39;49m\u001B[43m.\u001B[49m\u001B[43m_train\u001B[49m\u001B[43m(\u001B[49m\n\u001B[32m   2411\u001B[39m \u001B[43m        \u001B[49m\u001B[43mtrain_pool\u001B[49m\u001B[43m,\u001B[49m\n\u001B[32m   2412\u001B[39m \u001B[43m        \u001B[49m\u001B[43mtrain_params\u001B[49m\u001B[43m[\u001B[49m\u001B[33;43m\"\u001B[39;49m\u001B[33;43meval_sets\u001B[39;49m\u001B[33;43m\"\u001B[39;49m\u001B[43m]\u001B[49m\u001B[43m,\u001B[49m\n\u001B[32m   2413\u001B[39m \u001B[43m        \u001B[49m\u001B[43mparams\u001B[49m\u001B[43m,\u001B[49m\n\u001B[32m   2414\u001B[39m \u001B[43m        \u001B[49m\u001B[43mallow_clear_pool\u001B[49m\u001B[43m,\u001B[49m\n\u001B[32m   2415\u001B[39m \u001B[43m        \u001B[49m\u001B[43mtrain_params\u001B[49m\u001B[43m[\u001B[49m\u001B[33;43m\"\u001B[39;49m\u001B[33;43minit_model\u001B[39;49m\u001B[33;43m\"\u001B[39;49m\u001B[43m]\u001B[49m\n\u001B[32m   2416\u001B[39m \u001B[43m    \u001B[49m\u001B[43m)\u001B[49m\n\u001B[32m   2418\u001B[39m \u001B[38;5;66;03m# Have property feature_importance possibly set\u001B[39;00m\n\u001B[32m   2419\u001B[39m loss = \u001B[38;5;28mself\u001B[39m._object._get_loss_function_name()\n",
      "\u001B[36mFile \u001B[39m\u001B[32m~\\AppData\\Local\\Programs\\Python\\Python313\\Lib\\site-packages\\catboost\\core.py:1790\u001B[39m, in \u001B[36m_CatBoostBase._train\u001B[39m\u001B[34m(self, train_pool, test_pool, params, allow_clear_pool, init_model)\u001B[39m\n\u001B[32m   1789\u001B[39m \u001B[38;5;28;01mdef\u001B[39;00m\u001B[38;5;250m \u001B[39m\u001B[34m_train\u001B[39m(\u001B[38;5;28mself\u001B[39m, train_pool, test_pool, params, allow_clear_pool, init_model):\n\u001B[32m-> \u001B[39m\u001B[32m1790\u001B[39m     \u001B[38;5;28;43mself\u001B[39;49m\u001B[43m.\u001B[49m\u001B[43m_object\u001B[49m\u001B[43m.\u001B[49m\u001B[43m_train\u001B[49m\u001B[43m(\u001B[49m\u001B[43mtrain_pool\u001B[49m\u001B[43m,\u001B[49m\u001B[43m \u001B[49m\u001B[43mtest_pool\u001B[49m\u001B[43m,\u001B[49m\u001B[43m \u001B[49m\u001B[43mparams\u001B[49m\u001B[43m,\u001B[49m\u001B[43m \u001B[49m\u001B[43mallow_clear_pool\u001B[49m\u001B[43m,\u001B[49m\u001B[43m \u001B[49m\u001B[43minit_model\u001B[49m\u001B[43m.\u001B[49m\u001B[43m_object\u001B[49m\u001B[43m \u001B[49m\u001B[38;5;28;43;01mif\u001B[39;49;00m\u001B[43m \u001B[49m\u001B[43minit_model\u001B[49m\u001B[43m \u001B[49m\u001B[38;5;28;43;01melse\u001B[39;49;00m\u001B[43m \u001B[49m\u001B[38;5;28;43;01mNone\u001B[39;49;00m\u001B[43m)\u001B[49m\n\u001B[32m   1791\u001B[39m     \u001B[38;5;28mself\u001B[39m._set_trained_model_attributes()\n",
      "\u001B[36mFile \u001B[39m\u001B[32m_catboost.pyx:5023\u001B[39m, in \u001B[36m_catboost._CatBoost._train\u001B[39m\u001B[34m()\u001B[39m\n",
      "\u001B[36mFile \u001B[39m\u001B[32m_catboost.pyx:5072\u001B[39m, in \u001B[36m_catboost._CatBoost._train\u001B[39m\u001B[34m()\u001B[39m\n",
      "\u001B[31mKeyboardInterrupt\u001B[39m: "
     ]
    }
   ],
   "execution_count": 38
  },
  {
   "metadata": {
    "ExecuteTime": {
     "end_time": "2025-06-26T05:54:54.357824300Z",
     "start_time": "2025-06-22T18:41:43.370817Z"
    }
   },
   "cell_type": "code",
   "source": "",
   "id": "c66ee53ec37f4811",
   "outputs": [],
   "execution_count": null
  },
  {
   "metadata": {
    "ExecuteTime": {
     "end_time": "2025-06-26T05:54:54.373808700Z",
     "start_time": "2025-06-22T18:41:43.476819Z"
    }
   },
   "cell_type": "code",
   "source": "",
   "id": "4cad173550db1034",
   "outputs": [],
   "execution_count": null
  }
 ],
 "metadata": {
  "kernelspec": {
   "display_name": "Python 3",
   "language": "python",
   "name": "python3"
  },
  "language_info": {
   "codemirror_mode": {
    "name": "ipython",
    "version": 2
   },
   "file_extension": ".py",
   "mimetype": "text/x-python",
   "name": "python",
   "nbconvert_exporter": "python",
   "pygments_lexer": "ipython2",
   "version": "2.7.6"
  }
 },
 "nbformat": 4,
 "nbformat_minor": 5
}
