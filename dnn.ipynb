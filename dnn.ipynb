{
 "cells": [
  {
   "cell_type": "code",
   "execution_count": 1,
   "id": "a318e529",
   "metadata": {
    "id": "a318e529"
   },
   "outputs": [],
   "source": [
    "import numpy as np\n",
    "import pandas as pd\n",
    "import tensorflow as tf\n",
    "from tensorflow.keras.models import Sequential\n",
    "from tensorflow.keras.layers import Dense, Dropout, BatchNormalization\n",
    "from tensorflow.keras.optimizers import Adam\n",
    "from tensorflow.keras.callbacks import EarlyStopping, ReduceLROnPlateau\n",
    "from sklearn.metrics import accuracy_score, classification_report, precision_recall_fscore_support\n",
    "import time\n",
    "import warnings\n",
    "warnings.filterwarnings('ignore')"
   ]
  },
  {
   "cell_type": "code",
   "execution_count": 2,
   "id": "d0525d60",
   "metadata": {
    "id": "d0525d60"
   },
   "outputs": [],
   "source": [
    "\n",
    "\n",
    "X_train = pd.read_csv('Dataset/X_train_100.csv')\n",
    "y_train = pd.read_csv('Dataset/y_train_100.csv').iloc[:, 0]\n",
    "X_test = pd.read_csv('Dataset/X_test.csv')\n",
    "y_test = pd.read_csv('Dataset/y_test.csv').iloc[:, 0]"
   ]
  },
  {
   "cell_type": "code",
   "execution_count": 3,
   "id": "83e267ab",
   "metadata": {
    "colab": {
     "base_uri": "https://localhost:8080/"
    },
    "id": "83e267ab",
    "outputId": "ee3e8e25-a547-48fe-ac42-d4759be87139"
   },
   "outputs": [
    {
     "output_type": "stream",
     "name": "stdout",
     "text": [
      " Data converted to neural network format\n",
      "X_train shape: (235700, 20)\n",
      "X_test shape: (37792, 20)\n",
      "y_train shape: (235700,)\n",
      "y_test shape: (37792,)\n"
     ]
    }
   ],
   "source": [
    "X_train_np = X_train.values.astype(np.float32)\n",
    "X_test_np = X_test.values.astype(np.float32)\n",
    "y_train_np = y_train.values.astype(np.int32)\n",
    "y_test_np = y_test.values.astype(np.int32)\n",
    "\n",
    "print(\" Data converted to neural network format\")\n",
    "print(f\"X_train shape: {X_train_np.shape}\")\n",
    "print(f\"X_test shape: {X_test_np.shape}\")\n",
    "print(f\"y_train shape: {y_train_np.shape}\")\n",
    "print(f\"y_test shape: {y_test_np.shape}\")"
   ]
  },
  {
   "cell_type": "code",
   "execution_count": 4,
   "id": "52987359",
   "metadata": {
    "colab": {
     "base_uri": "https://localhost:8080/"
    },
    "id": "52987359",
    "outputId": "ae5833c8-ec68-4273-a02f-371c2ac73c7b"
   },
   "outputs": [
    {
     "output_type": "stream",
     "name": "stdout",
     "text": [
      " Deep Neural Network dimensions:\n",
      "Input features: 20\n",
      "Output classes: 5\n",
      "Training samples: 235,700\n",
      "Test samples: 37,792\n"
     ]
    }
   ],
   "source": [
    "n_features = X_train_np.shape[1]\n",
    "n_classes = len(np.unique(y_train_np))\n",
    "\n",
    "print(f\" Deep Neural Network dimensions:\")\n",
    "print(f\"Input features: {n_features}\")\n",
    "print(f\"Output classes: {n_classes}\")\n",
    "print(f\"Training samples: {X_train_np.shape[0]:,}\")\n",
    "print(f\"Test samples: {X_test_np.shape[0]:,}\")"
   ]
  },
  {
   "cell_type": "markdown",
   "id": "97934838",
   "metadata": {
    "id": "97934838"
   },
   "source": [
    "---\n",
    "\n",
    "## Build Deep Neural Network Model"
   ]
  },
  {
   "cell_type": "code",
   "execution_count": 5,
   "id": "31f783ca",
   "metadata": {
    "id": "31f783ca"
   },
   "outputs": [],
   "source": [
    "dnn_model = Sequential([\n",
    "\n",
    "    Dense(512, activation='relu', input_shape=(n_features,), name='hidden_1'),\n",
    "    BatchNormalization(),\n",
    "    Dropout(0.4),\n",
    "\n",
    "\n",
    "    Dense(256, activation='relu', name='hidden_2'),\n",
    "    BatchNormalization(),\n",
    "    Dropout(0.4),\n",
    "\n",
    "\n",
    "    Dense(128, activation='relu', name='hidden_3'),\n",
    "    BatchNormalization(),\n",
    "    Dropout(0.3),\n",
    "\n",
    "\n",
    "    Dense(64, activation='relu', name='hidden_4'),\n",
    "    BatchNormalization(),\n",
    "    Dropout(0.3),\n",
    "\n",
    "    Dense(32, activation='relu', name='hidden_5'),\n",
    "    BatchNormalization(),\n",
    "    Dropout(0.2),\n",
    "\n",
    "    Dense(n_classes, activation='softmax', name='output')\n",
    "])"
   ]
  },
  {
   "cell_type": "code",
   "execution_count": 6,
   "id": "2c47cd43",
   "metadata": {
    "colab": {
     "base_uri": "https://localhost:8080/",
     "height": 721
    },
    "id": "2c47cd43",
    "outputId": "d765d8b0-430e-4365-e723-44ac1f4d5b43"
   },
   "outputs": [
    {
     "output_type": "display_data",
     "data": {
      "text/plain": [
       "\u001B[1mModel: \"sequential\"\u001B[0m\n"
      ],
      "text/html": [
       "<pre style=\"white-space:pre;overflow-x:auto;line-height:normal;font-family:Menlo,'DejaVu Sans Mono',consolas,'Courier New',monospace\"><span style=\"font-weight: bold\">Model: \"sequential\"</span>\n",
       "</pre>\n"
      ]
     },
     "metadata": {}
    },
    {
     "output_type": "display_data",
     "data": {
      "text/plain": [
       "┏━━━━━━━━━━━━━━━━━━━━━━━━━━━━━━━━━┳━━━━━━━━━━━━━━━━━━━━━━━━┳━━━━━━━━━━━━━━━┓\n",
       "┃\u001B[1m \u001B[0m\u001B[1mLayer (type)                   \u001B[0m\u001B[1m \u001B[0m┃\u001B[1m \u001B[0m\u001B[1mOutput Shape          \u001B[0m\u001B[1m \u001B[0m┃\u001B[1m \u001B[0m\u001B[1m      Param #\u001B[0m\u001B[1m \u001B[0m┃\n",
       "┡━━━━━━━━━━━━━━━━━━━━━━━━━━━━━━━━━╇━━━━━━━━━━━━━━━━━━━━━━━━╇━━━━━━━━━━━━━━━┩\n",
       "│ hidden_1 (\u001B[38;5;33mDense\u001B[0m)                │ (\u001B[38;5;45mNone\u001B[0m, \u001B[38;5;34m512\u001B[0m)            │        \u001B[38;5;34m10,752\u001B[0m │\n",
       "├─────────────────────────────────┼────────────────────────┼───────────────┤\n",
       "│ batch_normalization             │ (\u001B[38;5;45mNone\u001B[0m, \u001B[38;5;34m512\u001B[0m)            │         \u001B[38;5;34m2,048\u001B[0m │\n",
       "│ (\u001B[38;5;33mBatchNormalization\u001B[0m)            │                        │               │\n",
       "├─────────────────────────────────┼────────────────────────┼───────────────┤\n",
       "│ dropout (\u001B[38;5;33mDropout\u001B[0m)               │ (\u001B[38;5;45mNone\u001B[0m, \u001B[38;5;34m512\u001B[0m)            │             \u001B[38;5;34m0\u001B[0m │\n",
       "├─────────────────────────────────┼────────────────────────┼───────────────┤\n",
       "│ hidden_2 (\u001B[38;5;33mDense\u001B[0m)                │ (\u001B[38;5;45mNone\u001B[0m, \u001B[38;5;34m256\u001B[0m)            │       \u001B[38;5;34m131,328\u001B[0m │\n",
       "├─────────────────────────────────┼────────────────────────┼───────────────┤\n",
       "│ batch_normalization_1           │ (\u001B[38;5;45mNone\u001B[0m, \u001B[38;5;34m256\u001B[0m)            │         \u001B[38;5;34m1,024\u001B[0m │\n",
       "│ (\u001B[38;5;33mBatchNormalization\u001B[0m)            │                        │               │\n",
       "├─────────────────────────────────┼────────────────────────┼───────────────┤\n",
       "│ dropout_1 (\u001B[38;5;33mDropout\u001B[0m)             │ (\u001B[38;5;45mNone\u001B[0m, \u001B[38;5;34m256\u001B[0m)            │             \u001B[38;5;34m0\u001B[0m │\n",
       "├─────────────────────────────────┼────────────────────────┼───────────────┤\n",
       "│ hidden_3 (\u001B[38;5;33mDense\u001B[0m)                │ (\u001B[38;5;45mNone\u001B[0m, \u001B[38;5;34m128\u001B[0m)            │        \u001B[38;5;34m32,896\u001B[0m │\n",
       "├─────────────────────────────────┼────────────────────────┼───────────────┤\n",
       "│ batch_normalization_2           │ (\u001B[38;5;45mNone\u001B[0m, \u001B[38;5;34m128\u001B[0m)            │           \u001B[38;5;34m512\u001B[0m │\n",
       "│ (\u001B[38;5;33mBatchNormalization\u001B[0m)            │                        │               │\n",
       "├─────────────────────────────────┼────────────────────────┼───────────────┤\n",
       "│ dropout_2 (\u001B[38;5;33mDropout\u001B[0m)             │ (\u001B[38;5;45mNone\u001B[0m, \u001B[38;5;34m128\u001B[0m)            │             \u001B[38;5;34m0\u001B[0m │\n",
       "├─────────────────────────────────┼────────────────────────┼───────────────┤\n",
       "│ hidden_4 (\u001B[38;5;33mDense\u001B[0m)                │ (\u001B[38;5;45mNone\u001B[0m, \u001B[38;5;34m64\u001B[0m)             │         \u001B[38;5;34m8,256\u001B[0m │\n",
       "├─────────────────────────────────┼────────────────────────┼───────────────┤\n",
       "│ batch_normalization_3           │ (\u001B[38;5;45mNone\u001B[0m, \u001B[38;5;34m64\u001B[0m)             │           \u001B[38;5;34m256\u001B[0m │\n",
       "│ (\u001B[38;5;33mBatchNormalization\u001B[0m)            │                        │               │\n",
       "├─────────────────────────────────┼────────────────────────┼───────────────┤\n",
       "│ dropout_3 (\u001B[38;5;33mDropout\u001B[0m)             │ (\u001B[38;5;45mNone\u001B[0m, \u001B[38;5;34m64\u001B[0m)             │             \u001B[38;5;34m0\u001B[0m │\n",
       "├─────────────────────────────────┼────────────────────────┼───────────────┤\n",
       "│ hidden_5 (\u001B[38;5;33mDense\u001B[0m)                │ (\u001B[38;5;45mNone\u001B[0m, \u001B[38;5;34m32\u001B[0m)             │         \u001B[38;5;34m2,080\u001B[0m │\n",
       "├─────────────────────────────────┼────────────────────────┼───────────────┤\n",
       "│ batch_normalization_4           │ (\u001B[38;5;45mNone\u001B[0m, \u001B[38;5;34m32\u001B[0m)             │           \u001B[38;5;34m128\u001B[0m │\n",
       "│ (\u001B[38;5;33mBatchNormalization\u001B[0m)            │                        │               │\n",
       "├─────────────────────────────────┼────────────────────────┼───────────────┤\n",
       "│ dropout_4 (\u001B[38;5;33mDropout\u001B[0m)             │ (\u001B[38;5;45mNone\u001B[0m, \u001B[38;5;34m32\u001B[0m)             │             \u001B[38;5;34m0\u001B[0m │\n",
       "├─────────────────────────────────┼────────────────────────┼───────────────┤\n",
       "│ output (\u001B[38;5;33mDense\u001B[0m)                  │ (\u001B[38;5;45mNone\u001B[0m, \u001B[38;5;34m5\u001B[0m)              │           \u001B[38;5;34m165\u001B[0m │\n",
       "└─────────────────────────────────┴────────────────────────┴───────────────┘\n"
      ],
      "text/html": [
       "<pre style=\"white-space:pre;overflow-x:auto;line-height:normal;font-family:Menlo,'DejaVu Sans Mono',consolas,'Courier New',monospace\">┏━━━━━━━━━━━━━━━━━━━━━━━━━━━━━━━━━┳━━━━━━━━━━━━━━━━━━━━━━━━┳━━━━━━━━━━━━━━━┓\n",
       "┃<span style=\"font-weight: bold\"> Layer (type)                    </span>┃<span style=\"font-weight: bold\"> Output Shape           </span>┃<span style=\"font-weight: bold\">       Param # </span>┃\n",
       "┡━━━━━━━━━━━━━━━━━━━━━━━━━━━━━━━━━╇━━━━━━━━━━━━━━━━━━━━━━━━╇━━━━━━━━━━━━━━━┩\n",
       "│ hidden_1 (<span style=\"color: #0087ff; text-decoration-color: #0087ff\">Dense</span>)                │ (<span style=\"color: #00d7ff; text-decoration-color: #00d7ff\">None</span>, <span style=\"color: #00af00; text-decoration-color: #00af00\">512</span>)            │        <span style=\"color: #00af00; text-decoration-color: #00af00\">10,752</span> │\n",
       "├─────────────────────────────────┼────────────────────────┼───────────────┤\n",
       "│ batch_normalization             │ (<span style=\"color: #00d7ff; text-decoration-color: #00d7ff\">None</span>, <span style=\"color: #00af00; text-decoration-color: #00af00\">512</span>)            │         <span style=\"color: #00af00; text-decoration-color: #00af00\">2,048</span> │\n",
       "│ (<span style=\"color: #0087ff; text-decoration-color: #0087ff\">BatchNormalization</span>)            │                        │               │\n",
       "├─────────────────────────────────┼────────────────────────┼───────────────┤\n",
       "│ dropout (<span style=\"color: #0087ff; text-decoration-color: #0087ff\">Dropout</span>)               │ (<span style=\"color: #00d7ff; text-decoration-color: #00d7ff\">None</span>, <span style=\"color: #00af00; text-decoration-color: #00af00\">512</span>)            │             <span style=\"color: #00af00; text-decoration-color: #00af00\">0</span> │\n",
       "├─────────────────────────────────┼────────────────────────┼───────────────┤\n",
       "│ hidden_2 (<span style=\"color: #0087ff; text-decoration-color: #0087ff\">Dense</span>)                │ (<span style=\"color: #00d7ff; text-decoration-color: #00d7ff\">None</span>, <span style=\"color: #00af00; text-decoration-color: #00af00\">256</span>)            │       <span style=\"color: #00af00; text-decoration-color: #00af00\">131,328</span> │\n",
       "├─────────────────────────────────┼────────────────────────┼───────────────┤\n",
       "│ batch_normalization_1           │ (<span style=\"color: #00d7ff; text-decoration-color: #00d7ff\">None</span>, <span style=\"color: #00af00; text-decoration-color: #00af00\">256</span>)            │         <span style=\"color: #00af00; text-decoration-color: #00af00\">1,024</span> │\n",
       "│ (<span style=\"color: #0087ff; text-decoration-color: #0087ff\">BatchNormalization</span>)            │                        │               │\n",
       "├─────────────────────────────────┼────────────────────────┼───────────────┤\n",
       "│ dropout_1 (<span style=\"color: #0087ff; text-decoration-color: #0087ff\">Dropout</span>)             │ (<span style=\"color: #00d7ff; text-decoration-color: #00d7ff\">None</span>, <span style=\"color: #00af00; text-decoration-color: #00af00\">256</span>)            │             <span style=\"color: #00af00; text-decoration-color: #00af00\">0</span> │\n",
       "├─────────────────────────────────┼────────────────────────┼───────────────┤\n",
       "│ hidden_3 (<span style=\"color: #0087ff; text-decoration-color: #0087ff\">Dense</span>)                │ (<span style=\"color: #00d7ff; text-decoration-color: #00d7ff\">None</span>, <span style=\"color: #00af00; text-decoration-color: #00af00\">128</span>)            │        <span style=\"color: #00af00; text-decoration-color: #00af00\">32,896</span> │\n",
       "├─────────────────────────────────┼────────────────────────┼───────────────┤\n",
       "│ batch_normalization_2           │ (<span style=\"color: #00d7ff; text-decoration-color: #00d7ff\">None</span>, <span style=\"color: #00af00; text-decoration-color: #00af00\">128</span>)            │           <span style=\"color: #00af00; text-decoration-color: #00af00\">512</span> │\n",
       "│ (<span style=\"color: #0087ff; text-decoration-color: #0087ff\">BatchNormalization</span>)            │                        │               │\n",
       "├─────────────────────────────────┼────────────────────────┼───────────────┤\n",
       "│ dropout_2 (<span style=\"color: #0087ff; text-decoration-color: #0087ff\">Dropout</span>)             │ (<span style=\"color: #00d7ff; text-decoration-color: #00d7ff\">None</span>, <span style=\"color: #00af00; text-decoration-color: #00af00\">128</span>)            │             <span style=\"color: #00af00; text-decoration-color: #00af00\">0</span> │\n",
       "├─────────────────────────────────┼────────────────────────┼───────────────┤\n",
       "│ hidden_4 (<span style=\"color: #0087ff; text-decoration-color: #0087ff\">Dense</span>)                │ (<span style=\"color: #00d7ff; text-decoration-color: #00d7ff\">None</span>, <span style=\"color: #00af00; text-decoration-color: #00af00\">64</span>)             │         <span style=\"color: #00af00; text-decoration-color: #00af00\">8,256</span> │\n",
       "├─────────────────────────────────┼────────────────────────┼───────────────┤\n",
       "│ batch_normalization_3           │ (<span style=\"color: #00d7ff; text-decoration-color: #00d7ff\">None</span>, <span style=\"color: #00af00; text-decoration-color: #00af00\">64</span>)             │           <span style=\"color: #00af00; text-decoration-color: #00af00\">256</span> │\n",
       "│ (<span style=\"color: #0087ff; text-decoration-color: #0087ff\">BatchNormalization</span>)            │                        │               │\n",
       "├─────────────────────────────────┼────────────────────────┼───────────────┤\n",
       "│ dropout_3 (<span style=\"color: #0087ff; text-decoration-color: #0087ff\">Dropout</span>)             │ (<span style=\"color: #00d7ff; text-decoration-color: #00d7ff\">None</span>, <span style=\"color: #00af00; text-decoration-color: #00af00\">64</span>)             │             <span style=\"color: #00af00; text-decoration-color: #00af00\">0</span> │\n",
       "├─────────────────────────────────┼────────────────────────┼───────────────┤\n",
       "│ hidden_5 (<span style=\"color: #0087ff; text-decoration-color: #0087ff\">Dense</span>)                │ (<span style=\"color: #00d7ff; text-decoration-color: #00d7ff\">None</span>, <span style=\"color: #00af00; text-decoration-color: #00af00\">32</span>)             │         <span style=\"color: #00af00; text-decoration-color: #00af00\">2,080</span> │\n",
       "├─────────────────────────────────┼────────────────────────┼───────────────┤\n",
       "│ batch_normalization_4           │ (<span style=\"color: #00d7ff; text-decoration-color: #00d7ff\">None</span>, <span style=\"color: #00af00; text-decoration-color: #00af00\">32</span>)             │           <span style=\"color: #00af00; text-decoration-color: #00af00\">128</span> │\n",
       "│ (<span style=\"color: #0087ff; text-decoration-color: #0087ff\">BatchNormalization</span>)            │                        │               │\n",
       "├─────────────────────────────────┼────────────────────────┼───────────────┤\n",
       "│ dropout_4 (<span style=\"color: #0087ff; text-decoration-color: #0087ff\">Dropout</span>)             │ (<span style=\"color: #00d7ff; text-decoration-color: #00d7ff\">None</span>, <span style=\"color: #00af00; text-decoration-color: #00af00\">32</span>)             │             <span style=\"color: #00af00; text-decoration-color: #00af00\">0</span> │\n",
       "├─────────────────────────────────┼────────────────────────┼───────────────┤\n",
       "│ output (<span style=\"color: #0087ff; text-decoration-color: #0087ff\">Dense</span>)                  │ (<span style=\"color: #00d7ff; text-decoration-color: #00d7ff\">None</span>, <span style=\"color: #00af00; text-decoration-color: #00af00\">5</span>)              │           <span style=\"color: #00af00; text-decoration-color: #00af00\">165</span> │\n",
       "└─────────────────────────────────┴────────────────────────┴───────────────┘\n",
       "</pre>\n"
      ]
     },
     "metadata": {}
    },
    {
     "output_type": "display_data",
     "data": {
      "text/plain": [
       "\u001B[1m Total params: \u001B[0m\u001B[38;5;34m189,445\u001B[0m (740.02 KB)\n"
      ],
      "text/html": [
       "<pre style=\"white-space:pre;overflow-x:auto;line-height:normal;font-family:Menlo,'DejaVu Sans Mono',consolas,'Courier New',monospace\"><span style=\"font-weight: bold\"> Total params: </span><span style=\"color: #00af00; text-decoration-color: #00af00\">189,445</span> (740.02 KB)\n",
       "</pre>\n"
      ]
     },
     "metadata": {}
    },
    {
     "output_type": "display_data",
     "data": {
      "text/plain": [
       "\u001B[1m Trainable params: \u001B[0m\u001B[38;5;34m187,461\u001B[0m (732.27 KB)\n"
      ],
      "text/html": [
       "<pre style=\"white-space:pre;overflow-x:auto;line-height:normal;font-family:Menlo,'DejaVu Sans Mono',consolas,'Courier New',monospace\"><span style=\"font-weight: bold\"> Trainable params: </span><span style=\"color: #00af00; text-decoration-color: #00af00\">187,461</span> (732.27 KB)\n",
       "</pre>\n"
      ]
     },
     "metadata": {}
    },
    {
     "output_type": "display_data",
     "data": {
      "text/plain": [
       "\u001B[1m Non-trainable params: \u001B[0m\u001B[38;5;34m1,984\u001B[0m (7.75 KB)\n"
      ],
      "text/html": [
       "<pre style=\"white-space:pre;overflow-x:auto;line-height:normal;font-family:Menlo,'DejaVu Sans Mono',consolas,'Courier New',monospace\"><span style=\"font-weight: bold\"> Non-trainable params: </span><span style=\"color: #00af00; text-decoration-color: #00af00\">1,984</span> (7.75 KB)\n",
       "</pre>\n"
      ]
     },
     "metadata": {}
    }
   ],
   "source": [
    "dnn_model.summary()"
   ]
  },
  {
   "cell_type": "markdown",
   "id": "fcd76b4a",
   "metadata": {
    "id": "fcd76b4a"
   },
   "source": [
    "---\n",
    "\n",
    "## Compile Model"
   ]
  },
  {
   "cell_type": "code",
   "execution_count": 7,
   "id": "74606f11",
   "metadata": {
    "id": "74606f11"
   },
   "outputs": [],
   "source": [
    "dnn_model.compile(\n",
    "    optimizer=Adam(learning_rate=0.001),\n",
    "    loss='sparse_categorical_crossentropy',\n",
    "    metrics=['accuracy']\n",
    ")"
   ]
  },
  {
   "cell_type": "code",
   "execution_count": 8,
   "id": "3527f96c",
   "metadata": {
    "id": "3527f96c"
   },
   "outputs": [],
   "source": [
    "callbacks = [\n",
    "    EarlyStopping(\n",
    "        monitor='val_accuracy',\n",
    "        patience=15,\n",
    "        restore_best_weights=True,\n",
    "        verbose=1\n",
    "    ),\n",
    "    ReduceLROnPlateau(\n",
    "        monitor='val_accuracy',\n",
    "        factor=0.5,\n",
    "        patience=7,\n",
    "        min_lr=1e-7,\n",
    "        verbose=1\n",
    "    )\n",
    "]"
   ]
  },
  {
   "cell_type": "code",
   "execution_count": 9,
   "id": "9d0c7e2c",
   "metadata": {
    "id": "9d0c7e2c"
   },
   "outputs": [],
   "source": [
    "\n",
    "train_start_time = time.time()"
   ]
  },
  {
   "cell_type": "code",
   "execution_count": 10,
   "id": "942b52db",
   "metadata": {
    "colab": {
     "base_uri": "https://localhost:8080/"
    },
    "id": "942b52db",
    "outputId": "bf001e27-3329-4e8f-df9c-3e7b7fcc09a0"
   },
   "outputs": [
    {
     "output_type": "stream",
     "name": "stdout",
     "text": [
      "Epoch 1/100\n",
      "\u001B[1m461/461\u001B[0m \u001B[32m━━━━━━━━━━━━━━━━━━━━\u001B[0m\u001B[37m\u001B[0m \u001B[1m18s\u001B[0m 19ms/step - accuracy: 0.8600 - loss: 0.4252 - val_accuracy: 0.9728 - val_loss: 0.0983 - learning_rate: 0.0010\n",
      "Epoch 2/100\n",
      "\u001B[1m461/461\u001B[0m \u001B[32m━━━━━━━━━━━━━━━━━━━━\u001B[0m\u001B[37m\u001B[0m \u001B[1m9s\u001B[0m 5ms/step - accuracy: 0.9779 - loss: 0.0812 - val_accuracy: 0.9722 - val_loss: 0.0959 - learning_rate: 0.0010\n",
      "Epoch 3/100\n",
      "\u001B[1m461/461\u001B[0m \u001B[32m━━━━━━━━━━━━━━━━━━━━\u001B[0m\u001B[37m\u001B[0m \u001B[1m2s\u001B[0m 5ms/step - accuracy: 0.9838 - loss: 0.0606 - val_accuracy: 0.9819 - val_loss: 0.0605 - learning_rate: 0.0010\n",
      "Epoch 4/100\n",
      "\u001B[1m461/461\u001B[0m \u001B[32m━━━━━━━━━━━━━━━━━━━━\u001B[0m\u001B[37m\u001B[0m \u001B[1m2s\u001B[0m 4ms/step - accuracy: 0.9855 - loss: 0.0524 - val_accuracy: 0.9791 - val_loss: 0.0675 - learning_rate: 0.0010\n",
      "Epoch 5/100\n",
      "\u001B[1m461/461\u001B[0m \u001B[32m━━━━━━━━━━━━━━━━━━━━\u001B[0m\u001B[37m\u001B[0m \u001B[1m2s\u001B[0m 4ms/step - accuracy: 0.9864 - loss: 0.0489 - val_accuracy: 0.9825 - val_loss: 0.0615 - learning_rate: 0.0010\n",
      "Epoch 6/100\n",
      "\u001B[1m461/461\u001B[0m \u001B[32m━━━━━━━━━━━━━━━━━━━━\u001B[0m\u001B[37m\u001B[0m \u001B[1m2s\u001B[0m 4ms/step - accuracy: 0.9876 - loss: 0.0456 - val_accuracy: 0.9827 - val_loss: 0.0573 - learning_rate: 0.0010\n",
      "Epoch 7/100\n",
      "\u001B[1m461/461\u001B[0m \u001B[32m━━━━━━━━━━━━━━━━━━━━\u001B[0m\u001B[37m\u001B[0m \u001B[1m2s\u001B[0m 4ms/step - accuracy: 0.9890 - loss: 0.0403 - val_accuracy: 0.9862 - val_loss: 0.0509 - learning_rate: 0.0010\n",
      "Epoch 8/100\n",
      "\u001B[1m461/461\u001B[0m \u001B[32m━━━━━━━━━━━━━━━━━━━━\u001B[0m\u001B[37m\u001B[0m \u001B[1m3s\u001B[0m 6ms/step - accuracy: 0.9893 - loss: 0.0386 - val_accuracy: 0.9842 - val_loss: 0.0575 - learning_rate: 0.0010\n",
      "Epoch 9/100\n",
      "\u001B[1m461/461\u001B[0m \u001B[32m━━━━━━━━━━━━━━━━━━━━\u001B[0m\u001B[37m\u001B[0m \u001B[1m4s\u001B[0m 4ms/step - accuracy: 0.9901 - loss: 0.0361 - val_accuracy: 0.9847 - val_loss: 0.0535 - learning_rate: 0.0010\n",
      "Epoch 10/100\n",
      "\u001B[1m461/461\u001B[0m \u001B[32m━━━━━━━━━━━━━━━━━━━━\u001B[0m\u001B[37m\u001B[0m \u001B[1m2s\u001B[0m 4ms/step - accuracy: 0.9906 - loss: 0.0344 - val_accuracy: 0.9862 - val_loss: 0.0443 - learning_rate: 0.0010\n",
      "Epoch 11/100\n",
      "\u001B[1m461/461\u001B[0m \u001B[32m━━━━━━━━━━━━━━━━━━━━\u001B[0m\u001B[37m\u001B[0m \u001B[1m3s\u001B[0m 4ms/step - accuracy: 0.9898 - loss: 0.0370 - val_accuracy: 0.9856 - val_loss: 0.0527 - learning_rate: 0.0010\n",
      "Epoch 12/100\n",
      "\u001B[1m461/461\u001B[0m \u001B[32m━━━━━━━━━━━━━━━━━━━━\u001B[0m\u001B[37m\u001B[0m \u001B[1m3s\u001B[0m 5ms/step - accuracy: 0.9908 - loss: 0.0331 - val_accuracy: 0.9893 - val_loss: 0.0337 - learning_rate: 0.0010\n",
      "Epoch 13/100\n",
      "\u001B[1m461/461\u001B[0m \u001B[32m━━━━━━━━━━━━━━━━━━━━\u001B[0m\u001B[37m\u001B[0m \u001B[1m2s\u001B[0m 4ms/step - accuracy: 0.9912 - loss: 0.0306 - val_accuracy: 0.9868 - val_loss: 0.0470 - learning_rate: 0.0010\n",
      "Epoch 14/100\n",
      "\u001B[1m461/461\u001B[0m \u001B[32m━━━━━━━━━━━━━━━━━━━━\u001B[0m\u001B[37m\u001B[0m \u001B[1m2s\u001B[0m 4ms/step - accuracy: 0.9915 - loss: 0.0303 - val_accuracy: 0.9900 - val_loss: 0.0357 - learning_rate: 0.0010\n",
      "Epoch 15/100\n",
      "\u001B[1m461/461\u001B[0m \u001B[32m━━━━━━━━━━━━━━━━━━━━\u001B[0m\u001B[37m\u001B[0m \u001B[1m3s\u001B[0m 4ms/step - accuracy: 0.9919 - loss: 0.0280 - val_accuracy: 0.9899 - val_loss: 0.0322 - learning_rate: 0.0010\n",
      "Epoch 16/100\n",
      "\u001B[1m461/461\u001B[0m \u001B[32m━━━━━━━━━━━━━━━━━━━━\u001B[0m\u001B[37m\u001B[0m \u001B[1m2s\u001B[0m 4ms/step - accuracy: 0.9921 - loss: 0.0279 - val_accuracy: 0.9883 - val_loss: 0.0432 - learning_rate: 0.0010\n",
      "Epoch 17/100\n",
      "\u001B[1m461/461\u001B[0m \u001B[32m━━━━━━━━━━━━━━━━━━━━\u001B[0m\u001B[37m\u001B[0m \u001B[1m3s\u001B[0m 5ms/step - accuracy: 0.9920 - loss: 0.0278 - val_accuracy: 0.9874 - val_loss: 0.0406 - learning_rate: 0.0010\n",
      "Epoch 18/100\n",
      "\u001B[1m461/461\u001B[0m \u001B[32m━━━━━━━━━━━━━━━━━━━━\u001B[0m\u001B[37m\u001B[0m \u001B[1m2s\u001B[0m 4ms/step - accuracy: 0.9919 - loss: 0.0273 - val_accuracy: 0.9861 - val_loss: 0.0462 - learning_rate: 0.0010\n",
      "Epoch 19/100\n",
      "\u001B[1m461/461\u001B[0m \u001B[32m━━━━━━━━━━━━━━━━━━━━\u001B[0m\u001B[37m\u001B[0m \u001B[1m2s\u001B[0m 4ms/step - accuracy: 0.9929 - loss: 0.0247 - val_accuracy: 0.9902 - val_loss: 0.0334 - learning_rate: 0.0010\n",
      "Epoch 20/100\n",
      "\u001B[1m461/461\u001B[0m \u001B[32m━━━━━━━━━━━━━━━━━━━━\u001B[0m\u001B[37m\u001B[0m \u001B[1m2s\u001B[0m 4ms/step - accuracy: 0.9928 - loss: 0.0255 - val_accuracy: 0.9904 - val_loss: 0.0321 - learning_rate: 0.0010\n",
      "Epoch 21/100\n",
      "\u001B[1m461/461\u001B[0m \u001B[32m━━━━━━━━━━━━━━━━━━━━\u001B[0m\u001B[37m\u001B[0m \u001B[1m3s\u001B[0m 4ms/step - accuracy: 0.9929 - loss: 0.0244 - val_accuracy: 0.9897 - val_loss: 0.0320 - learning_rate: 0.0010\n",
      "Epoch 22/100\n",
      "\u001B[1m461/461\u001B[0m \u001B[32m━━━━━━━━━━━━━━━━━━━━\u001B[0m\u001B[37m\u001B[0m \u001B[1m2s\u001B[0m 5ms/step - accuracy: 0.9933 - loss: 0.0233 - val_accuracy: 0.9905 - val_loss: 0.0345 - learning_rate: 0.0010\n",
      "Epoch 23/100\n",
      "\u001B[1m461/461\u001B[0m \u001B[32m━━━━━━━━━━━━━━━━━━━━\u001B[0m\u001B[37m\u001B[0m \u001B[1m2s\u001B[0m 5ms/step - accuracy: 0.9936 - loss: 0.0224 - val_accuracy: 0.9916 - val_loss: 0.0296 - learning_rate: 0.0010\n",
      "Epoch 24/100\n",
      "\u001B[1m461/461\u001B[0m \u001B[32m━━━━━━━━━━━━━━━━━━━━\u001B[0m\u001B[37m\u001B[0m \u001B[1m2s\u001B[0m 4ms/step - accuracy: 0.9935 - loss: 0.0223 - val_accuracy: 0.9904 - val_loss: 0.0346 - learning_rate: 0.0010\n",
      "Epoch 25/100\n",
      "\u001B[1m461/461\u001B[0m \u001B[32m━━━━━━━━━━━━━━━━━━━━\u001B[0m\u001B[37m\u001B[0m \u001B[1m2s\u001B[0m 4ms/step - accuracy: 0.9939 - loss: 0.0214 - val_accuracy: 0.9912 - val_loss: 0.0303 - learning_rate: 0.0010\n",
      "Epoch 26/100\n",
      "\u001B[1m461/461\u001B[0m \u001B[32m━━━━━━━━━━━━━━━━━━━━\u001B[0m\u001B[37m\u001B[0m \u001B[1m2s\u001B[0m 4ms/step - accuracy: 0.9936 - loss: 0.0229 - val_accuracy: 0.9912 - val_loss: 0.0295 - learning_rate: 0.0010\n",
      "Epoch 27/100\n",
      "\u001B[1m461/461\u001B[0m \u001B[32m━━━━━━━━━━━━━━━━━━━━\u001B[0m\u001B[37m\u001B[0m \u001B[1m3s\u001B[0m 4ms/step - accuracy: 0.9938 - loss: 0.0213 - val_accuracy: 0.9912 - val_loss: 0.0302 - learning_rate: 0.0010\n",
      "Epoch 28/100\n",
      "\u001B[1m461/461\u001B[0m \u001B[32m━━━━━━━━━━━━━━━━━━━━\u001B[0m\u001B[37m\u001B[0m \u001B[1m3s\u001B[0m 5ms/step - accuracy: 0.9938 - loss: 0.0216 - val_accuracy: 0.9888 - val_loss: 0.0373 - learning_rate: 0.0010\n",
      "Epoch 29/100\n",
      "\u001B[1m461/461\u001B[0m \u001B[32m━━━━━━━━━━━━━━━━━━━━\u001B[0m\u001B[37m\u001B[0m \u001B[1m2s\u001B[0m 4ms/step - accuracy: 0.9938 - loss: 0.0216 - val_accuracy: 0.9938 - val_loss: 0.0243 - learning_rate: 0.0010\n",
      "Epoch 30/100\n",
      "\u001B[1m461/461\u001B[0m \u001B[32m━━━━━━━━━━━━━━━━━━━━\u001B[0m\u001B[37m\u001B[0m \u001B[1m2s\u001B[0m 4ms/step - accuracy: 0.9938 - loss: 0.0214 - val_accuracy: 0.9927 - val_loss: 0.0271 - learning_rate: 0.0010\n",
      "Epoch 31/100\n",
      "\u001B[1m461/461\u001B[0m \u001B[32m━━━━━━━━━━━━━━━━━━━━\u001B[0m\u001B[37m\u001B[0m \u001B[1m2s\u001B[0m 4ms/step - accuracy: 0.9943 - loss: 0.0199 - val_accuracy: 0.9904 - val_loss: 0.0317 - learning_rate: 0.0010\n",
      "Epoch 32/100\n",
      "\u001B[1m461/461\u001B[0m \u001B[32m━━━━━━━━━━━━━━━━━━━━\u001B[0m\u001B[37m\u001B[0m \u001B[1m2s\u001B[0m 4ms/step - accuracy: 0.9941 - loss: 0.0195 - val_accuracy: 0.9931 - val_loss: 0.0245 - learning_rate: 0.0010\n",
      "Epoch 33/100\n",
      "\u001B[1m461/461\u001B[0m \u001B[32m━━━━━━━━━━━━━━━━━━━━\u001B[0m\u001B[37m\u001B[0m \u001B[1m2s\u001B[0m 5ms/step - accuracy: 0.9942 - loss: 0.0194 - val_accuracy: 0.9902 - val_loss: 0.0394 - learning_rate: 0.0010\n",
      "Epoch 34/100\n",
      "\u001B[1m461/461\u001B[0m \u001B[32m━━━━━━━━━━━━━━━━━━━━\u001B[0m\u001B[37m\u001B[0m \u001B[1m2s\u001B[0m 5ms/step - accuracy: 0.9944 - loss: 0.0188 - val_accuracy: 0.9911 - val_loss: 0.0289 - learning_rate: 0.0010\n",
      "Epoch 35/100\n",
      "\u001B[1m461/461\u001B[0m \u001B[32m━━━━━━━━━━━━━━━━━━━━\u001B[0m\u001B[37m\u001B[0m \u001B[1m2s\u001B[0m 4ms/step - accuracy: 0.9947 - loss: 0.0190 - val_accuracy: 0.9931 - val_loss: 0.0266 - learning_rate: 0.0010\n",
      "Epoch 36/100\n",
      "\u001B[1m448/461\u001B[0m \u001B[32m━━━━━━━━━━━━━━━━━━━\u001B[0m\u001B[37m━\u001B[0m \u001B[1m0s\u001B[0m 4ms/step - accuracy: 0.9946 - loss: 0.0186\n",
      "Epoch 36: ReduceLROnPlateau reducing learning rate to 0.0005000000237487257.\n",
      "\u001B[1m461/461\u001B[0m \u001B[32m━━━━━━━━━━━━━━━━━━━━\u001B[0m\u001B[37m\u001B[0m \u001B[1m3s\u001B[0m 4ms/step - accuracy: 0.9946 - loss: 0.0186 - val_accuracy: 0.9930 - val_loss: 0.0242 - learning_rate: 0.0010\n",
      "Epoch 37/100\n",
      "\u001B[1m461/461\u001B[0m \u001B[32m━━━━━━━━━━━━━━━━━━━━\u001B[0m\u001B[37m\u001B[0m \u001B[1m2s\u001B[0m 4ms/step - accuracy: 0.9956 - loss: 0.0160 - val_accuracy: 0.9949 - val_loss: 0.0207 - learning_rate: 5.0000e-04\n",
      "Epoch 38/100\n",
      "\u001B[1m461/461\u001B[0m \u001B[32m━━━━━━━━━━━━━━━━━━━━\u001B[0m\u001B[37m\u001B[0m \u001B[1m3s\u001B[0m 5ms/step - accuracy: 0.9961 - loss: 0.0136 - val_accuracy: 0.9943 - val_loss: 0.0232 - learning_rate: 5.0000e-04\n",
      "Epoch 39/100\n",
      "\u001B[1m461/461\u001B[0m \u001B[32m━━━━━━━━━━━━━━━━━━━━\u001B[0m\u001B[37m\u001B[0m \u001B[1m3s\u001B[0m 5ms/step - accuracy: 0.9961 - loss: 0.0136 - val_accuracy: 0.9947 - val_loss: 0.0211 - learning_rate: 5.0000e-04\n",
      "Epoch 40/100\n",
      "\u001B[1m461/461\u001B[0m \u001B[32m━━━━━━━━━━━━━━━━━━━━\u001B[0m\u001B[37m\u001B[0m \u001B[1m2s\u001B[0m 4ms/step - accuracy: 0.9962 - loss: 0.0130 - val_accuracy: 0.9947 - val_loss: 0.0220 - learning_rate: 5.0000e-04\n",
      "Epoch 41/100\n",
      "\u001B[1m461/461\u001B[0m \u001B[32m━━━━━━━━━━━━━━━━━━━━\u001B[0m\u001B[37m\u001B[0m \u001B[1m3s\u001B[0m 4ms/step - accuracy: 0.9963 - loss: 0.0129 - val_accuracy: 0.9945 - val_loss: 0.0223 - learning_rate: 5.0000e-04\n",
      "Epoch 42/100\n",
      "\u001B[1m461/461\u001B[0m \u001B[32m━━━━━━━━━━━━━━━━━━━━\u001B[0m\u001B[37m\u001B[0m \u001B[1m3s\u001B[0m 4ms/step - accuracy: 0.9963 - loss: 0.0126 - val_accuracy: 0.9951 - val_loss: 0.0213 - learning_rate: 5.0000e-04\n",
      "Epoch 43/100\n",
      "\u001B[1m461/461\u001B[0m \u001B[32m━━━━━━━━━━━━━━━━━━━━\u001B[0m\u001B[37m\u001B[0m \u001B[1m3s\u001B[0m 5ms/step - accuracy: 0.9964 - loss: 0.0125 - val_accuracy: 0.9941 - val_loss: 0.0248 - learning_rate: 5.0000e-04\n",
      "Epoch 44/100\n",
      "\u001B[1m461/461\u001B[0m \u001B[32m━━━━━━━━━━━━━━━━━━━━\u001B[0m\u001B[37m\u001B[0m \u001B[1m2s\u001B[0m 4ms/step - accuracy: 0.9965 - loss: 0.0122 - val_accuracy: 0.9948 - val_loss: 0.0226 - learning_rate: 5.0000e-04\n",
      "Epoch 45/100\n",
      "\u001B[1m461/461\u001B[0m \u001B[32m━━━━━━━━━━━━━━━━━━━━\u001B[0m\u001B[37m\u001B[0m \u001B[1m2s\u001B[0m 4ms/step - accuracy: 0.9963 - loss: 0.0127 - val_accuracy: 0.9949 - val_loss: 0.0209 - learning_rate: 5.0000e-04\n",
      "Epoch 46/100\n",
      "\u001B[1m461/461\u001B[0m \u001B[32m━━━━━━━━━━━━━━━━━━━━\u001B[0m\u001B[37m\u001B[0m \u001B[1m2s\u001B[0m 4ms/step - accuracy: 0.9964 - loss: 0.0129 - val_accuracy: 0.9956 - val_loss: 0.0198 - learning_rate: 5.0000e-04\n",
      "Epoch 47/100\n",
      "\u001B[1m461/461\u001B[0m \u001B[32m━━━━━━━━━━━━━━━━━━━━\u001B[0m\u001B[37m\u001B[0m \u001B[1m3s\u001B[0m 4ms/step - accuracy: 0.9966 - loss: 0.0116 - val_accuracy: 0.9952 - val_loss: 0.0202 - learning_rate: 5.0000e-04\n",
      "Epoch 48/100\n",
      "\u001B[1m461/461\u001B[0m \u001B[32m━━━━━━━━━━━━━━━━━━━━\u001B[0m\u001B[37m\u001B[0m \u001B[1m3s\u001B[0m 5ms/step - accuracy: 0.9963 - loss: 0.0135 - val_accuracy: 0.9939 - val_loss: 0.0238 - learning_rate: 5.0000e-04\n",
      "Epoch 49/100\n",
      "\u001B[1m461/461\u001B[0m \u001B[32m━━━━━━━━━━━━━━━━━━━━\u001B[0m\u001B[37m\u001B[0m \u001B[1m2s\u001B[0m 4ms/step - accuracy: 0.9964 - loss: 0.0129 - val_accuracy: 0.9956 - val_loss: 0.0187 - learning_rate: 5.0000e-04\n",
      "Epoch 50/100\n",
      "\u001B[1m461/461\u001B[0m \u001B[32m━━━━━━━━━━━━━━━━━━━━\u001B[0m\u001B[37m\u001B[0m \u001B[1m2s\u001B[0m 4ms/step - accuracy: 0.9969 - loss: 0.0112 - val_accuracy: 0.9955 - val_loss: 0.0192 - learning_rate: 5.0000e-04\n",
      "Epoch 51/100\n",
      "\u001B[1m461/461\u001B[0m \u001B[32m━━━━━━━━━━━━━━━━━━━━\u001B[0m\u001B[37m\u001B[0m \u001B[1m2s\u001B[0m 4ms/step - accuracy: 0.9968 - loss: 0.0111 - val_accuracy: 0.9934 - val_loss: 0.0247 - learning_rate: 5.0000e-04\n",
      "Epoch 52/100\n",
      "\u001B[1m461/461\u001B[0m \u001B[32m━━━━━━━━━━━━━━━━━━━━\u001B[0m\u001B[37m\u001B[0m \u001B[1m2s\u001B[0m 4ms/step - accuracy: 0.9968 - loss: 0.0113 - val_accuracy: 0.9957 - val_loss: 0.0196 - learning_rate: 5.0000e-04\n",
      "Epoch 53/100\n",
      "\u001B[1m461/461\u001B[0m \u001B[32m━━━━━━━━━━━━━━━━━━━━\u001B[0m\u001B[37m\u001B[0m \u001B[1m2s\u001B[0m 4ms/step - accuracy: 0.9968 - loss: 0.0116 - val_accuracy: 0.9949 - val_loss: 0.0211 - learning_rate: 5.0000e-04\n",
      "Epoch 54/100\n",
      "\u001B[1m461/461\u001B[0m \u001B[32m━━━━━━━━━━━━━━━━━━━━\u001B[0m\u001B[37m\u001B[0m \u001B[1m2s\u001B[0m 5ms/step - accuracy: 0.9965 - loss: 0.0116 - val_accuracy: 0.9952 - val_loss: 0.0200 - learning_rate: 5.0000e-04\n",
      "Epoch 55/100\n",
      "\u001B[1m461/461\u001B[0m \u001B[32m━━━━━━━━━━━━━━━━━━━━\u001B[0m\u001B[37m\u001B[0m \u001B[1m2s\u001B[0m 4ms/step - accuracy: 0.9971 - loss: 0.0102 - val_accuracy: 0.9946 - val_loss: 0.0223 - learning_rate: 5.0000e-04\n",
      "Epoch 56/100\n",
      "\u001B[1m461/461\u001B[0m \u001B[32m━━━━━━━━━━━━━━━━━━━━\u001B[0m\u001B[37m\u001B[0m \u001B[1m2s\u001B[0m 4ms/step - accuracy: 0.9966 - loss: 0.0125 - val_accuracy: 0.9948 - val_loss: 0.0225 - learning_rate: 5.0000e-04\n",
      "Epoch 57/100\n",
      "\u001B[1m461/461\u001B[0m \u001B[32m━━━━━━━━━━━━━━━━━━━━\u001B[0m\u001B[37m\u001B[0m \u001B[1m2s\u001B[0m 4ms/step - accuracy: 0.9965 - loss: 0.0128 - val_accuracy: 0.9944 - val_loss: 0.0220 - learning_rate: 5.0000e-04\n",
      "Epoch 58/100\n",
      "\u001B[1m461/461\u001B[0m \u001B[32m━━━━━━━━━━━━━━━━━━━━\u001B[0m\u001B[37m\u001B[0m \u001B[1m2s\u001B[0m 4ms/step - accuracy: 0.9967 - loss: 0.0119 - val_accuracy: 0.9939 - val_loss: 0.0279 - learning_rate: 5.0000e-04\n",
      "Epoch 59/100\n",
      "\u001B[1m457/461\u001B[0m \u001B[32m━━━━━━━━━━━━━━━━━━━\u001B[0m\u001B[37m━\u001B[0m \u001B[1m0s\u001B[0m 4ms/step - accuracy: 0.9967 - loss: 0.0117\n",
      "Epoch 59: ReduceLROnPlateau reducing learning rate to 0.0002500000118743628.\n",
      "\u001B[1m461/461\u001B[0m \u001B[32m━━━━━━━━━━━━━━━━━━━━\u001B[0m\u001B[37m\u001B[0m \u001B[1m3s\u001B[0m 5ms/step - accuracy: 0.9967 - loss: 0.0117 - val_accuracy: 0.9953 - val_loss: 0.0208 - learning_rate: 5.0000e-04\n",
      "Epoch 60/100\n",
      "\u001B[1m461/461\u001B[0m \u001B[32m━━━━━━━━━━━━━━━━━━━━\u001B[0m\u001B[37m\u001B[0m \u001B[1m2s\u001B[0m 4ms/step - accuracy: 0.9972 - loss: 0.0097 - val_accuracy: 0.9954 - val_loss: 0.0201 - learning_rate: 2.5000e-04\n",
      "Epoch 61/100\n",
      "\u001B[1m461/461\u001B[0m \u001B[32m━━━━━━━━━━━━━━━━━━━━\u001B[0m\u001B[37m\u001B[0m \u001B[1m2s\u001B[0m 4ms/step - accuracy: 0.9976 - loss: 0.0091 - val_accuracy: 0.9961 - val_loss: 0.0191 - learning_rate: 2.5000e-04\n",
      "Epoch 62/100\n",
      "\u001B[1m461/461\u001B[0m \u001B[32m━━━━━━━━━━━━━━━━━━━━\u001B[0m\u001B[37m\u001B[0m \u001B[1m2s\u001B[0m 4ms/step - accuracy: 0.9975 - loss: 0.0090 - val_accuracy: 0.9958 - val_loss: 0.0194 - learning_rate: 2.5000e-04\n",
      "Epoch 63/100\n",
      "\u001B[1m461/461\u001B[0m \u001B[32m━━━━━━━━━━━━━━━━━━━━\u001B[0m\u001B[37m\u001B[0m \u001B[1m2s\u001B[0m 4ms/step - accuracy: 0.9975 - loss: 0.0088 - val_accuracy: 0.9961 - val_loss: 0.0186 - learning_rate: 2.5000e-04\n",
      "Epoch 64/100\n",
      "\u001B[1m461/461\u001B[0m \u001B[32m━━━━━━━━━━━━━━━━━━━━\u001B[0m\u001B[37m\u001B[0m \u001B[1m3s\u001B[0m 4ms/step - accuracy: 0.9975 - loss: 0.0092 - val_accuracy: 0.9960 - val_loss: 0.0191 - learning_rate: 2.5000e-04\n",
      "Epoch 65/100\n",
      "\u001B[1m461/461\u001B[0m \u001B[32m━━━━━━━━━━━━━━━━━━━━\u001B[0m\u001B[37m\u001B[0m \u001B[1m3s\u001B[0m 5ms/step - accuracy: 0.9976 - loss: 0.0093 - val_accuracy: 0.9962 - val_loss: 0.0189 - learning_rate: 2.5000e-04\n",
      "Epoch 66/100\n",
      "\u001B[1m461/461\u001B[0m \u001B[32m━━━━━━━━━━━━━━━━━━━━\u001B[0m\u001B[37m\u001B[0m \u001B[1m2s\u001B[0m 4ms/step - accuracy: 0.9976 - loss: 0.0086 - val_accuracy: 0.9958 - val_loss: 0.0190 - learning_rate: 2.5000e-04\n",
      "Epoch 67/100\n",
      "\u001B[1m461/461\u001B[0m \u001B[32m━━━━━━━━━━━━━━━━━━━━\u001B[0m\u001B[37m\u001B[0m \u001B[1m2s\u001B[0m 4ms/step - accuracy: 0.9975 - loss: 0.0095 - val_accuracy: 0.9961 - val_loss: 0.0179 - learning_rate: 2.5000e-04\n",
      "Epoch 68/100\n",
      "\u001B[1m448/461\u001B[0m \u001B[32m━━━━━━━━━━━━━━━━━━━\u001B[0m\u001B[37m━\u001B[0m \u001B[1m0s\u001B[0m 4ms/step - accuracy: 0.9979 - loss: 0.0079\n",
      "Epoch 68: ReduceLROnPlateau reducing learning rate to 0.0001250000059371814.\n",
      "\u001B[1m461/461\u001B[0m \u001B[32m━━━━━━━━━━━━━━━━━━━━\u001B[0m\u001B[37m\u001B[0m \u001B[1m2s\u001B[0m 4ms/step - accuracy: 0.9979 - loss: 0.0079 - val_accuracy: 0.9956 - val_loss: 0.0195 - learning_rate: 2.5000e-04\n",
      "Epoch 69/100\n",
      "\u001B[1m461/461\u001B[0m \u001B[32m━━━━━━━━━━━━━━━━━━━━\u001B[0m\u001B[37m\u001B[0m \u001B[1m3s\u001B[0m 4ms/step - accuracy: 0.9980 - loss: 0.0074 - val_accuracy: 0.9959 - val_loss: 0.0195 - learning_rate: 1.2500e-04\n",
      "Epoch 70/100\n",
      "\u001B[1m461/461\u001B[0m \u001B[32m━━━━━━━━━━━━━━━━━━━━\u001B[0m\u001B[37m\u001B[0m \u001B[1m3s\u001B[0m 5ms/step - accuracy: 0.9979 - loss: 0.0080 - val_accuracy: 0.9960 - val_loss: 0.0186 - learning_rate: 1.2500e-04\n",
      "Epoch 71/100\n",
      "\u001B[1m461/461\u001B[0m \u001B[32m━━━━━━━━━━━━━━━━━━━━\u001B[0m\u001B[37m\u001B[0m \u001B[1m2s\u001B[0m 4ms/step - accuracy: 0.9982 - loss: 0.0071 - val_accuracy: 0.9961 - val_loss: 0.0181 - learning_rate: 1.2500e-04\n",
      "Epoch 72/100\n",
      "\u001B[1m461/461\u001B[0m \u001B[32m━━━━━━━━━━━━━━━━━━━━\u001B[0m\u001B[37m\u001B[0m \u001B[1m2s\u001B[0m 4ms/step - accuracy: 0.9980 - loss: 0.0074 - val_accuracy: 0.9962 - val_loss: 0.0184 - learning_rate: 1.2500e-04\n",
      "Epoch 73/100\n",
      "\u001B[1m461/461\u001B[0m \u001B[32m━━━━━━━━━━━━━━━━━━━━\u001B[0m\u001B[37m\u001B[0m \u001B[1m2s\u001B[0m 4ms/step - accuracy: 0.9979 - loss: 0.0073 - val_accuracy: 0.9963 - val_loss: 0.0181 - learning_rate: 1.2500e-04\n",
      "Epoch 74/100\n",
      "\u001B[1m461/461\u001B[0m \u001B[32m━━━━━━━━━━━━━━━━━━━━\u001B[0m\u001B[37m\u001B[0m \u001B[1m2s\u001B[0m 4ms/step - accuracy: 0.9979 - loss: 0.0073 - val_accuracy: 0.9960 - val_loss: 0.0186 - learning_rate: 1.2500e-04\n",
      "Epoch 75/100\n",
      "\u001B[1m461/461\u001B[0m \u001B[32m━━━━━━━━━━━━━━━━━━━━\u001B[0m\u001B[37m\u001B[0m \u001B[1m3s\u001B[0m 6ms/step - accuracy: 0.9980 - loss: 0.0077 - val_accuracy: 0.9965 - val_loss: 0.0181 - learning_rate: 1.2500e-04\n",
      "Epoch 76/100\n",
      "\u001B[1m461/461\u001B[0m \u001B[32m━━━━━━━━━━━━━━━━━━━━\u001B[0m\u001B[37m\u001B[0m \u001B[1m2s\u001B[0m 4ms/step - accuracy: 0.9980 - loss: 0.0076 - val_accuracy: 0.9963 - val_loss: 0.0179 - learning_rate: 1.2500e-04\n",
      "Epoch 77/100\n",
      "\u001B[1m461/461\u001B[0m \u001B[32m━━━━━━━━━━━━━━━━━━━━\u001B[0m\u001B[37m\u001B[0m \u001B[1m3s\u001B[0m 4ms/step - accuracy: 0.9980 - loss: 0.0076 - val_accuracy: 0.9964 - val_loss: 0.0182 - learning_rate: 1.2500e-04\n",
      "Epoch 78/100\n",
      "\u001B[1m461/461\u001B[0m \u001B[32m━━━━━━━━━━━━━━━━━━━━\u001B[0m\u001B[37m\u001B[0m \u001B[1m2s\u001B[0m 4ms/step - accuracy: 0.9978 - loss: 0.0079 - val_accuracy: 0.9962 - val_loss: 0.0186 - learning_rate: 1.2500e-04\n",
      "Epoch 79/100\n",
      "\u001B[1m461/461\u001B[0m \u001B[32m━━━━━━━━━━━━━━━━━━━━\u001B[0m\u001B[37m\u001B[0m \u001B[1m3s\u001B[0m 4ms/step - accuracy: 0.9981 - loss: 0.0072 - val_accuracy: 0.9965 - val_loss: 0.0178 - learning_rate: 1.2500e-04\n",
      "Epoch 80/100\n",
      "\u001B[1m461/461\u001B[0m \u001B[32m━━━━━━━━━━━━━━━━━━━━\u001B[0m\u001B[37m\u001B[0m \u001B[1m3s\u001B[0m 5ms/step - accuracy: 0.9980 - loss: 0.0074 - val_accuracy: 0.9962 - val_loss: 0.0185 - learning_rate: 1.2500e-04\n",
      "Epoch 81/100\n",
      "\u001B[1m461/461\u001B[0m \u001B[32m━━━━━━━━━━━━━━━━━━━━\u001B[0m\u001B[37m\u001B[0m \u001B[1m2s\u001B[0m 4ms/step - accuracy: 0.9981 - loss: 0.0072 - val_accuracy: 0.9962 - val_loss: 0.0186 - learning_rate: 1.2500e-04\n",
      "Epoch 82/100\n",
      "\u001B[1m456/461\u001B[0m \u001B[32m━━━━━━━━━━━━━━━━━━━\u001B[0m\u001B[37m━\u001B[0m \u001B[1m0s\u001B[0m 4ms/step - accuracy: 0.9981 - loss: 0.0069\n",
      "Epoch 82: ReduceLROnPlateau reducing learning rate to 6.25000029685907e-05.\n",
      "\u001B[1m461/461\u001B[0m \u001B[32m━━━━━━━━━━━━━━━━━━━━\u001B[0m\u001B[37m\u001B[0m \u001B[1m2s\u001B[0m 4ms/step - accuracy: 0.9981 - loss: 0.0069 - val_accuracy: 0.9964 - val_loss: 0.0176 - learning_rate: 1.2500e-04\n",
      "Epoch 83/100\n",
      "\u001B[1m461/461\u001B[0m \u001B[32m━━━━━━━━━━━━━━━━━━━━\u001B[0m\u001B[37m\u001B[0m \u001B[1m2s\u001B[0m 4ms/step - accuracy: 0.9983 - loss: 0.0063 - val_accuracy: 0.9962 - val_loss: 0.0182 - learning_rate: 6.2500e-05\n",
      "Epoch 84/100\n",
      "\u001B[1m461/461\u001B[0m \u001B[32m━━━━━━━━━━━━━━━━━━━━\u001B[0m\u001B[37m\u001B[0m \u001B[1m2s\u001B[0m 4ms/step - accuracy: 0.9982 - loss: 0.0069 - val_accuracy: 0.9962 - val_loss: 0.0183 - learning_rate: 6.2500e-05\n",
      "Epoch 85/100\n",
      "\u001B[1m461/461\u001B[0m \u001B[32m━━━━━━━━━━━━━━━━━━━━\u001B[0m\u001B[37m\u001B[0m \u001B[1m2s\u001B[0m 4ms/step - accuracy: 0.9982 - loss: 0.0065 - val_accuracy: 0.9966 - val_loss: 0.0176 - learning_rate: 6.2500e-05\n",
      "Epoch 86/100\n",
      "\u001B[1m461/461\u001B[0m \u001B[32m━━━━━━━━━━━━━━━━━━━━\u001B[0m\u001B[37m\u001B[0m \u001B[1m3s\u001B[0m 5ms/step - accuracy: 0.9979 - loss: 0.0078 - val_accuracy: 0.9964 - val_loss: 0.0182 - learning_rate: 6.2500e-05\n",
      "Epoch 87/100\n",
      "\u001B[1m461/461\u001B[0m \u001B[32m━━━━━━━━━━━━━━━━━━━━\u001B[0m\u001B[37m\u001B[0m \u001B[1m2s\u001B[0m 4ms/step - accuracy: 0.9983 - loss: 0.0066 - val_accuracy: 0.9965 - val_loss: 0.0178 - learning_rate: 6.2500e-05\n",
      "Epoch 88/100\n",
      "\u001B[1m461/461\u001B[0m \u001B[32m━━━━━━━━━━━━━━━━━━━━\u001B[0m\u001B[37m\u001B[0m \u001B[1m2s\u001B[0m 4ms/step - accuracy: 0.9983 - loss: 0.0059 - val_accuracy: 0.9962 - val_loss: 0.0184 - learning_rate: 6.2500e-05\n",
      "Epoch 89/100\n",
      "\u001B[1m461/461\u001B[0m \u001B[32m━━━━━━━━━━━━━━━━━━━━\u001B[0m\u001B[37m\u001B[0m \u001B[1m2s\u001B[0m 4ms/step - accuracy: 0.9983 - loss: 0.0065 - val_accuracy: 0.9966 - val_loss: 0.0179 - learning_rate: 6.2500e-05\n",
      "Epoch 90/100\n",
      "\u001B[1m461/461\u001B[0m \u001B[32m━━━━━━━━━━━━━━━━━━━━\u001B[0m\u001B[37m\u001B[0m \u001B[1m2s\u001B[0m 4ms/step - accuracy: 0.9983 - loss: 0.0063 - val_accuracy: 0.9965 - val_loss: 0.0180 - learning_rate: 6.2500e-05\n",
      "Epoch 91/100\n",
      "\u001B[1m461/461\u001B[0m \u001B[32m━━━━━━━━━━━━━━━━━━━━\u001B[0m\u001B[37m\u001B[0m \u001B[1m3s\u001B[0m 5ms/step - accuracy: 0.9983 - loss: 0.0065 - val_accuracy: 0.9964 - val_loss: 0.0179 - learning_rate: 6.2500e-05\n",
      "Epoch 92/100\n",
      "\u001B[1m447/461\u001B[0m \u001B[32m━━━━━━━━━━━━━━━━━━━\u001B[0m\u001B[37m━\u001B[0m \u001B[1m0s\u001B[0m 4ms/step - accuracy: 0.9984 - loss: 0.0064\n",
      "Epoch 92: ReduceLROnPlateau reducing learning rate to 3.125000148429535e-05.\n",
      "\u001B[1m461/461\u001B[0m \u001B[32m━━━━━━━━━━━━━━━━━━━━\u001B[0m\u001B[37m\u001B[0m \u001B[1m2s\u001B[0m 4ms/step - accuracy: 0.9983 - loss: 0.0064 - val_accuracy: 0.9965 - val_loss: 0.0180 - learning_rate: 6.2500e-05\n",
      "Epoch 93/100\n",
      "\u001B[1m461/461\u001B[0m \u001B[32m━━━━━━━━━━━━━━━━━━━━\u001B[0m\u001B[37m\u001B[0m \u001B[1m3s\u001B[0m 4ms/step - accuracy: 0.9984 - loss: 0.0061 - val_accuracy: 0.9963 - val_loss: 0.0181 - learning_rate: 3.1250e-05\n",
      "Epoch 94/100\n",
      "\u001B[1m461/461\u001B[0m \u001B[32m━━━━━━━━━━━━━━━━━━━━\u001B[0m\u001B[37m\u001B[0m \u001B[1m3s\u001B[0m 4ms/step - accuracy: 0.9983 - loss: 0.0065 - val_accuracy: 0.9965 - val_loss: 0.0178 - learning_rate: 3.1250e-05\n",
      "Epoch 95/100\n",
      "\u001B[1m461/461\u001B[0m \u001B[32m━━━━━━━━━━━━━━━━━━━━\u001B[0m\u001B[37m\u001B[0m \u001B[1m3s\u001B[0m 4ms/step - accuracy: 0.9983 - loss: 0.0059 - val_accuracy: 0.9965 - val_loss: 0.0177 - learning_rate: 3.1250e-05\n",
      "Epoch 96/100\n",
      "\u001B[1m461/461\u001B[0m \u001B[32m━━━━━━━━━━━━━━━━━━━━\u001B[0m\u001B[37m\u001B[0m \u001B[1m3s\u001B[0m 5ms/step - accuracy: 0.9983 - loss: 0.0066 - val_accuracy: 0.9962 - val_loss: 0.0180 - learning_rate: 3.1250e-05\n",
      "Epoch 97/100\n",
      "\u001B[1m461/461\u001B[0m \u001B[32m━━━━━━━━━━━━━━━━━━━━\u001B[0m\u001B[37m\u001B[0m \u001B[1m2s\u001B[0m 4ms/step - accuracy: 0.9982 - loss: 0.0066 - val_accuracy: 0.9965 - val_loss: 0.0178 - learning_rate: 3.1250e-05\n",
      "Epoch 98/100\n",
      "\u001B[1m461/461\u001B[0m \u001B[32m━━━━━━━━━━━━━━━━━━━━\u001B[0m\u001B[37m\u001B[0m \u001B[1m2s\u001B[0m 4ms/step - accuracy: 0.9982 - loss: 0.0065 - val_accuracy: 0.9964 - val_loss: 0.0181 - learning_rate: 3.1250e-05\n",
      "Epoch 99/100\n",
      "\u001B[1m453/461\u001B[0m \u001B[32m━━━━━━━━━━━━━━━━━━━\u001B[0m\u001B[37m━\u001B[0m \u001B[1m0s\u001B[0m 4ms/step - accuracy: 0.9983 - loss: 0.0063\n",
      "Epoch 99: ReduceLROnPlateau reducing learning rate to 1.5625000742147677e-05.\n",
      "\u001B[1m461/461\u001B[0m \u001B[32m━━━━━━━━━━━━━━━━━━━━\u001B[0m\u001B[37m\u001B[0m \u001B[1m2s\u001B[0m 4ms/step - accuracy: 0.9983 - loss: 0.0063 - val_accuracy: 0.9963 - val_loss: 0.0181 - learning_rate: 3.1250e-05\n",
      "Epoch 100/100\n",
      "\u001B[1m461/461\u001B[0m \u001B[32m━━━━━━━━━━━━━━━━━━━━\u001B[0m\u001B[37m\u001B[0m \u001B[1m3s\u001B[0m 4ms/step - accuracy: 0.9983 - loss: 0.0062 - val_accuracy: 0.9964 - val_loss: 0.0178 - learning_rate: 1.5625e-05\n",
      "Epoch 100: early stopping\n",
      "Restoring model weights from the end of the best epoch: 85.\n"
     ]
    }
   ],
   "source": [
    "history = dnn_model.fit(\n",
    "    X_train_np, y_train_np,\n",
    "    validation_data=(X_test_np, y_test_np),\n",
    "    epochs=100,\n",
    "    batch_size=512,\n",
    "    callbacks=callbacks,\n",
    "    verbose=1\n",
    ")"
   ]
  },
  {
   "cell_type": "code",
   "execution_count": 11,
   "id": "961d0ebd",
   "metadata": {
    "colab": {
     "base_uri": "https://localhost:8080/"
    },
    "id": "961d0ebd",
    "outputId": "94394600-65a7-4533-eb06-bb49d2d2359d"
   },
   "outputs": [
    {
     "output_type": "stream",
     "name": "stdout",
     "text": [
      "\n",
      " Training completed in 255.18 seconds\n"
     ]
    }
   ],
   "source": [
    "train_end_time = time.time()\n",
    "training_time = train_end_time - train_start_time\n",
    "\n",
    "print(f\"\\n Training completed in {training_time:.2f} seconds\")"
   ]
  },
  {
   "cell_type": "code",
   "execution_count": 12,
   "id": "97dbeeee",
   "metadata": {
    "colab": {
     "base_uri": "https://localhost:8080/"
    },
    "id": "97dbeeee",
    "outputId": "80fde215-d92e-4757-eedf-03830822f2be"
   },
   "outputs": [
    {
     "output_type": "stream",
     "name": "stdout",
     "text": [
      " Calculating training accuracy...\n",
      " Training prediction completed in 16.76 seconds\n",
      " Training Accuracy: 0.9991 (99.91%)\n"
     ]
    }
   ],
   "source": [
    "print(\" Calculating training accuracy...\")\n",
    "train_pred_start = time.time()\n",
    "\n",
    "y_train_pred_proba = dnn_model.predict(X_train_np, verbose=0)\n",
    "y_train_pred = np.argmax(y_train_pred_proba, axis=1)\n",
    "\n",
    "train_pred_end = time.time()\n",
    "train_pred_time = train_pred_end - train_pred_start\n",
    "\n",
    "training_accuracy = accuracy_score(y_train_np, y_train_pred)\n",
    "\n",
    "print(f\" Training prediction completed in {train_pred_time:.2f} seconds\")\n",
    "print(f\" Training Accuracy: {training_accuracy:.4f} ({training_accuracy*100:.2f}%)\")"
   ]
  },
  {
   "cell_type": "code",
   "execution_count": 13,
   "id": "3fa01dca",
   "metadata": {
    "colab": {
     "base_uri": "https://localhost:8080/"
    },
    "id": "3fa01dca",
    "outputId": "d1ed3326-9e28-4ffe-ba08-69d9b204ca95"
   },
   "outputs": [
    {
     "output_type": "stream",
     "name": "stdout",
     "text": [
      " Making predictions on test set...\n",
      " Testing completed in 2.29 seconds\n"
     ]
    }
   ],
   "source": [
    "print(\" Making predictions on test set...\")\n",
    "test_start_time = time.time()\n",
    "\n",
    "y_pred_proba = dnn_model.predict(X_test_np, verbose=0)\n",
    "y_pred = np.argmax(y_pred_proba, axis=1)\n",
    "\n",
    "test_end_time = time.time()\n",
    "testing_time = test_end_time - test_start_time\n",
    "\n",
    "print(f\" Testing completed in {testing_time:.2f} seconds\")"
   ]
  },
  {
   "cell_type": "code",
   "execution_count": 14,
   "id": "507824b1",
   "metadata": {
    "colab": {
     "base_uri": "https://localhost:8080/"
    },
    "id": "507824b1",
    "outputId": "4cfe0783-f1e4-4c94-c128-6073a8cade02"
   },
   "outputs": [
    {
     "output_type": "stream",
     "name": "stdout",
     "text": [
      " DNN Test Accuracy: 0.9966 (99.66%)\n"
     ]
    }
   ],
   "source": [
    "test_accuracy = accuracy_score(y_test_np, y_pred)\n",
    "\n",
    "print(f\" DNN Test Accuracy: {test_accuracy:.4f} ({test_accuracy*100:.2f}%)\")"
   ]
  },
  {
   "cell_type": "markdown",
   "id": "6874c6eb",
   "metadata": {
    "id": "6874c6eb"
   },
   "source": [
    "---\n",
    "\n",
    "## Detailed Performance Metrics"
   ]
  },
  {
   "cell_type": "code",
   "execution_count": 15,
   "id": "f244377b",
   "metadata": {
    "colab": {
     "base_uri": "https://localhost:8080/"
    },
    "id": "f244377b",
    "outputId": "d5c8e72e-c1fd-4980-ba89-0c449abf189e"
   },
   "outputs": [
    {
     "output_type": "stream",
     "name": "stdout",
     "text": [
      "📊 DETAILED DNN PERFORMANCE:\n",
      "========================================\n",
      "TRAINING SET:\n",
      "Accuracy:  0.9991\n",
      "Precision: 0.9991\n",
      "Recall:    0.9991\n",
      "F1-Score:  0.9991\n",
      "\n",
      "TEST SET:\n",
      "Accuracy:  0.9966\n",
      "Precision: 0.9973\n",
      "Recall:    0.9966\n",
      "F1-Score:  0.9968\n",
      "\n",
      "TIMING:\n",
      "Training time: 255.18 seconds\n",
      "Testing time: 2.29 seconds\n",
      "========================================\n"
     ]
    }
   ],
   "source": [
    "precision, recall, f1, _ = precision_recall_fscore_support(y_test_np, y_pred, average='weighted')\n",
    "train_precision, train_recall, train_f1, _ = precision_recall_fscore_support(y_train_np, y_train_pred, average='weighted')\n",
    "\n",
    "print(\"📊 DETAILED DNN PERFORMANCE:\")\n",
    "print(\"=\"*40)\n",
    "print(\"TRAINING SET:\")\n",
    "print(f\"Accuracy:  {training_accuracy:.4f}\")\n",
    "print(f\"Precision: {train_precision:.4f}\")\n",
    "print(f\"Recall:    {train_recall:.4f}\")\n",
    "print(f\"F1-Score:  {train_f1:.4f}\")\n",
    "print()\n",
    "print(\"TEST SET:\")\n",
    "print(f\"Accuracy:  {test_accuracy:.4f}\")\n",
    "print(f\"Precision: {precision:.4f}\")\n",
    "print(f\"Recall:    {recall:.4f}\")\n",
    "print(f\"F1-Score:  {f1:.4f}\")\n",
    "print()\n",
    "print(\"TIMING:\")\n",
    "print(f\"Training time: {training_time:.2f} seconds\")\n",
    "print(f\"Testing time: {testing_time:.2f} seconds\")\n",
    "print(\"=\"*40)"
   ]
  },
  {
   "cell_type": "markdown",
   "id": "9dc5c1c1",
   "metadata": {
    "id": "9dc5c1c1"
   },
   "source": [
    "---\n",
    "\n",
    "## Classification Report"
   ]
  },
  {
   "cell_type": "code",
   "execution_count": 16,
   "id": "042f6033",
   "metadata": {
    "colab": {
     "base_uri": "https://localhost:8080/"
    },
    "id": "042f6033",
    "outputId": "ffcd4efd-ad7b-4fc1-995b-cac29e963d58"
   },
   "outputs": [
    {
     "output_type": "stream",
     "name": "stdout",
     "text": [
      "              precision    recall  f1-score   support\n",
      "\n",
      "           0       1.00      1.00      1.00     13778\n",
      "           1       0.99      1.00      1.00      3497\n",
      "           2       0.87      0.96      0.91       298\n",
      "           3       0.32      0.94      0.48        16\n",
      "           4       1.00      1.00      1.00     20203\n",
      "\n",
      "    accuracy                           1.00     37792\n",
      "   macro avg       0.84      0.98      0.88     37792\n",
      "weighted avg       1.00      1.00      1.00     37792\n",
      "\n"
     ]
    }
   ],
   "source": [
    "print(classification_report(y_test_np, y_pred))"
   ]
  },
  {
   "cell_type": "markdown",
   "id": "88af2918",
   "metadata": {
    "id": "88af2918"
   },
   "source": [
    "---\n",
    "\n",
    "## DNN Training History Visualization"
   ]
  },
  {
   "cell_type": "code",
   "execution_count": 17,
   "id": "1d5b050b",
   "metadata": {
    "colab": {
     "base_uri": "https://localhost:8080/",
     "height": 469
    },
    "id": "1d5b050b",
    "outputId": "5ab1e58f-3700-4410-c5d5-6be74303352c"
   },
   "outputs": [
    {
     "output_type": "display_data",
     "data": {
      "text/plain": [
       "<Figure size 1200x400 with 2 Axes>"
      ],
      "image/png": "[encoded data removed]"
     },
     "metadata": {}
    },
    {
     "output_type": "stream",
     "name": "stdout",
     "text": [
      "📈 Training completed after 100 epochs\n",
      "🎯 Final training accuracy: 0.9982\n",
      "🎯 Final validation accuracy: 0.9964\n",
      "📉 Final training loss: 0.0065\n",
      "📉 Final validation loss: 0.0178\n"
     ]
    }
   ],
   "source": [
    "import matplotlib.pyplot as plt\n",
    "\n",
    "plt.figure(figsize=(12, 4))\n",
    "\n",
    "plt.subplot(1, 2, 1)\n",
    "plt.plot(history.history['accuracy'], label='Train Acc', color='blue')\n",
    "plt.plot(history.history['val_accuracy'], label='Val Acc', color='orange')\n",
    "plt.title('Model Accuracy')\n",
    "plt.xlabel('Epoch')\n",
    "plt.ylabel('Accuracy')\n",
    "plt.legend()\n",
    "plt.grid(True, alpha=0.3)\n",
    "\n",
    "plt.subplot(1, 2, 2)\n",
    "plt.plot(history.history['loss'], label='Train Loss', color='blue')\n",
    "plt.plot(history.history['val_loss'], label='Val Loss', color='orange')\n",
    "plt.title('Model Loss')\n",
    "plt.xlabel('Epoch')\n",
    "plt.ylabel('Loss')\n",
    "plt.legend()\n",
    "plt.grid(True, alpha=0.3)\n",
    "\n",
    "plt.tight_layout()\n",
    "plt.show()\n",
    "\n",
    "print(f\"📈 Training completed after {len(history.history['accuracy'])} epochs\")\n",
    "print(f\"🎯 Final training accuracy: {history.history['accuracy'][-1]:.4f}\")\n",
    "print(f\"🎯 Final validation accuracy: {history.history['val_accuracy'][-1]:.4f}\")\n",
    "print(f\"📉 Final training loss: {history.history['loss'][-1]:.4f}\")\n",
    "print(f\"📉 Final validation loss: {history.history['val_loss'][-1]:.4f}\")"
   ]
  },
  {
   "cell_type": "markdown",
   "id": "46e42f42",
   "metadata": {
    "id": "46e42f42"
   },
   "source": [
    "---\n",
    "\n",
    "## Final DNN Summary"
   ]
  },
  {
   "cell_type": "code",
   "execution_count": 18,
   "id": "5717ab0a",
   "metadata": {
    "colab": {
     "base_uri": "https://localhost:8080/"
    },
    "id": "5717ab0a",
    "outputId": "1cbae402-5669-4df9-a19f-0d09cef63c8f"
   },
   "outputs": [
    {
     "output_type": "stream",
     "name": "stdout",
     "text": [
      "📋 DEEP NEURAL NETWORK FINAL SUMMARY:\n",
      "=======================================================\n",
      "Architecture: 5 hidden layers (512→256→128→64→32)\n",
      "Total parameters: 189,445\n",
      "Training time: 255.18s\n",
      "Training accuracy: 0.9991\n",
      "Test accuracy: 0.9966\n",
      "Accuracy gap: 0.25%\n",
      "Status: CHALLENGER 💪\n",
      "=======================================================\n"
     ]
    }
   ],
   "source": [
    "print(\"📋 DEEP NEURAL NETWORK FINAL SUMMARY:\")\n",
    "print(\"=\"*55)\n",
    "print(f\"Architecture: 5 hidden layers (512→256→128→64→32)\")\n",
    "print(f\"Total parameters: {dnn_model.count_params():,}\")\n",
    "print(f\"Training time: {training_time:.2f}s\")\n",
    "print(f\"Training accuracy: {training_accuracy:.4f}\")\n",
    "print(f\"Test accuracy: {test_accuracy:.4f}\")\n",
    "print(f\"Accuracy gap: {(training_accuracy-test_accuracy)*100:.2f}%\")\n",
    "print(f\"Status: {'CHAMPION! 🏆' if test_accuracy > 0.9985 else 'CHALLENGER 💪'}\")\n",
    "print(\"=\"*55)\n"
   ]
  }
 ],
 "metadata": {
  "jupytext": {
   "cell_metadata_filter": "-all",
   "main_language": "python",
   "notebook_metadata_filter": "-all"
  },
  "colab": {
   "provenance": [],
   "gpuType": "T4"
  },
  "language_info": {
   "name": "python"
  },
  "kernelspec": {
   "name": "python3",
   "display_name": "Python 3"
  },
  "accelerator": "GPU"
 },
 "nbformat": 4,
 "nbformat_minor": 5
}
