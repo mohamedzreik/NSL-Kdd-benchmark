{
 "cells": [
  {
   "cell_type": "code",
   "execution_count": 44,
   "id": "19d42176",
   "metadata": {
    "id": "19d42176"
   },
   "outputs": [],
   "source": [
    "!pip install pytorch-tabnet -q"
   ]
  },
  {
   "cell_type": "code",
   "execution_count": 45,
   "id": "254eb0f5",
   "metadata": {
    "id": "254eb0f5"
   },
   "outputs": [],
   "source": [
    "import numpy as np\n",
    "import pandas as pd\n",
    "import torch\n",
    "from pytorch_tabnet.tab_model import TabNetClassifier\n",
    "from sklearn.metrics import accuracy_score, classification_report, precision_recall_fscore_support\n",
    "import time\n",
    "import warnings\n",
    "warnings.filterwarnings('ignore')\n",
    "\n"
   ]
  },
  {
   "cell_type": "code",
   "execution_count": 46,
   "id": "1db71b4a",
   "metadata": {
    "colab": {
     "base_uri": "https://localhost:8080/"
    },
    "id": "1db71b4a",
    "outputId": "3be03a36-b344-4289-9797-20bc05b4758b"
   },
   "outputs": [
    {
     "output_type": "stream",
     "name": "stdout",
     "text": [
      "✅ Data loaded successfully!\n",
      "Training set: 235700 samples, 20 features\n",
      "Test set: 37792 samples, 20 features\n"
     ]
    }
   ],
   "source": [
    "\n",
    "\n",
    "X_train = pd.read_csv('Dataset/X_train_100.csv')\n",
    "y_train = pd.read_csv('Dataset/y_train_100.csv').iloc[:, 0]\n",
    "X_test = pd.read_csv('Dataset/X_test.csv')\n",
    "y_test = pd.read_csv('Dataset/y_test.csv').iloc[:, 0]\n",
    "\n",
    "print(f\" Data loaded successfully!\")\n",
    "print(f\"Training set: {X_train.shape[0]} samples, {X_train.shape[1]} features\")\n",
    "print(f\"Test set: {X_test.shape[0]} samples, {X_test.shape[1]} features\")"
   ]
  },
  {
   "cell_type": "code",
   "execution_count": 47,
   "id": "0098e5d8",
   "metadata": {
    "colab": {
     "base_uri": "https://localhost:8080/"
    },
    "id": "0098e5d8",
    "outputId": "ff661bf3-47c4-4f7f-e3cb-6712c1b605db"
   },
   "outputs": [
    {
     "output_type": "stream",
     "name": "stdout",
     "text": [
      " Data Information:\n",
      "Training features shape: (235700, 20)\n",
      "Training labels shape: (235700,)\n",
      "Test features shape: (37792, 20)\n",
      "Test labels shape: (37792,)\n",
      "\n",
      "Number of classes: 5\n",
      "Classes: [np.int64(0), np.int64(1), np.int64(2), np.int64(3), np.int64(4)]\n",
      "\n",
      "Class distribution in training data:\n",
      "0\n",
      "0    47140\n",
      "1    47140\n",
      "2    47140\n",
      "3    47140\n",
      "4    47140\n",
      "Name: count, dtype: int64\n"
     ]
    }
   ],
   "source": [
    "print(\" Data Information:\")\n",
    "print(f\"Training features shape: {X_train.shape}\")\n",
    "print(f\"Training labels shape: {y_train.shape}\")\n",
    "print(f\"Test features shape: {X_test.shape}\")\n",
    "print(f\"Test labels shape: {y_test.shape}\")\n",
    "\n",
    "print(f\"\\nNumber of classes: {len(np.unique(y_train))}\")\n",
    "print(f\"Classes: {sorted(np.unique(y_train))}\")\n",
    "\n",
    "print(\"\\nClass distribution in training data:\")\n",
    "print(y_train.value_counts().sort_index())"
   ]
  },
  {
   "cell_type": "code",
   "execution_count": 48,
   "id": "08026d0c",
   "metadata": {
    "colab": {
     "base_uri": "https://localhost:8080/"
    },
    "id": "08026d0c",
    "outputId": "28ca4f9e-8b79-465e-8ad0-2280ba6aaeb5"
   },
   "outputs": [
    {
     "output_type": "stream",
     "name": "stdout",
     "text": [
      " Data converted to TabNet format\n",
      "X_train shape: (235700, 20)\n",
      "X_test shape: (37792, 20)\n",
      "y_train shape: (235700,)\n",
      "y_test shape: (37792,)\n"
     ]
    }
   ],
   "source": [
    "X_train_np = X_train.values.astype(np.float32)\n",
    "X_test_np = X_test.values.astype(np.float32)\n",
    "y_train_np = y_train.values.astype(np.int64)\n",
    "y_test_np = y_test.values.astype(np.int64)\n",
    "\n",
    "print(\" Data converted to TabNet format\")\n",
    "print(f\"X_train shape: {X_train_np.shape}\")\n",
    "print(f\"X_test shape: {X_test_np.shape}\")\n",
    "print(f\"y_train shape: {y_train_np.shape}\")\n",
    "print(f\"y_test shape: {y_test_np.shape}\")"
   ]
  },
  {
   "cell_type": "code",
   "execution_count": 49,
   "id": "0e2d1703",
   "metadata": {
    "colab": {
     "base_uri": "https://localhost:8080/"
    },
    "id": "0e2d1703",
    "outputId": "60bd1306-26e8-4104-ca9a-b85b14a84c38"
   },
   "outputs": [
    {
     "output_type": "stream",
     "name": "stdout",
     "text": [
      " TabNet dimensions:\n",
      "Input features: 20\n",
      "Output classes: 5\n",
      "Training samples: 235,700\n",
      "Test samples: 37,792\n"
     ]
    }
   ],
   "source": [
    "n_features = X_train_np.shape[1]\n",
    "n_classes = len(np.unique(y_train_np))\n",
    "\n",
    "print(f\" TabNet dimensions:\")\n",
    "print(f\"Input features: {n_features}\")\n",
    "print(f\"Output classes: {n_classes}\")\n",
    "print(f\"Training samples: {X_train_np.shape[0]:,}\")\n",
    "print(f\"Test samples: {X_test_np.shape[0]:,}\")"
   ]
  },
  {
   "cell_type": "code",
   "execution_count": 50,
   "id": "02b7597e",
   "metadata": {
    "id": "02b7597e"
   },
   "outputs": [],
   "source": [
    "tabnet_model = TabNetClassifier(\n",
    "    n_d=32,\n",
    "    n_a=32,\n",
    "    n_steps=5,\n",
    "    gamma=1.3,\n",
    "    lambda_sparse=1e-3,\n",
    "    optimizer_fn=torch.optim.Adam,\n",
    "    optimizer_params=dict(lr=2e-2),\n",
    "    mask_type='entmax',\n",
    "    n_independent=2,\n",
    "    n_shared=2,\n",
    "    seed=42,\n",
    "    verbose=1\n",
    ")"
   ]
  },
  {
   "cell_type": "markdown",
   "id": "1491d96a",
   "metadata": {
    "id": "1491d96a"
   },
   "source": [
    "---\n",
    "\n",
    "## Display TabNet Info"
   ]
  },
  {
   "cell_type": "code",
   "execution_count": 51,
   "id": "c989cdf5",
   "metadata": {
    "colab": {
     "base_uri": "https://localhost:8080/"
    },
    "id": "c989cdf5",
    "outputId": "0977617c-731c-4f22-f8fe-5e104d3888e5"
   },
   "outputs": [
    {
     "output_type": "stream",
     "name": "stdout",
     "text": [
      " TabNet Architecture Details:\n",
      "Model type: TabNetClassifier\n",
      "Device: GPU\n",
      "Optimizer: Adam\n",
      "Regularization: L1 sparse (λ=0.001)\n"
     ]
    }
   ],
   "source": [
    "print(\" TabNet Architecture Details:\")\n",
    "print(f\"Model type: {type(tabnet_model).__name__}\")\n",
    "print(f\"Device: {'GPU' if torch.cuda.is_available() else 'CPU'}\")\n",
    "print(f\"Optimizer: Adam\")\n",
    "print(f\"Regularization: L1 sparse (λ={1e-3})\")"
   ]
  },
  {
   "cell_type": "code",
   "execution_count": 52,
   "id": "db83abb7",
   "metadata": {
    "id": "db83abb7"
   },
   "outputs": [],
   "source": [
    "train_start_time = time.time()"
   ]
  },
  {
   "cell_type": "markdown",
   "id": "b10cc545",
   "metadata": {
    "id": "b10cc545"
   },
   "source": [
    "---\n",
    "\n",
    "## Train TabNet Model"
   ]
  },
  {
   "cell_type": "code",
   "execution_count": 53,
   "id": "03286bcc",
   "metadata": {
    "colab": {
     "base_uri": "https://localhost:8080/"
    },
    "id": "03286bcc",
    "outputId": "92afce88-80c1-49d9-e2bb-3df06733b055"
   },
   "outputs": [
    {
     "output_type": "stream",
     "name": "stdout",
     "text": [
      "epoch 0  | loss: 0.10813 | train_accuracy: 0.92772 | train_logloss: 0.27269 | test_accuracy: 0.94314 | test_logloss: 0.2022  |  0:00:24s\n",
      "epoch 1  | loss: 0.03975 | train_accuracy: 0.98941 | train_logloss: 0.03394 | test_accuracy: 0.9819  | test_logloss: 0.06098 |  0:00:40s\n",
      "epoch 2  | loss: 0.03443 | train_accuracy: 0.97822 | train_logloss: 0.07426 | test_accuracy: 0.98661 | test_logloss: 0.06808 |  0:00:57s\n",
      "epoch 3  | loss: 0.02919 | train_accuracy: 0.9887  | train_logloss: 0.03346 | test_accuracy: 0.98288 | test_logloss: 0.05549 |  0:01:13s\n",
      "epoch 4  | loss: 0.02195 | train_accuracy: 0.95798 | train_logloss: 0.14403 | test_accuracy: 0.98775 | test_logloss: 0.04212 |  0:01:30s\n",
      "epoch 5  | loss: 0.01997 | train_accuracy: 0.86647 | train_logloss: 0.85163 | test_accuracy: 0.98873 | test_logloss: 0.05541 |  0:01:46s\n",
      "epoch 6  | loss: 0.03421 | train_accuracy: 0.99337 | train_logloss: 0.02209 | test_accuracy: 0.98661 | test_logloss: 0.04596 |  0:02:02s\n",
      "epoch 7  | loss: 0.01921 | train_accuracy: 0.99469 | train_logloss: 0.02557 | test_accuracy: 0.9874  | test_logloss: 0.06322 |  0:02:17s\n",
      "epoch 8  | loss: 0.0186  | train_accuracy: 0.99717 | train_logloss: 0.01145 | test_accuracy: 0.99423 | test_logloss: 0.02535 |  0:02:34s\n",
      "epoch 9  | loss: 0.01425 | train_accuracy: 0.99625 | train_logloss: 0.01832 | test_accuracy: 0.99119 | test_logloss: 0.04924 |  0:02:50s\n",
      "epoch 10 | loss: 0.01473 | train_accuracy: 0.99515 | train_logloss: 0.01603 | test_accuracy: 0.99037 | test_logloss: 0.03879 |  0:03:06s\n",
      "epoch 11 | loss: 0.01265 | train_accuracy: 0.99711 | train_logloss: 0.01054 | test_accuracy: 0.99307 | test_logloss: 0.02864 |  0:03:23s\n",
      "epoch 12 | loss: 0.01142 | train_accuracy: 0.96768 | train_logloss: 0.10762 | test_accuracy: 0.99233 | test_logloss: 0.02897 |  0:03:38s\n",
      "epoch 13 | loss: 0.01192 | train_accuracy: 0.99638 | train_logloss: 0.01219 | test_accuracy: 0.9937  | test_logloss: 0.02592 |  0:03:54s\n",
      "epoch 14 | loss: 0.01757 | train_accuracy: 0.99009 | train_logloss: 0.04079 | test_accuracy: 0.98161 | test_logloss: 0.07633 |  0:04:11s\n",
      "epoch 15 | loss: 0.03116 | train_accuracy: 0.95519 | train_logloss: 0.20307 | test_accuracy: 0.98352 | test_logloss: 0.04971 |  0:04:27s\n",
      "epoch 16 | loss: 0.01959 | train_accuracy: 0.99603 | train_logloss: 0.0167  | test_accuracy: 0.99161 | test_logloss: 0.03518 |  0:04:43s\n",
      "epoch 17 | loss: 0.01426 | train_accuracy: 0.97185 | train_logloss: 0.08054 | test_accuracy: 0.99169 | test_logloss: 0.0319  |  0:05:00s\n",
      "epoch 18 | loss: 0.01157 | train_accuracy: 0.96229 | train_logloss: 0.13303 | test_accuracy: 0.9932  | test_logloss: 0.02723 |  0:05:16s\n",
      "epoch 19 | loss: 0.0137  | train_accuracy: 0.99011 | train_logloss: 0.04698 | test_accuracy: 0.98391 | test_logloss: 0.07074 |  0:05:32s\n",
      "epoch 20 | loss: 0.01793 | train_accuracy: 0.99664 | train_logloss: 0.01075 | test_accuracy: 0.99241 | test_logloss: 0.02744 |  0:05:48s\n",
      "epoch 21 | loss: 0.01186 | train_accuracy: 0.96954 | train_logloss: 0.11245 | test_accuracy: 0.98463 | test_logloss: 0.10203 |  0:06:04s\n",
      "epoch 22 | loss: 0.01292 | train_accuracy: 0.9912  | train_logloss: 0.03754 | test_accuracy: 0.99211 | test_logloss: 0.0625  |  0:06:20s\n",
      "epoch 23 | loss: 0.01239 | train_accuracy: 0.99612 | train_logloss: 0.01671 | test_accuracy: 0.99053 | test_logloss: 0.04236 |  0:06:37s\n",
      "\n",
      "Early stopping occurred at epoch 23 with best_epoch = 8 and best_test_logloss = 0.02535\n"
     ]
    }
   ],
   "source": [
    "tabnet_model.fit(\n",
    "    X_train=X_train_np,\n",
    "    y_train=y_train_np,\n",
    "    eval_set=[\n",
    "      (X_train_np, y_train_np),\n",
    "      (X_test_np,  y_test_np)\n",
    "    ],\n",
    "    eval_name=['train', 'test'],\n",
    "    eval_metric=['accuracy','logloss'],\n",
    "    max_epochs=100,\n",
    "    patience=15,\n",
    "    batch_size=1024,\n",
    "    virtual_batch_size=512,\n",
    "    num_workers=0,\n",
    "    drop_last=False\n",
    ")\n"
   ]
  },
  {
   "cell_type": "markdown",
   "id": "5643bbef",
   "metadata": {
    "id": "5643bbef"
   },
   "source": [
    "---\n",
    "\n",
    "## Calculate Training Time"
   ]
  },
  {
   "cell_type": "code",
   "execution_count": 54,
   "id": "415ded02",
   "metadata": {
    "colab": {
     "base_uri": "https://localhost:8080/"
    },
    "id": "415ded02",
    "outputId": "e755d438-64ae-4d57-f471-954c8678a85d"
   },
   "outputs": [
    {
     "output_type": "stream",
     "name": "stdout",
     "text": [
      "\n",
      " Training completed in 408.80 seconds\n"
     ]
    }
   ],
   "source": [
    "train_end_time = time.time()\n",
    "training_time = train_end_time - train_start_time\n",
    "\n",
    "print(f\"\\n Training completed in {training_time:.2f} seconds\")"
   ]
  },
  {
   "cell_type": "code",
   "execution_count": 55,
   "id": "b5ef516d",
   "metadata": {
    "colab": {
     "base_uri": "https://localhost:8080/"
    },
    "id": "b5ef516d",
    "outputId": "e98c38ea-b74b-4ad4-c3cb-f36808f07791"
   },
   "outputs": [
    {
     "output_type": "stream",
     "name": "stdout",
     "text": [
      " Calculating training accuracy...\n",
      " Training prediction completed in 4.74 seconds\n",
      " Training Accuracy: 0.9972 (99.72%)\n"
     ]
    }
   ],
   "source": [
    "print(\" Calculating training accuracy...\")\n",
    "train_pred_start = time.time()\n",
    "\n",
    "y_train_pred = tabnet_model.predict(X_train_np)\n",
    "\n",
    "train_pred_end = time.time()\n",
    "train_pred_time = train_pred_end - train_pred_start\n",
    "\n",
    "training_accuracy = accuracy_score(y_train_np, y_train_pred)\n",
    "\n",
    "print(f\" Training prediction completed in {train_pred_time:.2f} seconds\")\n",
    "print(f\" Training Accuracy: {training_accuracy:.4f} ({training_accuracy*100:.2f}%)\")"
   ]
  },
  {
   "cell_type": "markdown",
   "id": "b075723c",
   "metadata": {
    "id": "b075723c"
   },
   "source": [
    "---\n",
    "\n",
    "## Make Test Predictions"
   ]
  },
  {
   "cell_type": "code",
   "execution_count": 56,
   "id": "002b7b33",
   "metadata": {
    "colab": {
     "base_uri": "https://localhost:8080/"
    },
    "id": "002b7b33",
    "outputId": "8e2a6438-58cc-4880-f52e-a0172914ca68"
   },
   "outputs": [
    {
     "output_type": "stream",
     "name": "stdout",
     "text": [
      " Making predictions on test set...\n",
      " Testing completed in 0.75 seconds\n"
     ]
    }
   ],
   "source": [
    "print(\" Making predictions on test set...\")\n",
    "test_start_time = time.time()\n",
    "\n",
    "y_pred = tabnet_model.predict(X_test_np)\n",
    "\n",
    "test_end_time = time.time()\n",
    "testing_time = test_end_time - test_start_time\n",
    "\n",
    "print(f\" Testing completed in {testing_time:.2f} seconds\")"
   ]
  },
  {
   "cell_type": "markdown",
   "id": "bfaa88f8",
   "metadata": {
    "id": "bfaa88f8"
   },
   "source": [
    "---\n",
    "\n",
    "## Calculate Test Accuracy"
   ]
  },
  {
   "cell_type": "code",
   "execution_count": 57,
   "id": "7f0f662f",
   "metadata": {
    "colab": {
     "base_uri": "https://localhost:8080/"
    },
    "id": "7f0f662f",
    "outputId": "e6fe6feb-6303-4766-912a-51a3ebeacab4"
   },
   "outputs": [
    {
     "output_type": "stream",
     "name": "stdout",
     "text": [
      " TabNet Test Accuracy: 0.9942 (99.42%)\n"
     ]
    }
   ],
   "source": [
    "test_accuracy = accuracy_score(y_test_np, y_pred)\n",
    "\n",
    "print(f\" TabNet Test Accuracy: {test_accuracy:.4f} ({test_accuracy*100:.2f}%)\")"
   ]
  },
  {
   "cell_type": "markdown",
   "id": "3d29137f",
   "metadata": {
    "id": "3d29137f"
   },
   "source": [
    "---\n",
    "\n",
    "## Detailed Performance Metrics"
   ]
  },
  {
   "cell_type": "code",
   "execution_count": 58,
   "id": "02d695a5",
   "metadata": {
    "colab": {
     "base_uri": "https://localhost:8080/"
    },
    "id": "02d695a5",
    "outputId": "97f8eb03-32e3-49e5-95a5-cc100f3a51e3"
   },
   "outputs": [
    {
     "output_type": "stream",
     "name": "stdout",
     "text": [
      " DETAILED TABNET PERFORMANCE:\n",
      "========================================\n",
      "TRAINING SET:\n",
      "Accuracy:  0.9972\n",
      "Precision: 0.9972\n",
      "Recall:    0.9972\n",
      "F1-Score:  0.9972\n",
      "\n",
      "TEST SET:\n",
      "Accuracy:  0.9942\n",
      "Precision: 0.9960\n",
      "Recall:    0.9942\n",
      "F1-Score:  0.9949\n",
      "\n",
      "TIMING:\n",
      "Training time: 408.80 seconds\n",
      "Testing time: 0.75 seconds\n",
      "========================================\n"
     ]
    }
   ],
   "source": [
    "precision, recall, f1, _ = precision_recall_fscore_support(y_test_np, y_pred, average='weighted')\n",
    "train_precision, train_recall, train_f1, _ = precision_recall_fscore_support(y_train_np, y_train_pred, average='weighted')\n",
    "\n",
    "print(\" DETAILED TABNET PERFORMANCE:\")\n",
    "print(\"=\"*40)\n",
    "print(\"TRAINING SET:\")\n",
    "print(f\"Accuracy:  {training_accuracy:.4f}\")\n",
    "print(f\"Precision: {train_precision:.4f}\")\n",
    "print(f\"Recall:    {train_recall:.4f}\")\n",
    "print(f\"F1-Score:  {train_f1:.4f}\")\n",
    "print()\n",
    "print(\"TEST SET:\")\n",
    "print(f\"Accuracy:  {test_accuracy:.4f}\")\n",
    "print(f\"Precision: {precision:.4f}\")\n",
    "print(f\"Recall:    {recall:.4f}\")\n",
    "print(f\"F1-Score:  {f1:.4f}\")\n",
    "print()\n",
    "print(\"TIMING:\")\n",
    "print(f\"Training time: {training_time:.2f} seconds\")\n",
    "print(f\"Testing time: {testing_time:.2f} seconds\")\n",
    "print(\"=\"*40)"
   ]
  },
  {
   "cell_type": "code",
   "execution_count": 59,
   "id": "dfa9c4d6",
   "metadata": {
    "colab": {
     "base_uri": "https://localhost:8080/"
    },
    "id": "dfa9c4d6",
    "outputId": "0e12e6d4-6fb5-4fef-c2f0-d5a33a240c33"
   },
   "outputs": [
    {
     "output_type": "stream",
     "name": "stdout",
     "text": [
      " Detailed Classification Report:\n",
      "              precision    recall  f1-score   support\n",
      "\n",
      "           0       1.00      1.00      1.00     13778\n",
      "           1       0.99      1.00      0.99      3497\n",
      "           2       0.79      0.96      0.87       298\n",
      "           3       0.20      1.00      0.33        16\n",
      "           4       1.00      0.99      0.99     20203\n",
      "\n",
      "    accuracy                           0.99     37792\n",
      "   macro avg       0.79      0.99      0.84     37792\n",
      "weighted avg       1.00      0.99      0.99     37792\n",
      "\n"
     ]
    }
   ],
   "source": [
    "print(\" Detailed Classification Report:\")\n",
    "print(classification_report(y_test_np, y_pred))"
   ]
  },
  {
   "cell_type": "code",
   "execution_count": 62,
   "id": "762de21e",
   "metadata": {
    "colab": {
     "base_uri": "https://localhost:8080/",
     "height": 382
    },
    "id": "762de21e",
    "outputId": "dad9a73a-2911-427b-ed8c-6d861a56b647"
   },
   "outputs": [
    {
     "output_type": "display_data",
     "data": {
      "text/plain": [
       "<Figure size 1200x400 with 2 Axes>"
      ],
      "image/png": "[encoded data removed]"
     },
     "metadata": {}
    }
   ],
   "source": [
    "import matplotlib.pyplot as plt\n",
    "\n",
    "# grab the history dict\n",
    "hist   = tabnet_model.history.history\n",
    "epochs = range(1, len(hist['train_accuracy']) + 1)\n",
    "\n",
    "plt.figure(figsize=(12, 4))\n",
    "\n",
    "# ── Accuracy ──────────────────────────────────────────────\n",
    "plt.subplot(1, 2, 1)\n",
    "plt.plot(epochs, hist['train_accuracy'], label='Train Acc')\n",
    "plt.plot(epochs, hist['test_accuracy'],  label='Val Acc')\n",
    "plt.title('Model Accuracy')\n",
    "plt.xlabel('Epoch'); plt.ylabel('Accuracy')\n",
    "plt.ylim(0.9, 1.0)\n",
    "plt.legend(); plt.grid(alpha=0.3)\n",
    "\n",
    "# ── Loss ──────────────────────────────────────────────────\n",
    "plt.subplot(1, 2, 2)\n",
    "plt.plot(epochs, hist['train_logloss'], label='Train Loss')\n",
    "plt.plot(epochs, hist['test_logloss'],  label='Val Loss')\n",
    "plt.title('Model Loss')\n",
    "plt.xlabel('Epoch'); plt.ylabel('Log Loss')\n",
    "plt.ylim(bottom=0)\n",
    "plt.legend(); plt.grid(alpha=0.3)\n",
    "\n",
    "plt.tight_layout()\n",
    "plt.show()\n"
   ]
  },
  {
   "cell_type": "markdown",
   "id": "9f0398d8",
   "metadata": {
    "id": "9f0398d8"
   },
   "source": [
    "---\n",
    "\n",
    "## Final TabNet Summary"
   ]
  },
  {
   "cell_type": "code",
   "execution_count": 61,
   "id": "4134a6af",
   "metadata": {
    "colab": {
     "base_uri": "https://localhost:8080/"
    },
    "id": "4134a6af",
    "outputId": "70655fac-a775-4cb3-8050-375f017e5bef"
   },
   "outputs": [
    {
     "output_type": "stream",
     "name": "stdout",
     "text": [
      "📋 TABNET NEURAL NETWORK FINAL SUMMARY:\n",
      "=======================================================\n",
      "Architecture: Google's TabNet for tabular data\n",
      "Decision width: 32, Attention width: 32, Steps: 5\n",
      "Training time: 408.80s\n",
      "Training accuracy: 0.9972\n",
      "Test accuracy: 0.9942\n",
      "Accuracy gap: 0.29%\n"
     ]
    }
   ],
   "source": [
    "print(\"📋 TABNET NEURAL NETWORK FINAL SUMMARY:\")\n",
    "print(\"=\"*55)\n",
    "print(f\"Architecture: Google's TabNet for tabular data\")\n",
    "print(f\"Decision width: 32, Attention width: 32, Steps: 5\")\n",
    "print(f\"Training time: {training_time:.2f}s\")\n",
    "print(f\"Training accuracy: {training_accuracy:.4f}\")\n",
    "print(f\"Test accuracy: {test_accuracy:.4f}\")\n",
    "print(f\"Accuracy gap: {(training_accuracy-test_accuracy)*100:.2f}%\")"
   ]
  }
 ],
 "metadata": {
  "jupytext": {
   "cell_metadata_filter": "-all",
   "main_language": "python",
   "notebook_metadata_filter": "-all"
  },
  "colab": {
   "provenance": [],
   "gpuType": "T4"
  },
  "language_info": {
   "name": "python"
  },
  "kernelspec": {
   "name": "python3",
   "display_name": "Python 3"
  },
  "accelerator": "GPU"
 },
 "nbformat": 4,
 "nbformat_minor": 5
}
