{
 "cells": [
  {
   "cell_type": "markdown",
   "id": "15050421",
   "metadata": {
    "id": "15050421"
   },
   "source": [
    "---\n",
    "\n",
    "##  Import Libraries"
   ]
  },
  {
   "cell_type": "code",
   "execution_count": 1,
   "id": "f9f2a9bb",
   "metadata": {
    "id": "f9f2a9bb"
   },
   "outputs": [],
   "source": [
    "import numpy as np\n",
    "from sklearn.metrics import precision_recall_fscore_support\n",
    "import pandas as pd\n",
    "import tensorflow as tf\n",
    "from tensorflow.keras.models import Sequential\n",
    "from tensorflow.keras.layers import Dense, Dropout, BatchNormalization\n",
    "from tensorflow.keras.optimizers import Adam\n",
    "from tensorflow.keras.callbacks import EarlyStopping, ReduceLROnPlateau\n",
    "from sklearn.metrics import accuracy_score, classification_report, confusion_matrix\n",
    "import time\n",
    "import matplotlib.pyplot as plt\n",
    "import warnings\n",
    "warnings.filterwarnings('ignore')"
   ]
  },
  {
   "cell_type": "markdown",
   "id": "5f9689c2",
   "metadata": {
    "id": "5f9689c2"
   },
   "source": [
    "---\n",
    "\n",
    "##  Load Data"
   ]
  },
  {
   "cell_type": "code",
   "execution_count": 2,
   "id": "ecd712a7",
   "metadata": {
    "id": "ecd712a7"
   },
   "outputs": [],
   "source": [
    "X_train = pd.read_csv('Dataset/X_train_100.csv')\n",
    "y_train = pd.read_csv('Dataset/y_train_100.csv').iloc[:, 0]\n",
    "X_test = pd.read_csv('Dataset/X_test.csv')\n",
    "y_test = pd.read_csv('Dataset/y_test.csv').iloc[:, 0]"
   ]
  },
  {
   "cell_type": "markdown",
   "id": "3173d875",
   "metadata": {
    "id": "3173d875"
   },
   "source": [
    "---\n",
    "\n",
    "##  Check Data Info"
   ]
  },
  {
   "cell_type": "code",
   "execution_count": 3,
   "id": "0dd94f03",
   "metadata": {
    "colab": {
     "base_uri": "https://localhost:8080/"
    },
    "id": "0dd94f03",
    "outputId": "c8035183-a024-4cbf-9523-0a710251a0ba"
   },
   "outputs": [
    {
     "output_type": "stream",
     "name": "stdout",
     "text": [
      "📊 Data Information:\n",
      "Training features shape: (235700, 20)\n",
      "Training labels shape: (235700,)\n",
      "Test features shape: (37792, 20)\n",
      "Test labels shape: (37792,)\n",
      "\n",
      "Number of classes: 5\n",
      "Classes: [np.int64(0), np.int64(1), np.int64(2), np.int64(3), np.int64(4)]\n",
      "\n",
      "Class distribution in training data:\n",
      "0\n",
      "0    47140\n",
      "1    47140\n",
      "2    47140\n",
      "3    47140\n",
      "4    47140\n",
      "Name: count, dtype: int64\n"
     ]
    }
   ],
   "source": [
    "print(\"📊 Data Information:\")\n",
    "print(f\"Training features shape: {X_train.shape}\")\n",
    "print(f\"Training labels shape: {y_train.shape}\")\n",
    "print(f\"Test features shape: {X_test.shape}\")\n",
    "print(f\"Test labels shape: {y_test.shape}\")\n",
    "\n",
    "print(f\"\\nNumber of classes: {len(np.unique(y_train))}\")\n",
    "print(f\"Classes: {sorted(np.unique(y_train))}\")\n",
    "\n",
    "print(\"\\nClass distribution in training data:\")\n",
    "print(y_train.value_counts().sort_index())"
   ]
  },
  {
   "cell_type": "markdown",
   "id": "f5006f82",
   "metadata": {
    "id": "f5006f82"
   },
   "source": [
    "---\n",
    "\n",
    "##  Convert to NumPy Arrays"
   ]
  },
  {
   "cell_type": "code",
   "execution_count": 4,
   "id": "22b781e4",
   "metadata": {
    "colab": {
     "base_uri": "https://localhost:8080/"
    },
    "id": "22b781e4",
    "outputId": "89047dfe-f83c-4787-ee7e-28949a1d7dd7"
   },
   "outputs": [
    {
     "output_type": "stream",
     "name": "stdout",
     "text": [
      "🔧 Data converted to neural network format\n",
      "X_train shape: (235700, 20)\n",
      "X_test shape: (37792, 20)\n",
      "y_train shape: (235700,)\n",
      "y_test shape: (37792,)\n"
     ]
    }
   ],
   "source": [
    "X_train_np = X_train.values.astype(np.float32)\n",
    "X_test_np = X_test.values.astype(np.float32)\n",
    "y_train_np = y_train.values.astype(np.int32)\n",
    "y_test_np = y_test.values.astype(np.int32)\n",
    "\n",
    "print(\"🔧 Data converted to neural network format\")\n",
    "print(f\"X_train shape: {X_train_np.shape}\")\n",
    "print(f\"X_test shape: {X_test_np.shape}\")\n",
    "print(f\"y_train shape: {y_train_np.shape}\")\n",
    "print(f\"y_test shape: {y_test_np.shape}\")"
   ]
  },
  {
   "cell_type": "markdown",
   "id": "8342bf43",
   "metadata": {
    "id": "8342bf43"
   },
   "source": [
    "---\n",
    "\n",
    "##  Get Dimensions"
   ]
  },
  {
   "cell_type": "code",
   "execution_count": 5,
   "id": "25d3d94b",
   "metadata": {
    "colab": {
     "base_uri": "https://localhost:8080/"
    },
    "id": "25d3d94b",
    "outputId": "1dbe9c84-6603-44e6-c23c-c184e51df7d2"
   },
   "outputs": [
    {
     "output_type": "stream",
     "name": "stdout",
     "text": [
      "📈 Neural network dimensions:\n",
      "Input features: 20\n",
      "Output classes: 5\n",
      "Training samples: 235,700\n",
      "Test samples: 37,792\n"
     ]
    }
   ],
   "source": [
    "n_features = X_train_np.shape[1]\n",
    "n_classes = len(np.unique(y_train_np))\n",
    "\n",
    "print(f\"📈 Neural network dimensions:\")\n",
    "print(f\"Input features: {n_features}\")\n",
    "print(f\"Output classes: {n_classes}\")\n",
    "print(f\"Training samples: {X_train_np.shape[0]:,}\")\n",
    "print(f\"Test samples: {X_test_np.shape[0]:,}\")"
   ]
  },
  {
   "cell_type": "markdown",
   "id": "12cdbb73",
   "metadata": {
    "id": "12cdbb73"
   },
   "source": [
    "---\n",
    "\n",
    "##  Build MLP Model"
   ]
  },
  {
   "cell_type": "code",
   "execution_count": 6,
   "id": "5d470f41",
   "metadata": {
    "id": "5d470f41"
   },
   "outputs": [],
   "source": [
    "mlp_model = Sequential([\n",
    "\n",
    "    Dense(128, activation='relu', input_shape=(n_features,), name='hidden_1'),\n",
    "    BatchNormalization(),\n",
    "    Dropout(0.3),\n",
    "\n",
    "\n",
    "    Dense(64, activation='relu', name='hidden_2'),\n",
    "    BatchNormalization(),\n",
    "    Dropout(0.3),\n",
    "\n",
    "\n",
    "    Dense(32, activation='relu', name='hidden_3'),\n",
    "    BatchNormalization(),\n",
    "    Dropout(0.2),\n",
    "\n",
    "\n",
    "    Dense(n_classes, activation='softmax', name='output')\n",
    "])"
   ]
  },
  {
   "cell_type": "markdown",
   "id": "dc78d278",
   "metadata": {
    "id": "dc78d278"
   },
   "source": [
    "---\n",
    "\n",
    "##  Display Model Architecture"
   ]
  },
  {
   "cell_type": "code",
   "execution_count": 7,
   "id": "ac78c0b4",
   "metadata": {
    "colab": {
     "base_uri": "https://localhost:8080/",
     "height": 497
    },
    "id": "ac78c0b4",
    "outputId": "01ad281d-21d0-41fc-c818-61e8e6c00d60"
   },
   "outputs": [
    {
     "output_type": "display_data",
     "data": {
      "text/plain": [
       "\u001B[1mModel: \"sequential\"\u001B[0m\n"
      ],
      "text/html": [
       "<pre style=\"white-space:pre;overflow-x:auto;line-height:normal;font-family:Menlo,'DejaVu Sans Mono',consolas,'Courier New',monospace\"><span style=\"font-weight: bold\">Model: \"sequential\"</span>\n",
       "</pre>\n"
      ]
     },
     "metadata": {}
    },
    {
     "output_type": "display_data",
     "data": {
      "text/plain": [
       "┏━━━━━━━━━━━━━━━━━━━━━━━━━━━━━━━━━┳━━━━━━━━━━━━━━━━━━━━━━━━┳━━━━━━━━━━━━━━━┓\n",
       "┃\u001B[1m \u001B[0m\u001B[1mLayer (type)                   \u001B[0m\u001B[1m \u001B[0m┃\u001B[1m \u001B[0m\u001B[1mOutput Shape          \u001B[0m\u001B[1m \u001B[0m┃\u001B[1m \u001B[0m\u001B[1m      Param #\u001B[0m\u001B[1m \u001B[0m┃\n",
       "┡━━━━━━━━━━━━━━━━━━━━━━━━━━━━━━━━━╇━━━━━━━━━━━━━━━━━━━━━━━━╇━━━━━━━━━━━━━━━┩\n",
       "│ hidden_1 (\u001B[38;5;33mDense\u001B[0m)                │ (\u001B[38;5;45mNone\u001B[0m, \u001B[38;5;34m128\u001B[0m)            │         \u001B[38;5;34m2,688\u001B[0m │\n",
       "├─────────────────────────────────┼────────────────────────┼───────────────┤\n",
       "│ batch_normalization             │ (\u001B[38;5;45mNone\u001B[0m, \u001B[38;5;34m128\u001B[0m)            │           \u001B[38;5;34m512\u001B[0m │\n",
       "│ (\u001B[38;5;33mBatchNormalization\u001B[0m)            │                        │               │\n",
       "├─────────────────────────────────┼────────────────────────┼───────────────┤\n",
       "│ dropout (\u001B[38;5;33mDropout\u001B[0m)               │ (\u001B[38;5;45mNone\u001B[0m, \u001B[38;5;34m128\u001B[0m)            │             \u001B[38;5;34m0\u001B[0m │\n",
       "├─────────────────────────────────┼────────────────────────┼───────────────┤\n",
       "│ hidden_2 (\u001B[38;5;33mDense\u001B[0m)                │ (\u001B[38;5;45mNone\u001B[0m, \u001B[38;5;34m64\u001B[0m)             │         \u001B[38;5;34m8,256\u001B[0m │\n",
       "├─────────────────────────────────┼────────────────────────┼───────────────┤\n",
       "│ batch_normalization_1           │ (\u001B[38;5;45mNone\u001B[0m, \u001B[38;5;34m64\u001B[0m)             │           \u001B[38;5;34m256\u001B[0m │\n",
       "│ (\u001B[38;5;33mBatchNormalization\u001B[0m)            │                        │               │\n",
       "├─────────────────────────────────┼────────────────────────┼───────────────┤\n",
       "│ dropout_1 (\u001B[38;5;33mDropout\u001B[0m)             │ (\u001B[38;5;45mNone\u001B[0m, \u001B[38;5;34m64\u001B[0m)             │             \u001B[38;5;34m0\u001B[0m │\n",
       "├─────────────────────────────────┼────────────────────────┼───────────────┤\n",
       "│ hidden_3 (\u001B[38;5;33mDense\u001B[0m)                │ (\u001B[38;5;45mNone\u001B[0m, \u001B[38;5;34m32\u001B[0m)             │         \u001B[38;5;34m2,080\u001B[0m │\n",
       "├─────────────────────────────────┼────────────────────────┼───────────────┤\n",
       "│ batch_normalization_2           │ (\u001B[38;5;45mNone\u001B[0m, \u001B[38;5;34m32\u001B[0m)             │           \u001B[38;5;34m128\u001B[0m │\n",
       "│ (\u001B[38;5;33mBatchNormalization\u001B[0m)            │                        │               │\n",
       "├─────────────────────────────────┼────────────────────────┼───────────────┤\n",
       "│ dropout_2 (\u001B[38;5;33mDropout\u001B[0m)             │ (\u001B[38;5;45mNone\u001B[0m, \u001B[38;5;34m32\u001B[0m)             │             \u001B[38;5;34m0\u001B[0m │\n",
       "├─────────────────────────────────┼────────────────────────┼───────────────┤\n",
       "│ output (\u001B[38;5;33mDense\u001B[0m)                  │ (\u001B[38;5;45mNone\u001B[0m, \u001B[38;5;34m5\u001B[0m)              │           \u001B[38;5;34m165\u001B[0m │\n",
       "└─────────────────────────────────┴────────────────────────┴───────────────┘\n"
      ],
      "text/html": [
       "<pre style=\"white-space:pre;overflow-x:auto;line-height:normal;font-family:Menlo,'DejaVu Sans Mono',consolas,'Courier New',monospace\">┏━━━━━━━━━━━━━━━━━━━━━━━━━━━━━━━━━┳━━━━━━━━━━━━━━━━━━━━━━━━┳━━━━━━━━━━━━━━━┓\n",
       "┃<span style=\"font-weight: bold\"> Layer (type)                    </span>┃<span style=\"font-weight: bold\"> Output Shape           </span>┃<span style=\"font-weight: bold\">       Param # </span>┃\n",
       "┡━━━━━━━━━━━━━━━━━━━━━━━━━━━━━━━━━╇━━━━━━━━━━━━━━━━━━━━━━━━╇━━━━━━━━━━━━━━━┩\n",
       "│ hidden_1 (<span style=\"color: #0087ff; text-decoration-color: #0087ff\">Dense</span>)                │ (<span style=\"color: #00d7ff; text-decoration-color: #00d7ff\">None</span>, <span style=\"color: #00af00; text-decoration-color: #00af00\">128</span>)            │         <span style=\"color: #00af00; text-decoration-color: #00af00\">2,688</span> │\n",
       "├─────────────────────────────────┼────────────────────────┼───────────────┤\n",
       "│ batch_normalization             │ (<span style=\"color: #00d7ff; text-decoration-color: #00d7ff\">None</span>, <span style=\"color: #00af00; text-decoration-color: #00af00\">128</span>)            │           <span style=\"color: #00af00; text-decoration-color: #00af00\">512</span> │\n",
       "│ (<span style=\"color: #0087ff; text-decoration-color: #0087ff\">BatchNormalization</span>)            │                        │               │\n",
       "├─────────────────────────────────┼────────────────────────┼───────────────┤\n",
       "│ dropout (<span style=\"color: #0087ff; text-decoration-color: #0087ff\">Dropout</span>)               │ (<span style=\"color: #00d7ff; text-decoration-color: #00d7ff\">None</span>, <span style=\"color: #00af00; text-decoration-color: #00af00\">128</span>)            │             <span style=\"color: #00af00; text-decoration-color: #00af00\">0</span> │\n",
       "├─────────────────────────────────┼────────────────────────┼───────────────┤\n",
       "│ hidden_2 (<span style=\"color: #0087ff; text-decoration-color: #0087ff\">Dense</span>)                │ (<span style=\"color: #00d7ff; text-decoration-color: #00d7ff\">None</span>, <span style=\"color: #00af00; text-decoration-color: #00af00\">64</span>)             │         <span style=\"color: #00af00; text-decoration-color: #00af00\">8,256</span> │\n",
       "├─────────────────────────────────┼────────────────────────┼───────────────┤\n",
       "│ batch_normalization_1           │ (<span style=\"color: #00d7ff; text-decoration-color: #00d7ff\">None</span>, <span style=\"color: #00af00; text-decoration-color: #00af00\">64</span>)             │           <span style=\"color: #00af00; text-decoration-color: #00af00\">256</span> │\n",
       "│ (<span style=\"color: #0087ff; text-decoration-color: #0087ff\">BatchNormalization</span>)            │                        │               │\n",
       "├─────────────────────────────────┼────────────────────────┼───────────────┤\n",
       "│ dropout_1 (<span style=\"color: #0087ff; text-decoration-color: #0087ff\">Dropout</span>)             │ (<span style=\"color: #00d7ff; text-decoration-color: #00d7ff\">None</span>, <span style=\"color: #00af00; text-decoration-color: #00af00\">64</span>)             │             <span style=\"color: #00af00; text-decoration-color: #00af00\">0</span> │\n",
       "├─────────────────────────────────┼────────────────────────┼───────────────┤\n",
       "│ hidden_3 (<span style=\"color: #0087ff; text-decoration-color: #0087ff\">Dense</span>)                │ (<span style=\"color: #00d7ff; text-decoration-color: #00d7ff\">None</span>, <span style=\"color: #00af00; text-decoration-color: #00af00\">32</span>)             │         <span style=\"color: #00af00; text-decoration-color: #00af00\">2,080</span> │\n",
       "├─────────────────────────────────┼────────────────────────┼───────────────┤\n",
       "│ batch_normalization_2           │ (<span style=\"color: #00d7ff; text-decoration-color: #00d7ff\">None</span>, <span style=\"color: #00af00; text-decoration-color: #00af00\">32</span>)             │           <span style=\"color: #00af00; text-decoration-color: #00af00\">128</span> │\n",
       "│ (<span style=\"color: #0087ff; text-decoration-color: #0087ff\">BatchNormalization</span>)            │                        │               │\n",
       "├─────────────────────────────────┼────────────────────────┼───────────────┤\n",
       "│ dropout_2 (<span style=\"color: #0087ff; text-decoration-color: #0087ff\">Dropout</span>)             │ (<span style=\"color: #00d7ff; text-decoration-color: #00d7ff\">None</span>, <span style=\"color: #00af00; text-decoration-color: #00af00\">32</span>)             │             <span style=\"color: #00af00; text-decoration-color: #00af00\">0</span> │\n",
       "├─────────────────────────────────┼────────────────────────┼───────────────┤\n",
       "│ output (<span style=\"color: #0087ff; text-decoration-color: #0087ff\">Dense</span>)                  │ (<span style=\"color: #00d7ff; text-decoration-color: #00d7ff\">None</span>, <span style=\"color: #00af00; text-decoration-color: #00af00\">5</span>)              │           <span style=\"color: #00af00; text-decoration-color: #00af00\">165</span> │\n",
       "└─────────────────────────────────┴────────────────────────┴───────────────┘\n",
       "</pre>\n"
      ]
     },
     "metadata": {}
    },
    {
     "output_type": "display_data",
     "data": {
      "text/plain": [
       "\u001B[1m Total params: \u001B[0m\u001B[38;5;34m14,085\u001B[0m (55.02 KB)\n"
      ],
      "text/html": [
       "<pre style=\"white-space:pre;overflow-x:auto;line-height:normal;font-family:Menlo,'DejaVu Sans Mono',consolas,'Courier New',monospace\"><span style=\"font-weight: bold\"> Total params: </span><span style=\"color: #00af00; text-decoration-color: #00af00\">14,085</span> (55.02 KB)\n",
       "</pre>\n"
      ]
     },
     "metadata": {}
    },
    {
     "output_type": "display_data",
     "data": {
      "text/plain": [
       "\u001B[1m Trainable params: \u001B[0m\u001B[38;5;34m13,637\u001B[0m (53.27 KB)\n"
      ],
      "text/html": [
       "<pre style=\"white-space:pre;overflow-x:auto;line-height:normal;font-family:Menlo,'DejaVu Sans Mono',consolas,'Courier New',monospace\"><span style=\"font-weight: bold\"> Trainable params: </span><span style=\"color: #00af00; text-decoration-color: #00af00\">13,637</span> (53.27 KB)\n",
       "</pre>\n"
      ]
     },
     "metadata": {}
    },
    {
     "output_type": "display_data",
     "data": {
      "text/plain": [
       "\u001B[1m Non-trainable params: \u001B[0m\u001B[38;5;34m448\u001B[0m (1.75 KB)\n"
      ],
      "text/html": [
       "<pre style=\"white-space:pre;overflow-x:auto;line-height:normal;font-family:Menlo,'DejaVu Sans Mono',consolas,'Courier New',monospace\"><span style=\"font-weight: bold\"> Non-trainable params: </span><span style=\"color: #00af00; text-decoration-color: #00af00\">448</span> (1.75 KB)\n",
       "</pre>\n"
      ]
     },
     "metadata": {}
    }
   ],
   "source": [
    "mlp_model.summary()"
   ]
  },
  {
   "cell_type": "markdown",
   "id": "9bf20991",
   "metadata": {
    "id": "9bf20991"
   },
   "source": [
    "---\n",
    "\n",
    "##  Compile Model"
   ]
  },
  {
   "cell_type": "code",
   "execution_count": 8,
   "id": "1aa321d0",
   "metadata": {
    "id": "1aa321d0"
   },
   "outputs": [],
   "source": [
    "mlp_model.compile(\n",
    "    optimizer=Adam(learning_rate=0.001),\n",
    "    loss='sparse_categorical_crossentropy',\n",
    "    metrics=['accuracy']\n",
    ")"
   ]
  },
  {
   "cell_type": "markdown",
   "id": "27dc2278",
   "metadata": {
    "id": "27dc2278"
   },
   "source": [
    "---\n",
    "\n",
    "##  Setup Callbacks"
   ]
  },
  {
   "cell_type": "code",
   "execution_count": 9,
   "id": "b95d0e14",
   "metadata": {
    "id": "b95d0e14"
   },
   "outputs": [],
   "source": [
    "callbacks = [\n",
    "    EarlyStopping(\n",
    "        monitor='val_accuracy',\n",
    "        patience=10,\n",
    "        restore_best_weights=True,\n",
    "        verbose=1\n",
    "    ),\n",
    "    ReduceLROnPlateau(\n",
    "        monitor='val_accuracy',\n",
    "        factor=0.5,\n",
    "        patience=5,\n",
    "        min_lr=1e-7,\n",
    "        verbose=1\n",
    "    )\n",
    "]"
   ]
  },
  {
   "cell_type": "markdown",
   "id": "cd418384",
   "metadata": {
    "id": "cd418384"
   },
   "source": [
    "---\n",
    "\n",
    "##  Start Training"
   ]
  },
  {
   "cell_type": "code",
   "execution_count": 10,
   "id": "53bfd463",
   "metadata": {
    "id": "53bfd463"
   },
   "outputs": [],
   "source": [
    "train_start_time = time.time()"
   ]
  },
  {
   "cell_type": "markdown",
   "id": "40cfb506",
   "metadata": {
    "id": "40cfb506"
   },
   "source": [
    "---\n",
    "\n",
    "##  Train the Model"
   ]
  },
  {
   "cell_type": "code",
   "execution_count": 11,
   "id": "7d4fe920",
   "metadata": {
    "colab": {
     "base_uri": "https://localhost:8080/"
    },
    "id": "7d4fe920",
    "outputId": "7ad8e03f-46c7-4f5c-8e6e-e995df9eb157"
   },
   "outputs": [
    {
     "output_type": "stream",
     "name": "stdout",
     "text": [
      "Epoch 1/100\n",
      "\u001B[1m921/921\u001B[0m \u001B[32m━━━━━━━━━━━━━━━━━━━━\u001B[0m\u001B[37m\u001B[0m \u001B[1m13s\u001B[0m 8ms/step - accuracy: 0.8743 - loss: 0.3837 - val_accuracy: 0.9623 - val_loss: 0.1213 - learning_rate: 0.0010\n",
      "Epoch 2/100\n",
      "\u001B[1m921/921\u001B[0m \u001B[32m━━━━━━━━━━━━━━━━━━━━\u001B[0m\u001B[37m\u001B[0m \u001B[1m3s\u001B[0m 3ms/step - accuracy: 0.9738 - loss: 0.0923 - val_accuracy: 0.9698 - val_loss: 0.0990 - learning_rate: 0.0010\n",
      "Epoch 3/100\n",
      "\u001B[1m921/921\u001B[0m \u001B[32m━━━━━━━━━━━━━━━━━━━━\u001B[0m\u001B[37m\u001B[0m \u001B[1m5s\u001B[0m 3ms/step - accuracy: 0.9801 - loss: 0.0713 - val_accuracy: 0.9757 - val_loss: 0.0799 - learning_rate: 0.0010\n",
      "Epoch 4/100\n",
      "\u001B[1m921/921\u001B[0m \u001B[32m━━━━━━━━━━━━━━━━━━━━\u001B[0m\u001B[37m\u001B[0m \u001B[1m4s\u001B[0m 4ms/step - accuracy: 0.9827 - loss: 0.0609 - val_accuracy: 0.9806 - val_loss: 0.0634 - learning_rate: 0.0010\n",
      "Epoch 5/100\n",
      "\u001B[1m921/921\u001B[0m \u001B[32m━━━━━━━━━━━━━━━━━━━━\u001B[0m\u001B[37m\u001B[0m \u001B[1m3s\u001B[0m 3ms/step - accuracy: 0.9842 - loss: 0.0555 - val_accuracy: 0.9820 - val_loss: 0.0583 - learning_rate: 0.0010\n",
      "Epoch 6/100\n",
      "\u001B[1m921/921\u001B[0m \u001B[32m━━━━━━━━━━━━━━━━━━━━\u001B[0m\u001B[37m\u001B[0m \u001B[1m3s\u001B[0m 3ms/step - accuracy: 0.9859 - loss: 0.0489 - val_accuracy: 0.9812 - val_loss: 0.0559 - learning_rate: 0.0010\n",
      "Epoch 7/100\n",
      "\u001B[1m921/921\u001B[0m \u001B[32m━━━━━━━━━━━━━━━━━━━━\u001B[0m\u001B[37m\u001B[0m \u001B[1m7s\u001B[0m 4ms/step - accuracy: 0.9867 - loss: 0.0465 - val_accuracy: 0.9826 - val_loss: 0.0589 - learning_rate: 0.0010\n",
      "Epoch 8/100\n",
      "\u001B[1m921/921\u001B[0m \u001B[32m━━━━━━━━━━━━━━━━━━━━\u001B[0m\u001B[37m\u001B[0m \u001B[1m3s\u001B[0m 3ms/step - accuracy: 0.9873 - loss: 0.0433 - val_accuracy: 0.9861 - val_loss: 0.0464 - learning_rate: 0.0010\n",
      "Epoch 9/100\n",
      "\u001B[1m921/921\u001B[0m \u001B[32m━━━━━━━━━━━━━━━━━━━━\u001B[0m\u001B[37m\u001B[0m \u001B[1m3s\u001B[0m 3ms/step - accuracy: 0.9877 - loss: 0.0413 - val_accuracy: 0.9838 - val_loss: 0.0548 - learning_rate: 0.0010\n",
      "Epoch 10/100\n",
      "\u001B[1m921/921\u001B[0m \u001B[32m━━━━━━━━━━━━━━━━━━━━\u001B[0m\u001B[37m\u001B[0m \u001B[1m6s\u001B[0m 4ms/step - accuracy: 0.9875 - loss: 0.0419 - val_accuracy: 0.9842 - val_loss: 0.0523 - learning_rate: 0.0010\n",
      "Epoch 11/100\n",
      "\u001B[1m921/921\u001B[0m \u001B[32m━━━━━━━━━━━━━━━━━━━━\u001B[0m\u001B[37m\u001B[0m \u001B[1m5s\u001B[0m 3ms/step - accuracy: 0.9885 - loss: 0.0395 - val_accuracy: 0.9883 - val_loss: 0.0370 - learning_rate: 0.0010\n",
      "Epoch 12/100\n",
      "\u001B[1m921/921\u001B[0m \u001B[32m━━━━━━━━━━━━━━━━━━━━\u001B[0m\u001B[37m\u001B[0m \u001B[1m3s\u001B[0m 3ms/step - accuracy: 0.9897 - loss: 0.0355 - val_accuracy: 0.9885 - val_loss: 0.0399 - learning_rate: 0.0010\n",
      "Epoch 13/100\n",
      "\u001B[1m921/921\u001B[0m \u001B[32m━━━━━━━━━━━━━━━━━━━━\u001B[0m\u001B[37m\u001B[0m \u001B[1m6s\u001B[0m 4ms/step - accuracy: 0.9896 - loss: 0.0364 - val_accuracy: 0.9886 - val_loss: 0.0374 - learning_rate: 0.0010\n",
      "Epoch 14/100\n",
      "\u001B[1m921/921\u001B[0m \u001B[32m━━━━━━━━━━━━━━━━━━━━\u001B[0m\u001B[37m\u001B[0m \u001B[1m4s\u001B[0m 3ms/step - accuracy: 0.9894 - loss: 0.0352 - val_accuracy: 0.9871 - val_loss: 0.0408 - learning_rate: 0.0010\n",
      "Epoch 15/100\n",
      "\u001B[1m921/921\u001B[0m \u001B[32m━━━━━━━━━━━━━━━━━━━━\u001B[0m\u001B[37m\u001B[0m \u001B[1m6s\u001B[0m 3ms/step - accuracy: 0.9895 - loss: 0.0354 - val_accuracy: 0.9864 - val_loss: 0.0415 - learning_rate: 0.0010\n",
      "Epoch 16/100\n",
      "\u001B[1m921/921\u001B[0m \u001B[32m━━━━━━━━━━━━━━━━━━━━\u001B[0m\u001B[37m\u001B[0m \u001B[1m5s\u001B[0m 3ms/step - accuracy: 0.9897 - loss: 0.0351 - val_accuracy: 0.9882 - val_loss: 0.0428 - learning_rate: 0.0010\n",
      "Epoch 17/100\n",
      "\u001B[1m921/921\u001B[0m \u001B[32m━━━━━━━━━━━━━━━━━━━━\u001B[0m\u001B[37m\u001B[0m \u001B[1m3s\u001B[0m 3ms/step - accuracy: 0.9902 - loss: 0.0335 - val_accuracy: 0.9914 - val_loss: 0.0333 - learning_rate: 0.0010\n",
      "Epoch 18/100\n",
      "\u001B[1m921/921\u001B[0m \u001B[32m━━━━━━━━━━━━━━━━━━━━\u001B[0m\u001B[37m\u001B[0m \u001B[1m3s\u001B[0m 3ms/step - accuracy: 0.9901 - loss: 0.0324 - val_accuracy: 0.9882 - val_loss: 0.0410 - learning_rate: 0.0010\n",
      "Epoch 19/100\n",
      "\u001B[1m921/921\u001B[0m \u001B[32m━━━━━━━━━━━━━━━━━━━━\u001B[0m\u001B[37m\u001B[0m \u001B[1m4s\u001B[0m 4ms/step - accuracy: 0.9907 - loss: 0.0315 - val_accuracy: 0.9901 - val_loss: 0.0335 - learning_rate: 0.0010\n",
      "Epoch 20/100\n",
      "\u001B[1m921/921\u001B[0m \u001B[32m━━━━━━━━━━━━━━━━━━━━\u001B[0m\u001B[37m\u001B[0m \u001B[1m4s\u001B[0m 3ms/step - accuracy: 0.9906 - loss: 0.0322 - val_accuracy: 0.9904 - val_loss: 0.0311 - learning_rate: 0.0010\n",
      "Epoch 21/100\n",
      "\u001B[1m921/921\u001B[0m \u001B[32m━━━━━━━━━━━━━━━━━━━━\u001B[0m\u001B[37m\u001B[0m \u001B[1m3s\u001B[0m 3ms/step - accuracy: 0.9905 - loss: 0.0318 - val_accuracy: 0.9886 - val_loss: 0.0384 - learning_rate: 0.0010\n",
      "Epoch 22/100\n",
      "\u001B[1m913/921\u001B[0m \u001B[32m━━━━━━━━━━━━━━━━━━━\u001B[0m\u001B[37m━\u001B[0m \u001B[1m0s\u001B[0m 3ms/step - accuracy: 0.9908 - loss: 0.0312\n",
      "Epoch 22: ReduceLROnPlateau reducing learning rate to 0.0005000000237487257.\n",
      "\u001B[1m921/921\u001B[0m \u001B[32m━━━━━━━━━━━━━━━━━━━━\u001B[0m\u001B[37m\u001B[0m \u001B[1m6s\u001B[0m 4ms/step - accuracy: 0.9908 - loss: 0.0312 - val_accuracy: 0.9911 - val_loss: 0.0310 - learning_rate: 0.0010\n",
      "Epoch 23/100\n",
      "\u001B[1m921/921\u001B[0m \u001B[32m━━━━━━━━━━━━━━━━━━━━\u001B[0m\u001B[37m\u001B[0m \u001B[1m3s\u001B[0m 3ms/step - accuracy: 0.9917 - loss: 0.0278 - val_accuracy: 0.9924 - val_loss: 0.0278 - learning_rate: 5.0000e-04\n",
      "Epoch 24/100\n",
      "\u001B[1m921/921\u001B[0m \u001B[32m━━━━━━━━━━━━━━━━━━━━\u001B[0m\u001B[37m\u001B[0m \u001B[1m3s\u001B[0m 3ms/step - accuracy: 0.9925 - loss: 0.0251 - val_accuracy: 0.9920 - val_loss: 0.0285 - learning_rate: 5.0000e-04\n",
      "Epoch 25/100\n",
      "\u001B[1m921/921\u001B[0m \u001B[32m━━━━━━━━━━━━━━━━━━━━\u001B[0m\u001B[37m\u001B[0m \u001B[1m6s\u001B[0m 4ms/step - accuracy: 0.9920 - loss: 0.0262 - val_accuracy: 0.9916 - val_loss: 0.0339 - learning_rate: 5.0000e-04\n",
      "Epoch 26/100\n",
      "\u001B[1m921/921\u001B[0m \u001B[32m━━━━━━━━━━━━━━━━━━━━\u001B[0m\u001B[37m\u001B[0m \u001B[1m4s\u001B[0m 3ms/step - accuracy: 0.9928 - loss: 0.0250 - val_accuracy: 0.9905 - val_loss: 0.0315 - learning_rate: 5.0000e-04\n",
      "Epoch 27/100\n",
      "\u001B[1m921/921\u001B[0m \u001B[32m━━━━━━━━━━━━━━━━━━━━\u001B[0m\u001B[37m\u001B[0m \u001B[1m3s\u001B[0m 3ms/step - accuracy: 0.9927 - loss: 0.0249 - val_accuracy: 0.9916 - val_loss: 0.0296 - learning_rate: 5.0000e-04\n",
      "Epoch 28/100\n",
      "\u001B[1m921/921\u001B[0m \u001B[32m━━━━━━━━━━━━━━━━━━━━\u001B[0m\u001B[37m\u001B[0m \u001B[1m6s\u001B[0m 4ms/step - accuracy: 0.9926 - loss: 0.0249 - val_accuracy: 0.9926 - val_loss: 0.0272 - learning_rate: 5.0000e-04\n",
      "Epoch 29/100\n",
      "\u001B[1m921/921\u001B[0m \u001B[32m━━━━━━━━━━━━━━━━━━━━\u001B[0m\u001B[37m\u001B[0m \u001B[1m3s\u001B[0m 3ms/step - accuracy: 0.9929 - loss: 0.0246 - val_accuracy: 0.9897 - val_loss: 0.0400 - learning_rate: 5.0000e-04\n",
      "Epoch 30/100\n",
      "\u001B[1m921/921\u001B[0m \u001B[32m━━━━━━━━━━━━━━━━━━━━\u001B[0m\u001B[37m\u001B[0m \u001B[1m3s\u001B[0m 3ms/step - accuracy: 0.9932 - loss: 0.0238 - val_accuracy: 0.9917 - val_loss: 0.0281 - learning_rate: 5.0000e-04\n",
      "Epoch 31/100\n",
      "\u001B[1m921/921\u001B[0m \u001B[32m━━━━━━━━━━━━━━━━━━━━\u001B[0m\u001B[37m\u001B[0m \u001B[1m6s\u001B[0m 4ms/step - accuracy: 0.9929 - loss: 0.0234 - val_accuracy: 0.9929 - val_loss: 0.0283 - learning_rate: 5.0000e-04\n",
      "Epoch 32/100\n",
      "\u001B[1m921/921\u001B[0m \u001B[32m━━━━━━━━━━━━━━━━━━━━\u001B[0m\u001B[37m\u001B[0m \u001B[1m3s\u001B[0m 3ms/step - accuracy: 0.9935 - loss: 0.0231 - val_accuracy: 0.9913 - val_loss: 0.0311 - learning_rate: 5.0000e-04\n",
      "Epoch 33/100\n",
      "\u001B[1m921/921\u001B[0m \u001B[32m━━━━━━━━━━━━━━━━━━━━\u001B[0m\u001B[37m\u001B[0m \u001B[1m5s\u001B[0m 3ms/step - accuracy: 0.9930 - loss: 0.0237 - val_accuracy: 0.9909 - val_loss: 0.0312 - learning_rate: 5.0000e-04\n",
      "Epoch 34/100\n",
      "\u001B[1m921/921\u001B[0m \u001B[32m━━━━━━━━━━━━━━━━━━━━\u001B[0m\u001B[37m\u001B[0m \u001B[1m6s\u001B[0m 3ms/step - accuracy: 0.9933 - loss: 0.0223 - val_accuracy: 0.9915 - val_loss: 0.0291 - learning_rate: 5.0000e-04\n",
      "Epoch 35/100\n",
      "\u001B[1m921/921\u001B[0m \u001B[32m━━━━━━━━━━━━━━━━━━━━\u001B[0m\u001B[37m\u001B[0m \u001B[1m3s\u001B[0m 3ms/step - accuracy: 0.9937 - loss: 0.0219 - val_accuracy: 0.9900 - val_loss: 0.0337 - learning_rate: 5.0000e-04\n",
      "Epoch 36/100\n",
      "\u001B[1m903/921\u001B[0m \u001B[32m━━━━━━━━━━━━━━━━━━━\u001B[0m\u001B[37m━\u001B[0m \u001B[1m0s\u001B[0m 2ms/step - accuracy: 0.9935 - loss: 0.0224\n",
      "Epoch 36: ReduceLROnPlateau reducing learning rate to 0.0002500000118743628.\n",
      "\u001B[1m921/921\u001B[0m \u001B[32m━━━━━━━━━━━━━━━━━━━━\u001B[0m\u001B[37m\u001B[0m \u001B[1m5s\u001B[0m 3ms/step - accuracy: 0.9935 - loss: 0.0224 - val_accuracy: 0.9905 - val_loss: 0.0320 - learning_rate: 5.0000e-04\n",
      "Epoch 37/100\n",
      "\u001B[1m921/921\u001B[0m \u001B[32m━━━━━━━━━━━━━━━━━━━━\u001B[0m\u001B[37m\u001B[0m \u001B[1m5s\u001B[0m 3ms/step - accuracy: 0.9941 - loss: 0.0202 - val_accuracy: 0.9928 - val_loss: 0.0263 - learning_rate: 2.5000e-04\n",
      "Epoch 38/100\n",
      "\u001B[1m921/921\u001B[0m \u001B[32m━━━━━━━━━━━━━━━━━━━━\u001B[0m\u001B[37m\u001B[0m \u001B[1m3s\u001B[0m 3ms/step - accuracy: 0.9942 - loss: 0.0197 - val_accuracy: 0.9925 - val_loss: 0.0260 - learning_rate: 2.5000e-04\n",
      "Epoch 39/100\n",
      "\u001B[1m921/921\u001B[0m \u001B[32m━━━━━━━━━━━━━━━━━━━━\u001B[0m\u001B[37m\u001B[0m \u001B[1m6s\u001B[0m 3ms/step - accuracy: 0.9945 - loss: 0.0186 - val_accuracy: 0.9924 - val_loss: 0.0280 - learning_rate: 2.5000e-04\n",
      "Epoch 40/100\n",
      "\u001B[1m921/921\u001B[0m \u001B[32m━━━━━━━━━━━━━━━━━━━━\u001B[0m\u001B[37m\u001B[0m \u001B[1m5s\u001B[0m 3ms/step - accuracy: 0.9942 - loss: 0.0203 - val_accuracy: 0.9924 - val_loss: 0.0279 - learning_rate: 2.5000e-04\n",
      "Epoch 41/100\n",
      "\u001B[1m921/921\u001B[0m \u001B[32m━━━━━━━━━━━━━━━━━━━━\u001B[0m\u001B[37m\u001B[0m \u001B[1m3s\u001B[0m 3ms/step - accuracy: 0.9947 - loss: 0.0174 - val_accuracy: 0.9939 - val_loss: 0.0231 - learning_rate: 2.5000e-04\n",
      "Epoch 42/100\n",
      "\u001B[1m921/921\u001B[0m \u001B[32m━━━━━━━━━━━━━━━━━━━━\u001B[0m\u001B[37m\u001B[0m \u001B[1m3s\u001B[0m 3ms/step - accuracy: 0.9946 - loss: 0.0197 - val_accuracy: 0.9934 - val_loss: 0.0243 - learning_rate: 2.5000e-04\n",
      "Epoch 43/100\n",
      "\u001B[1m921/921\u001B[0m \u001B[32m━━━━━━━━━━━━━━━━━━━━\u001B[0m\u001B[37m\u001B[0m \u001B[1m3s\u001B[0m 4ms/step - accuracy: 0.9944 - loss: 0.0192 - val_accuracy: 0.9925 - val_loss: 0.0266 - learning_rate: 2.5000e-04\n",
      "Epoch 44/100\n",
      "\u001B[1m921/921\u001B[0m \u001B[32m━━━━━━━━━━━━━━━━━━━━\u001B[0m\u001B[37m\u001B[0m \u001B[1m5s\u001B[0m 3ms/step - accuracy: 0.9943 - loss: 0.0195 - val_accuracy: 0.9926 - val_loss: 0.0261 - learning_rate: 2.5000e-04\n",
      "Epoch 45/100\n",
      "\u001B[1m921/921\u001B[0m \u001B[32m━━━━━━━━━━━━━━━━━━━━\u001B[0m\u001B[37m\u001B[0m \u001B[1m5s\u001B[0m 3ms/step - accuracy: 0.9946 - loss: 0.0185 - val_accuracy: 0.9933 - val_loss: 0.0249 - learning_rate: 2.5000e-04\n",
      "Epoch 46/100\n",
      "\u001B[1m913/921\u001B[0m \u001B[32m━━━━━━━━━━━━━━━━━━━\u001B[0m\u001B[37m━\u001B[0m \u001B[1m0s\u001B[0m 3ms/step - accuracy: 0.9943 - loss: 0.0187\n",
      "Epoch 46: ReduceLROnPlateau reducing learning rate to 0.0001250000059371814.\n",
      "\u001B[1m921/921\u001B[0m \u001B[32m━━━━━━━━━━━━━━━━━━━━\u001B[0m\u001B[37m\u001B[0m \u001B[1m3s\u001B[0m 4ms/step - accuracy: 0.9943 - loss: 0.0187 - val_accuracy: 0.9931 - val_loss: 0.0249 - learning_rate: 2.5000e-04\n",
      "Epoch 47/100\n",
      "\u001B[1m921/921\u001B[0m \u001B[32m━━━━━━━━━━━━━━━━━━━━\u001B[0m\u001B[37m\u001B[0m \u001B[1m4s\u001B[0m 3ms/step - accuracy: 0.9950 - loss: 0.0174 - val_accuracy: 0.9942 - val_loss: 0.0226 - learning_rate: 1.2500e-04\n",
      "Epoch 48/100\n",
      "\u001B[1m921/921\u001B[0m \u001B[32m━━━━━━━━━━━━━━━━━━━━\u001B[0m\u001B[37m\u001B[0m \u001B[1m3s\u001B[0m 3ms/step - accuracy: 0.9949 - loss: 0.0174 - val_accuracy: 0.9940 - val_loss: 0.0230 - learning_rate: 1.2500e-04\n",
      "Epoch 49/100\n",
      "\u001B[1m921/921\u001B[0m \u001B[32m━━━━━━━━━━━━━━━━━━━━\u001B[0m\u001B[37m\u001B[0m \u001B[1m5s\u001B[0m 3ms/step - accuracy: 0.9950 - loss: 0.0169 - val_accuracy: 0.9934 - val_loss: 0.0241 - learning_rate: 1.2500e-04\n",
      "Epoch 50/100\n",
      "\u001B[1m921/921\u001B[0m \u001B[32m━━━━━━━━━━━━━━━━━━━━\u001B[0m\u001B[37m\u001B[0m \u001B[1m5s\u001B[0m 3ms/step - accuracy: 0.9951 - loss: 0.0170 - val_accuracy: 0.9940 - val_loss: 0.0231 - learning_rate: 1.2500e-04\n",
      "Epoch 51/100\n",
      "\u001B[1m921/921\u001B[0m \u001B[32m━━━━━━━━━━━━━━━━━━━━\u001B[0m\u001B[37m\u001B[0m \u001B[1m3s\u001B[0m 3ms/step - accuracy: 0.9948 - loss: 0.0175 - val_accuracy: 0.9941 - val_loss: 0.0224 - learning_rate: 1.2500e-04\n",
      "Epoch 52/100\n",
      "\u001B[1m919/921\u001B[0m \u001B[32m━━━━━━━━━━━━━━━━━━━\u001B[0m\u001B[37m━\u001B[0m \u001B[1m0s\u001B[0m 3ms/step - accuracy: 0.9953 - loss: 0.0170\n",
      "Epoch 52: ReduceLROnPlateau reducing learning rate to 6.25000029685907e-05.\n",
      "\u001B[1m921/921\u001B[0m \u001B[32m━━━━━━━━━━━━━━━━━━━━\u001B[0m\u001B[37m\u001B[0m \u001B[1m4s\u001B[0m 4ms/step - accuracy: 0.9952 - loss: 0.0170 - val_accuracy: 0.9939 - val_loss: 0.0233 - learning_rate: 1.2500e-04\n",
      "Epoch 53/100\n",
      "\u001B[1m921/921\u001B[0m \u001B[32m━━━━━━━━━━━━━━━━━━━━\u001B[0m\u001B[37m\u001B[0m \u001B[1m4s\u001B[0m 3ms/step - accuracy: 0.9952 - loss: 0.0170 - val_accuracy: 0.9939 - val_loss: 0.0230 - learning_rate: 6.2500e-05\n",
      "Epoch 54/100\n",
      "\u001B[1m921/921\u001B[0m \u001B[32m━━━━━━━━━━━━━━━━━━━━\u001B[0m\u001B[37m\u001B[0m \u001B[1m3s\u001B[0m 3ms/step - accuracy: 0.9953 - loss: 0.0169 - val_accuracy: 0.9939 - val_loss: 0.0232 - learning_rate: 6.2500e-05\n",
      "Epoch 55/100\n",
      "\u001B[1m921/921\u001B[0m \u001B[32m━━━━━━━━━━━━━━━━━━━━\u001B[0m\u001B[37m\u001B[0m \u001B[1m6s\u001B[0m 4ms/step - accuracy: 0.9953 - loss: 0.0162 - val_accuracy: 0.9941 - val_loss: 0.0223 - learning_rate: 6.2500e-05\n",
      "Epoch 56/100\n",
      "\u001B[1m921/921\u001B[0m \u001B[32m━━━━━━━━━━━━━━━━━━━━\u001B[0m\u001B[37m\u001B[0m \u001B[1m5s\u001B[0m 3ms/step - accuracy: 0.9956 - loss: 0.0152 - val_accuracy: 0.9943 - val_loss: 0.0225 - learning_rate: 6.2500e-05\n",
      "Epoch 57/100\n",
      "\u001B[1m921/921\u001B[0m \u001B[32m━━━━━━━━━━━━━━━━━━━━\u001B[0m\u001B[37m\u001B[0m \u001B[1m5s\u001B[0m 3ms/step - accuracy: 0.9950 - loss: 0.0163 - val_accuracy: 0.9941 - val_loss: 0.0232 - learning_rate: 6.2500e-05\n",
      "Epoch 58/100\n",
      "\u001B[1m921/921\u001B[0m \u001B[32m━━━━━━━━━━━━━━━━━━━━\u001B[0m\u001B[37m\u001B[0m \u001B[1m5s\u001B[0m 3ms/step - accuracy: 0.9952 - loss: 0.0163 - val_accuracy: 0.9941 - val_loss: 0.0231 - learning_rate: 6.2500e-05\n",
      "Epoch 59/100\n",
      "\u001B[1m921/921\u001B[0m \u001B[32m━━━━━━━━━━━━━━━━━━━━\u001B[0m\u001B[37m\u001B[0m \u001B[1m3s\u001B[0m 3ms/step - accuracy: 0.9952 - loss: 0.0170 - val_accuracy: 0.9945 - val_loss: 0.0221 - learning_rate: 6.2500e-05\n",
      "Epoch 60/100\n",
      "\u001B[1m921/921\u001B[0m \u001B[32m━━━━━━━━━━━━━━━━━━━━\u001B[0m\u001B[37m\u001B[0m \u001B[1m6s\u001B[0m 4ms/step - accuracy: 0.9953 - loss: 0.0158 - val_accuracy: 0.9947 - val_loss: 0.0220 - learning_rate: 6.2500e-05\n",
      "Epoch 61/100\n",
      "\u001B[1m921/921\u001B[0m \u001B[32m━━━━━━━━━━━━━━━━━━━━\u001B[0m\u001B[37m\u001B[0m \u001B[1m4s\u001B[0m 3ms/step - accuracy: 0.9955 - loss: 0.0154 - val_accuracy: 0.9940 - val_loss: 0.0226 - learning_rate: 6.2500e-05\n",
      "Epoch 62/100\n",
      "\u001B[1m921/921\u001B[0m \u001B[32m━━━━━━━━━━━━━━━━━━━━\u001B[0m\u001B[37m\u001B[0m \u001B[1m5s\u001B[0m 3ms/step - accuracy: 0.9955 - loss: 0.0153 - val_accuracy: 0.9947 - val_loss: 0.0213 - learning_rate: 6.2500e-05\n",
      "Epoch 63/100\n",
      "\u001B[1m921/921\u001B[0m \u001B[32m━━━━━━━━━━━━━━━━━━━━\u001B[0m\u001B[37m\u001B[0m \u001B[1m5s\u001B[0m 3ms/step - accuracy: 0.9954 - loss: 0.0157 - val_accuracy: 0.9946 - val_loss: 0.0218 - learning_rate: 6.2500e-05\n",
      "Epoch 64/100\n",
      "\u001B[1m921/921\u001B[0m \u001B[32m━━━━━━━━━━━━━━━━━━━━\u001B[0m\u001B[37m\u001B[0m \u001B[1m5s\u001B[0m 3ms/step - accuracy: 0.9958 - loss: 0.0156 - val_accuracy: 0.9943 - val_loss: 0.0224 - learning_rate: 6.2500e-05\n",
      "Epoch 65/100\n",
      "\u001B[1m911/921\u001B[0m \u001B[32m━━━━━━━━━━━━━━━━━━━\u001B[0m\u001B[37m━\u001B[0m \u001B[1m0s\u001B[0m 3ms/step - accuracy: 0.9956 - loss: 0.0155\n",
      "Epoch 65: ReduceLROnPlateau reducing learning rate to 3.125000148429535e-05.\n",
      "\u001B[1m921/921\u001B[0m \u001B[32m━━━━━━━━━━━━━━━━━━━━\u001B[0m\u001B[37m\u001B[0m \u001B[1m3s\u001B[0m 3ms/step - accuracy: 0.9956 - loss: 0.0155 - val_accuracy: 0.9943 - val_loss: 0.0223 - learning_rate: 6.2500e-05\n",
      "Epoch 66/100\n",
      "\u001B[1m921/921\u001B[0m \u001B[32m━━━━━━━━━━━━━━━━━━━━\u001B[0m\u001B[37m\u001B[0m \u001B[1m5s\u001B[0m 3ms/step - accuracy: 0.9952 - loss: 0.0172 - val_accuracy: 0.9947 - val_loss: 0.0215 - learning_rate: 3.1250e-05\n",
      "Epoch 67/100\n",
      "\u001B[1m921/921\u001B[0m \u001B[32m━━━━━━━━━━━━━━━━━━━━\u001B[0m\u001B[37m\u001B[0m \u001B[1m3s\u001B[0m 3ms/step - accuracy: 0.9952 - loss: 0.0163 - val_accuracy: 0.9946 - val_loss: 0.0211 - learning_rate: 3.1250e-05\n",
      "Epoch 68/100\n",
      "\u001B[1m921/921\u001B[0m \u001B[32m━━━━━━━━━━━━━━━━━━━━\u001B[0m\u001B[37m\u001B[0m \u001B[1m6s\u001B[0m 4ms/step - accuracy: 0.9956 - loss: 0.0156 - val_accuracy: 0.9946 - val_loss: 0.0219 - learning_rate: 3.1250e-05\n",
      "Epoch 69/100\n",
      "\u001B[1m921/921\u001B[0m \u001B[32m━━━━━━━━━━━━━━━━━━━━\u001B[0m\u001B[37m\u001B[0m \u001B[1m4s\u001B[0m 3ms/step - accuracy: 0.9954 - loss: 0.0154 - val_accuracy: 0.9943 - val_loss: 0.0224 - learning_rate: 3.1250e-05\n",
      "Epoch 70/100\n",
      "\u001B[1m911/921\u001B[0m \u001B[32m━━━━━━━━━━━━━━━━━━━\u001B[0m\u001B[37m━\u001B[0m \u001B[1m0s\u001B[0m 2ms/step - accuracy: 0.9953 - loss: 0.0162\n",
      "Epoch 70: ReduceLROnPlateau reducing learning rate to 1.5625000742147677e-05.\n",
      "\u001B[1m921/921\u001B[0m \u001B[32m━━━━━━━━━━━━━━━━━━━━\u001B[0m\u001B[37m\u001B[0m \u001B[1m3s\u001B[0m 3ms/step - accuracy: 0.9953 - loss: 0.0162 - val_accuracy: 0.9944 - val_loss: 0.0219 - learning_rate: 3.1250e-05\n",
      "Epoch 70: early stopping\n",
      "Restoring model weights from the end of the best epoch: 60.\n"
     ]
    }
   ],
   "source": [
    "history = mlp_model.fit(\n",
    "    X_train_np, y_train_np,\n",
    "    validation_data=(X_test_np, y_test_np),\n",
    "    epochs=100,\n",
    "    batch_size=256,\n",
    "    callbacks=callbacks,\n",
    "    verbose=1\n",
    ")"
   ]
  },
  {
   "cell_type": "markdown",
   "id": "30d37d16",
   "metadata": {
    "id": "30d37d16"
   },
   "source": [
    "---\n",
    "\n",
    "##    Calculate Training Time"
   ]
  },
  {
   "cell_type": "code",
   "execution_count": 12,
   "id": "8fae676f",
   "metadata": {
    "colab": {
     "base_uri": "https://localhost:8080/"
    },
    "id": "8fae676f",
    "outputId": "27877508-6328-4e8b-d024-9981c93de580"
   },
   "outputs": [
    {
     "output_type": "stream",
     "name": "stdout",
     "text": [
      "\n",
      " Training completed in 298.34 seconds\n"
     ]
    }
   ],
   "source": [
    "train_end_time = time.time()\n",
    "training_time = train_end_time - train_start_time\n",
    "\n",
    "print(f\"\\n Training completed in {training_time:.2f} seconds\")"
   ]
  },
  {
   "cell_type": "code",
   "source": [
    "print(\" Calculating training accuracy...\")\n",
    "train_pred_start = time.time()\n",
    "\n",
    "y_train_pred_proba = mlp_model.predict(X_train_np, verbose=0)\n",
    "y_train_pred = np.argmax(y_train_pred_proba, axis=1)\n",
    "\n",
    "train_pred_end = time.time()\n",
    "train_pred_time = train_pred_end - train_pred_start\n",
    "\n",
    "training_accuracy = accuracy_score(y_train_np, y_train_pred)\n",
    "\n",
    "print(f\" Training prediction completed in {train_pred_time:.2f} seconds\")\n",
    "print(f\" Training Accuracy: {training_accuracy:.4f} ({training_accuracy*100:.2f}%)\")"
   ],
   "metadata": {
    "colab": {
     "base_uri": "https://localhost:8080/"
    },
    "id": "z4SzsU657-1e",
    "outputId": "a2de4214-41b2-4a53-8be4-ffb158375cdd"
   },
   "id": "z4SzsU657-1e",
   "execution_count": 13,
   "outputs": [
    {
     "output_type": "stream",
     "name": "stdout",
     "text": [
      " Calculating training accuracy...\n",
      " Training prediction completed in 15.71 seconds\n",
      " Training Accuracy: 0.9981 (99.81%)\n"
     ]
    }
   ]
  },
  {
   "cell_type": "markdown",
   "id": "cab82fc4",
   "metadata": {
    "id": "cab82fc4"
   },
   "source": [
    "---\n",
    "\n",
    "##    Make Predictions"
   ]
  },
  {
   "cell_type": "code",
   "execution_count": 14,
   "id": "92e6b94f",
   "metadata": {
    "colab": {
     "base_uri": "https://localhost:8080/"
    },
    "id": "92e6b94f",
    "outputId": "8a5f9c80-650a-4696-f2d9-b04ef81a589d"
   },
   "outputs": [
    {
     "output_type": "stream",
     "name": "stdout",
     "text": [
      "⏱️ Testing completed in 2.20 seconds\n"
     ]
    }
   ],
   "source": [
    "test_start_time = time.time()\n",
    "\n",
    "y_pred_proba = mlp_model.predict(X_test_np, verbose=0)\n",
    "y_pred = np.argmax(y_pred_proba, axis=1)\n",
    "\n",
    "test_end_time = time.time()\n",
    "testing_time = test_end_time - test_start_time\n",
    "\n",
    "print(f\"⏱️ Testing completed in {testing_time:.2f} seconds\")"
   ]
  },
  {
   "cell_type": "markdown",
   "id": "9030179a",
   "metadata": {
    "id": "9030179a"
   },
   "source": [
    "---\n",
    "\n",
    "##    Calculate Accuracy"
   ]
  },
  {
   "cell_type": "code",
   "execution_count": 15,
   "id": "bc12c7b2",
   "metadata": {
    "colab": {
     "base_uri": "https://localhost:8080/"
    },
    "id": "bc12c7b2",
    "outputId": "3cc57f8d-2c93-4c90-f918-b57c8e8e7efd"
   },
   "outputs": [
    {
     "output_type": "stream",
     "name": "stdout",
     "text": [
      " MLP Test Accuracy: 0.9947 (99.47%)\n"
     ]
    }
   ],
   "source": [
    "test_accuracy = accuracy_score(y_test_np, y_pred)\n",
    "\n",
    "print(f\" MLP Test Accuracy: {test_accuracy:.4f} ({test_accuracy*100:.2f}%)\")"
   ]
  },
  {
   "cell_type": "markdown",
   "id": "d0122220",
   "metadata": {
    "id": "d0122220"
   },
   "source": [
    "---\n",
    "\n",
    "##    Detailed Performance Metrics"
   ]
  },
  {
   "cell_type": "code",
   "execution_count": 16,
   "id": "195603b0",
   "metadata": {
    "colab": {
     "base_uri": "https://localhost:8080/"
    },
    "id": "195603b0",
    "outputId": "8f899a56-d28e-43cf-fd8d-350fce9e5e9f"
   },
   "outputs": [
    {
     "output_type": "stream",
     "name": "stdout",
     "text": [
      " DETAILED MLP PERFORMANCE:\n",
      "========================================\n",
      "TRAINING SET:\n",
      "Accuracy:  0.9981\n",
      "Precision: 0.9981\n",
      "Recall:    0.9981\n",
      "F1-Score:  0.9981\n",
      "\n",
      "TEST SET:\n",
      "Accuracy:  0.9947\n",
      "Precision: 0.9960\n",
      "Recall:    0.9947\n",
      "F1-Score:  0.9952\n",
      "\n",
      "TIMING:\n",
      "Training time: 298.34 seconds\n",
      "Testing time: 2.20 seconds\n",
      "========================================\n"
     ]
    }
   ],
   "source": [
    "precision, recall, f1, _ = precision_recall_fscore_support(y_test_np, y_pred, average='weighted')\n",
    "train_precision, train_recall, train_f1, _ = precision_recall_fscore_support(y_train_np, y_train_pred, average='weighted')\n",
    "print(\" DETAILED MLP PERFORMANCE:\")\n",
    "print(\"=\"*40)\n",
    "print(\"TRAINING SET:\")\n",
    "print(f\"Accuracy:  {training_accuracy:.4f}\")\n",
    "print(f\"Precision: {train_precision:.4f}\")\n",
    "print(f\"Recall:    {train_recall:.4f}\")\n",
    "print(f\"F1-Score:  {train_f1:.4f}\")\n",
    "print()\n",
    "print(\"TEST SET:\")\n",
    "print(f\"Accuracy:  {test_accuracy:.4f}\")\n",
    "print(f\"Precision: {precision:.4f}\")\n",
    "print(f\"Recall:    {recall:.4f}\")\n",
    "print(f\"F1-Score:  {f1:.4f}\")\n",
    "print()\n",
    "print(\"TIMING:\")\n",
    "print(f\"Training time: {training_time:.2f} seconds\")\n",
    "print(f\"Testing time: {testing_time:.2f} seconds\")\n",
    "print(\"=\"*40)"
   ]
  },
  {
   "cell_type": "markdown",
   "id": "6263644d",
   "metadata": {
    "id": "6263644d"
   },
   "source": [
    "---\n",
    "\n",
    "##    Classification Report"
   ]
  },
  {
   "cell_type": "code",
   "execution_count": 17,
   "id": "ad4b05ca",
   "metadata": {
    "colab": {
     "base_uri": "https://localhost:8080/"
    },
    "id": "ad4b05ca",
    "outputId": "1f32cad1-b165-449e-c1d8-cc406baab1cd"
   },
   "outputs": [
    {
     "output_type": "stream",
     "name": "stdout",
     "text": [
      "📋 Detailed Classification Report:\n",
      "              precision    recall  f1-score   support\n",
      "\n",
      "           0       1.00      1.00      1.00     13778\n",
      "           1       0.99      1.00      0.99      3497\n",
      "           2       0.76      0.97      0.85       298\n",
      "           3       0.29      1.00      0.45        16\n",
      "           4       1.00      0.99      1.00     20203\n",
      "\n",
      "    accuracy                           0.99     37792\n",
      "   macro avg       0.81      0.99      0.86     37792\n",
      "weighted avg       1.00      0.99      1.00     37792\n",
      "\n"
     ]
    }
   ],
   "source": [
    "print(\"📋 Detailed Classification Report:\")\n",
    "print(classification_report(y_test_np, y_pred))"
   ]
  },
  {
   "cell_type": "code",
   "execution_count": 18,
   "id": "089c24a5",
   "metadata": {
    "colab": {
     "base_uri": "https://localhost:8080/",
     "height": 382
    },
    "id": "089c24a5",
    "outputId": "502a9a56-5614-40fc-c72f-e71e54b7c3b6"
   },
   "outputs": [
    {
     "output_type": "display_data",
     "data": {
      "text/plain": [
       "<Figure size 1200x400 with 2 Axes>"
      ],
      "image/png": "[encoded data removed]"
     },
     "metadata": {}
    }
   ],
   "source": [
    "plt.figure(figsize=(12, 4))\n",
    "plt.subplot(1, 2, 1)\n",
    "plt.plot(history.history['accuracy'], label='Training Accuracy')\n",
    "plt.plot(history.history['val_accuracy'], label='Validation Accuracy')\n",
    "plt.title('Model Accuracy')\n",
    "plt.xlabel('Epoch')\n",
    "plt.ylabel('Accuracy')\n",
    "plt.legend()\n",
    "\n",
    "plt.subplot(1, 2, 2)\n",
    "plt.plot(history.history['loss'], label='Training Loss')\n",
    "plt.plot(history.history['val_loss'], label='Validation Loss')\n",
    "plt.title('Model Loss')\n",
    "plt.xlabel('Epoch')\n",
    "plt.ylabel('Loss')\n",
    "plt.legend()\n",
    "\n",
    "plt.tight_layout()\n",
    "plt.show()"
   ]
  },
  {
   "cell_type": "markdown",
   "id": "9205e67f",
   "metadata": {
    "id": "9205e67f"
   },
   "source": [
    "---\n",
    "\n",
    "##   Summary Results"
   ]
  },
  {
   "cell_type": "code",
   "execution_count": 19,
   "id": "ffbe5878",
   "metadata": {
    "colab": {
     "base_uri": "https://localhost:8080/"
    },
    "id": "ffbe5878",
    "outputId": "0aa2fcfe-0e36-4442-f5e7-d9987709b40d"
   },
   "outputs": [
    {
     "output_type": "stream",
     "name": "stdout",
     "text": [
      " MLP NEURAL NETWORK FINAL SUMMARY:\n",
      "==================================================\n",
      "Architecture: 3 hidden layers (128→64→32)\n",
      "Total parameters: 14,085\n",
      "Training time: 298.34s\n",
      "Training accuracy: 0.9981\n",
      "Test accuracy: 0.9947\n",
      "Accuracy gap: 0.34%\n"
     ]
    }
   ],
   "source": [
    "print(\" MLP NEURAL NETWORK FINAL SUMMARY:\")\n",
    "print(\"=\"*50)\n",
    "print(f\"Architecture: 3 hidden layers (128→64→32)\")\n",
    "print(f\"Total parameters: {mlp_model.count_params():,}\")\n",
    "print(f\"Training time: {training_time:.2f}s\")\n",
    "print(f\"Training accuracy: {training_accuracy:.4f}\")\n",
    "print(f\"Test accuracy: {test_accuracy:.4f}\")\n",
    "print(f\"Accuracy gap: {(training_accuracy-test_accuracy)*100:.2f}%\")"
   ]
  }
 ],
 "metadata": {
  "jupytext": {
   "cell_metadata_filter": "-all",
   "main_language": "python",
   "notebook_metadata_filter": "-all"
  },
  "colab": {
   "provenance": [],
   "gpuType": "T4"
  },
  "accelerator": "GPU",
  "language_info": {
   "name": "python"
  },
  "kernelspec": {
   "name": "python3",
   "display_name": "Python 3"
  }
 },
 "nbformat": 4,
 "nbformat_minor": 5
}
